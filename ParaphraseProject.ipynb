{
 "cells": [
  {
   "cell_type": "markdown",
   "id": "2db4f231-981e-4eb1-8dd0-5a999b05f22f",
   "metadata": {},
   "source": [
    "# Preparing data "
   ]
  },
  {
   "cell_type": "markdown",
   "id": "fd8e9e4d",
   "metadata": {},
   "source": [
    "# Разметка\n",
    "Для разметки мы отбирали запросы следующим образом: между векторами двух запросов полученных с помощью [LaBSE](https://huggingface.co/cointegrated/LaBSE-en-ru) смотрели на косинусную близость между ними. Если она ниже 0.7, то брали в разметку толокерами. Остальные запросы считали парафразами. Также мы добавили немного синтетических данных - брали случайные запросы, и если между эмбеддингами косинусная близость меньше 0.2, то считали, что их таргет равен 0.\n",
    "\n",
    "В инструкции на Толоке мы дали определение парафразы и сформулировали несколько её критериев. Также мы привели много положительных и отрицательных примеров парафраз, чтобы свести к минимуму неясность в постановке задачи.\n",
    "Для контроля качества мы\n",
    "- банили на день толокеров, слишком быстро размечающих task suite\n",
    "- банили на день толокеров, слишком часто неправиьно отвечающих на контрольные задания\n",
    "\n",
    "(см. подробности в настройках проекта)\n",
    "\n",
    "# Обучение\n",
    "\n",
    "В качестве модели мы взяли предобученный [мультиязычный берт](https://huggingface.co/bert-base-multilingual-cased) и дообучали его в конфигурации\n",
    " - 100 эпох\n",
    " - батч 32\n",
    " - паддинг до максимальной длины в батче\n",
    " - lr=1e-5\n",
    "\n",
    "Модель достигла точности 0.95 на валидации и 0.79 в контесте\n"
   ]
  },
  {
   "cell_type": "code",
   "execution_count": 1,
   "id": "616980bc-e51b-4352-9573-c5f51b171722",
   "metadata": {
    "execution": {
     "iopub.execute_input": "2022-11-11T00:08:24.985917Z",
     "iopub.status.busy": "2022-11-11T00:08:24.985523Z",
     "iopub.status.idle": "2022-11-11T00:08:25.374149Z",
     "shell.execute_reply": "2022-11-11T00:08:25.372969Z",
     "shell.execute_reply.started": "2022-11-11T00:08:24.985820Z"
    },
    "tags": []
   },
   "outputs": [
    {
     "name": "stdout",
     "output_type": "stream",
     "text": [
      "Fri Nov 11 03:08:25 2022       \n",
      "+-----------------------------------------------------------------------------+\n",
      "| NVIDIA-SMI 470.141.03   Driver Version: 470.141.03   CUDA Version: 11.4     |\n",
      "|-------------------------------+----------------------+----------------------+\n",
      "| GPU  Name        Persistence-M| Bus-Id        Disp.A | Volatile Uncorr. ECC |\n",
      "| Fan  Temp  Perf  Pwr:Usage/Cap|         Memory-Usage | GPU-Util  Compute M. |\n",
      "|                               |                      |               MIG M. |\n",
      "|===============================+======================+======================|\n",
      "|   0  Tesla V100-PCIE...  Off  | 00000000:00:05.0 Off |                    0 |\n",
      "| N/A   34C    P0    37W / 250W |   7993MiB / 32510MiB |      0%      Default |\n",
      "|                               |                      |                  N/A |\n",
      "+-------------------------------+----------------------+----------------------+\n",
      "|   1  Tesla V100-PCIE...  Off  | 00000000:00:06.0 Off |                    0 |\n",
      "| N/A   32C    P0    36W / 250W |   2405MiB / 32510MiB |      0%      Default |\n",
      "|                               |                      |                  N/A |\n",
      "+-------------------------------+----------------------+----------------------+\n",
      "|   2  Tesla V100-PCIE...  Off  | 00000000:00:07.0 Off |                    0 |\n",
      "| N/A   33C    P0    37W / 250W |   2405MiB / 32510MiB |      0%      Default |\n",
      "|                               |                      |                  N/A |\n",
      "+-------------------------------+----------------------+----------------------+\n",
      "|   3  Tesla V100-PCIE...  Off  | 00000000:00:08.0 Off |                    0 |\n",
      "| N/A   34C    P0    36W / 250W |   2405MiB / 32510MiB |      0%      Default |\n",
      "|                               |                      |                  N/A |\n",
      "+-------------------------------+----------------------+----------------------+\n",
      "                                                                               \n",
      "+-----------------------------------------------------------------------------+\n",
      "| Processes:                                                                  |\n",
      "|  GPU   GI   CI        PID   Type   Process name                  GPU Memory |\n",
      "|        ID   ID                                                   Usage      |\n",
      "|=============================================================================|\n",
      "+-----------------------------------------------------------------------------+\n"
     ]
    }
   ],
   "source": [
    "!nvidia-smi"
   ]
  },
  {
   "cell_type": "code",
   "execution_count": 8,
   "id": "0c59c90b-fa42-49b7-867d-3463e76dc4a3",
   "metadata": {
    "execution": {
     "iopub.execute_input": "2022-11-09T22:14:06.083047Z",
     "iopub.status.busy": "2022-11-09T22:14:06.082657Z",
     "iopub.status.idle": "2022-11-09T22:14:06.243843Z",
     "shell.execute_reply": "2022-11-09T22:14:06.242570Z",
     "shell.execute_reply.started": "2022-11-09T22:14:06.083016Z"
    },
    "tags": []
   },
   "outputs": [],
   "source": [
    "!head -100 user_session_million_queries.json >> SMALL_user_session_million_queries.json"
   ]
  },
  {
   "cell_type": "code",
   "execution_count": 5,
   "id": "15268612-c5ce-455c-bbac-911357ff23a2",
   "metadata": {
    "execution": {
     "iopub.execute_input": "2022-11-09T22:12:19.926625Z",
     "iopub.status.busy": "2022-11-09T22:12:19.926282Z",
     "iopub.status.idle": "2022-11-09T22:12:35.175917Z",
     "shell.execute_reply": "2022-11-09T22:12:35.174551Z",
     "shell.execute_reply.started": "2022-11-09T22:12:19.926594Z"
    },
    "tags": []
   },
   "outputs": [
    {
     "name": "stdout",
     "output_type": "stream",
     "text": [
      "  % Total    % Received % Xferd  Average Speed   Time    Time     Time  Current\n",
      "                                 Dload  Upload   Total   Spent    Left  Speed\n",
      "  0     0    0     0    0     0      0      0 --:--:-- --:--:-- --:--:--     0\n",
      "100  574M  100  574M    0     0  39.1M      0  0:00:14  0:00:14 --:--:-- 41.7M\n"
     ]
    }
   ],
   "source": [
    "!curl -L $(yadisk-direct https://disk.yandex.ru/d/jDqKoQ_d5F2_Wg) -o user_session_million_queries.json"
   ]
  },
  {
   "cell_type": "code",
   "execution_count": 1,
   "id": "f9910de0-dc76-4308-980b-da7147d09c38",
   "metadata": {
    "execution": {
     "iopub.execute_input": "2022-11-11T00:14:10.212653Z",
     "iopub.status.busy": "2022-11-11T00:14:10.212437Z",
     "iopub.status.idle": "2022-11-11T00:14:10.722334Z",
     "shell.execute_reply": "2022-11-11T00:14:10.721425Z",
     "shell.execute_reply.started": "2022-11-11T00:14:10.212627Z"
    },
    "tags": []
   },
   "outputs": [
    {
     "name": "stdout",
     "output_type": "stream",
     "text": [
      "(3049, 3) (11901, 3) (500, 3)\n",
      "\n",
      " summaru lenght: (15450, 3)\n"
     ]
    }
   ],
   "source": [
    "import pandas as pd\n",
    "\n",
    "\n",
    "def target_renaming(x):\n",
    "    if x == 'yes':\n",
    "        return 1\n",
    "    elif x == 'no':\n",
    "        return 0\n",
    "    else:\n",
    "        raise Exception('bad target')\n",
    "        \n",
    "train_df = pd.read_csv('aggregated_results_by_ds__pool_36298501__2022_11_10.tsv', \n",
    "                       sep='\\t', index_col=None)\n",
    "train_df = train_df[['INPUT:text1', 'INPUT:text2', 'OUTPUT:result']].rename(columns={'INPUT:text1': 'text_1','INPUT:text2': 'text_2', 'OUTPUT:result': 'target'})\n",
    "\n",
    "\n",
    "train_df['target'] = train_df['target'].apply(target_renaming)\n",
    "\n",
    "\n",
    "additional_good_df = pd.read_csv('definitely_paraphrases.tsv',\n",
    "                                 sep='\\t', index_col=None).rename(columns={'prev_query': 'text_1', 'query': 'text_2'})\n",
    "additional_good_df['target'] = 1\n",
    "\n",
    "additional_bad_df = pd.read_csv('synthetic_non_paraphrases.tsv',  sep='\\t', index_col=None).rename(columns={'prev_query': 'text_1', 'query': 'text_2'})\n",
    "additional_bad_df['target'] = 0\n",
    "\n",
    "print(train_df.shape, additional_good_df.shape, additional_bad_df.shape)\n",
    "\n",
    "train_data = pd.concat([train_df, additional_good_df, additional_bad_df])\n",
    "print(f'\\n summaru lenght: {train_data.shape}')\n",
    "\n",
    "assert(train_data.shape[0] == train_df.shape[0] + additional_good_df.shape[0] + additional_bad_df.shape[0])"
   ]
  },
  {
   "cell_type": "code",
   "execution_count": 2,
   "id": "2bf75ce4-13a5-4ef9-9980-a0aae781bd51",
   "metadata": {
    "execution": {
     "iopub.execute_input": "2022-11-11T00:14:10.724524Z",
     "iopub.status.busy": "2022-11-11T00:14:10.724262Z",
     "iopub.status.idle": "2022-11-11T00:14:11.559203Z",
     "shell.execute_reply": "2022-11-11T00:14:11.558396Z",
     "shell.execute_reply.started": "2022-11-11T00:14:10.724490Z"
    },
    "tags": []
   },
   "outputs": [
    {
     "data": {
      "text/plain": [
       "<AxesSubplot:>"
      ]
     },
     "execution_count": 2,
     "metadata": {},
     "output_type": "execute_result"
    },
    {
     "data": {
      "image/png": "[encoded data removed]",
      "text/plain": [
       "<Figure size 432x288 with 1 Axes>"
      ]
     },
     "metadata": {
      "needs_background": "light"
     },
     "output_type": "display_data"
    }
   ],
   "source": [
    "train_data.target.hist()"
   ]
  },
  {
   "cell_type": "code",
   "execution_count": 3,
   "id": "4c29d4c1-98ae-4f70-9923-33898f5e4897",
   "metadata": {
    "execution": {
     "iopub.execute_input": "2022-11-11T00:14:11.560352Z",
     "iopub.status.busy": "2022-11-11T00:14:11.560175Z",
     "iopub.status.idle": "2022-11-11T00:14:11.574556Z",
     "shell.execute_reply": "2022-11-11T00:14:11.573526Z",
     "shell.execute_reply.started": "2022-11-11T00:14:11.560326Z"
    },
    "tags": []
   },
   "outputs": [
    {
     "data": {
      "text/plain": [
       "(15449, 3)"
      ]
     },
     "execution_count": 3,
     "metadata": {},
     "output_type": "execute_result"
    }
   ],
   "source": [
    "train_data.dropna(inplace=True)\n",
    "train_data.shape"
   ]
  },
  {
   "cell_type": "code",
   "execution_count": 4,
   "id": "d971a939-8883-493f-bd11-6002a03c94b1",
   "metadata": {
    "execution": {
     "iopub.execute_input": "2022-11-11T00:14:11.576149Z",
     "iopub.status.busy": "2022-11-11T00:14:11.575936Z",
     "iopub.status.idle": "2022-11-11T00:14:11.580019Z",
     "shell.execute_reply": "2022-11-11T00:14:11.578788Z",
     "shell.execute_reply.started": "2022-11-11T00:14:11.576117Z"
    },
    "tags": []
   },
   "outputs": [],
   "source": [
    "#!git clone https://github.com/anastasiya-zhiboedova/paraphrases.git"
   ]
  },
  {
   "cell_type": "code",
   "execution_count": 5,
   "id": "f47ef884-6b75-4cd6-96aa-224716164f34",
   "metadata": {
    "execution": {
     "iopub.execute_input": "2022-11-11T00:14:11.581615Z",
     "iopub.status.busy": "2022-11-11T00:14:11.581308Z",
     "iopub.status.idle": "2022-11-11T00:14:11.597084Z",
     "shell.execute_reply": "2022-11-11T00:14:11.596337Z",
     "shell.execute_reply.started": "2022-11-11T00:14:11.581588Z"
    },
    "tags": []
   },
   "outputs": [
    {
     "data": {
      "text/plain": [
       "(50, 3)"
      ]
     },
     "execution_count": 5,
     "metadata": {},
     "output_type": "execute_result"
    }
   ],
   "source": [
    "\n",
    "# user_session_million_queries_SMALL = pd.read_json('SMALL_user_session_million_queries.json', lines=True) #debug only\n",
    "# user_session_million_queries_dataset = pd.read_json('user_session_million_queries.json',  lines=True)\n",
    "\n",
    "test_data = pd.read_csv('test_dataset.csv', index_col=0).rename(columns={'query1': 'text_1', 'query2': 'text_2'})\n",
    "\n",
    "val_data = pd.read_csv('paraphrases/data/revealed_set.csv', index_col=0).rename(columns={'query1': 'text_1', 'query2': 'text_2', 'class' :'target'})\n",
    "val_data.index.name = None\n",
    "\n",
    "val_data.shape"
   ]
  },
  {
   "cell_type": "code",
   "execution_count": 6,
   "id": "258ec61c-c930-4bff-ab43-e1fea2298c80",
   "metadata": {
    "execution": {
     "iopub.execute_input": "2022-11-11T00:14:11.598260Z",
     "iopub.status.busy": "2022-11-11T00:14:11.598039Z",
     "iopub.status.idle": "2022-11-11T00:14:12.010583Z",
     "shell.execute_reply": "2022-11-11T00:14:12.009570Z",
     "shell.execute_reply.started": "2022-11-11T00:14:11.598236Z"
    },
    "tags": []
   },
   "outputs": [
    {
     "data": {
      "text/plain": [
       "((11895, 3), (3554, 3))"
      ]
     },
     "execution_count": 6,
     "metadata": {},
     "output_type": "execute_result"
    }
   ],
   "source": [
    "from sklearn.model_selection import train_test_split\n",
    "\n",
    "train_data, additional_val = train_test_split(train_data, test_size = 0.23, shuffle=True)\n",
    "train_data.shape, additional_val.shape"
   ]
  },
  {
   "cell_type": "code",
   "execution_count": 7,
   "id": "b0ad6ad4-ea43-4fe4-afe0-b0c198b051cd",
   "metadata": {
    "execution": {
     "iopub.execute_input": "2022-11-11T00:14:12.012001Z",
     "iopub.status.busy": "2022-11-11T00:14:12.011779Z",
     "iopub.status.idle": "2022-11-11T00:14:12.020014Z",
     "shell.execute_reply": "2022-11-11T00:14:12.018815Z",
     "shell.execute_reply.started": "2022-11-11T00:14:12.011973Z"
    },
    "tags": []
   },
   "outputs": [
    {
     "data": {
      "text/plain": [
       "((11895, 3), (3604, 3))"
      ]
     },
     "execution_count": 7,
     "metadata": {},
     "output_type": "execute_result"
    }
   ],
   "source": [
    "val_data = pd.concat([val_data, additional_val])\n",
    "\n",
    "train_data.shape, val_data.shape"
   ]
  },
  {
   "cell_type": "markdown",
   "id": "aef0ba40-ec8d-49a8-86ac-077a8cdce77d",
   "metadata": {},
   "source": [
    "## Modeling"
   ]
  },
  {
   "cell_type": "code",
   "execution_count": 8,
   "id": "5a20f83a-e475-4674-b128-2930c13f5e64",
   "metadata": {
    "execution": {
     "iopub.execute_input": "2022-11-11T00:14:12.021479Z",
     "iopub.status.busy": "2022-11-11T00:14:12.021209Z",
     "iopub.status.idle": "2022-11-11T00:14:15.903642Z",
     "shell.execute_reply": "2022-11-11T00:14:15.902523Z",
     "shell.execute_reply.started": "2022-11-11T00:14:12.021449Z"
    },
    "tags": []
   },
   "outputs": [],
   "source": [
    "import pandas as pd\n",
    "import matplotlib.pyplot as plt\n",
    "import numpy as np\n",
    "import random\n",
    "\n",
    "import torch\n",
    "from torch import nn\n",
    "from torch.nn import functional as F\n",
    "\n",
    "from torch.utils.data import Dataset\n",
    "from sklearn.model_selection import train_test_split\n",
    "from torch.utils.data import TensorDataset, DataLoader\n",
    "\n",
    "from IPython.display import display, clear_output\n",
    "from tqdm.notebook import tqdm\n",
    "\n",
    "from sklearn.metrics import accuracy_score, f1_score\n",
    "\n",
    "from transformers import DistilBertTokenizer\n",
    "from transformers import DistilBertForSequenceClassification\n",
    "from transformers import AdamW\n",
    "\n",
    "from torch.utils.data import DataLoader\n",
    "from transformers import get_scheduler\n",
    "\n",
    "import pytorch_lightning as pl\n",
    "\n",
    "\n",
    "device = torch.device(\"cuda\") if torch.cuda.is_available() else torch.device(\"cpu\")"
   ]
  },
  {
   "cell_type": "code",
   "execution_count": 9,
   "id": "0d7bffb7-9f58-45ad-bf41-912ea6bd07f5",
   "metadata": {
    "execution": {
     "iopub.execute_input": "2022-11-11T00:14:15.905686Z",
     "iopub.status.busy": "2022-11-11T00:14:15.905382Z",
     "iopub.status.idle": "2022-11-11T00:14:29.543890Z",
     "shell.execute_reply": "2022-11-11T00:14:29.542667Z",
     "shell.execute_reply.started": "2022-11-11T00:14:15.905648Z"
    },
    "tags": []
   },
   "outputs": [
    {
     "name": "stderr",
     "output_type": "stream",
     "text": [
      "Using cache found in /home/alekseyen/.cache/torch/hub/huggingface_pytorch-transformers_main\n",
      "Some weights of the model checkpoint at bert-base-multilingual-cased were not used when initializing BertForSequenceClassification: ['cls.seq_relationship.bias', 'cls.predictions.decoder.weight', 'cls.predictions.transform.dense.bias', 'cls.predictions.transform.dense.weight', 'cls.seq_relationship.weight', 'cls.predictions.transform.LayerNorm.bias', 'cls.predictions.transform.LayerNorm.weight', 'cls.predictions.bias']\n",
      "- This IS expected if you are initializing BertForSequenceClassification from the checkpoint of a model trained on another task or with another architecture (e.g. initializing a BertForSequenceClassification model from a BertForPreTraining model).\n",
      "- This IS NOT expected if you are initializing BertForSequenceClassification from the checkpoint of a model that you expect to be exactly identical (initializing a BertForSequenceClassification model from a BertForSequenceClassification model).\n",
      "Some weights of BertForSequenceClassification were not initialized from the model checkpoint at bert-base-multilingual-cased and are newly initialized: ['classifier.bias', 'classifier.weight']\n",
      "You should probably TRAIN this model on a down-stream task to be able to use it for predictions and inference.\n",
      "Using cache found in /home/alekseyen/.cache/torch/hub/huggingface_pytorch-transformers_main\n"
     ]
    }
   ],
   "source": [
    "model = torch.hub.load(\n",
    "    'huggingface/pytorch-transformers', \n",
    "    'modelForSequenceClassification', \n",
    "    'bert-base-multilingual-cased'\n",
    ")\n",
    "\n",
    "tokenizer = torch.hub.load(\n",
    "    'huggingface/pytorch-transformers', \n",
    "    'tokenizer', \n",
    "    'bert-base-multilingual-cased'\n",
    ")"
   ]
  },
  {
   "cell_type": "code",
   "execution_count": 10,
   "id": "8d34a1b0-3fe2-4aac-81e6-ef26fa889d66",
   "metadata": {
    "execution": {
     "iopub.execute_input": "2022-11-11T00:14:29.545613Z",
     "iopub.status.busy": "2022-11-11T00:14:29.545294Z",
     "iopub.status.idle": "2022-11-11T00:14:29.556339Z",
     "shell.execute_reply": "2022-11-11T00:14:29.555111Z",
     "shell.execute_reply.started": "2022-11-11T00:14:29.545582Z"
    },
    "tags": []
   },
   "outputs": [],
   "source": [
    "class QueriesDataset(Dataset):\n",
    "    def __init__(self, \n",
    "                 data, \n",
    "                 tokenizer,\n",
    "                 col_one = 'text_1',\n",
    "                 col_two = 'text_2',\n",
    "                 target_column='target',\n",
    "                 need_sort=True\n",
    "                ):\n",
    "        \n",
    "        self.data = data\n",
    "        self.target_column = target_column\n",
    "        self.col_one = col_one\n",
    "        self.col_two = col_two\n",
    "        \n",
    "        if need_sort:\n",
    "            self.data['summary_len'] = self.data[col_one].apply(len) + self.data[col_two].apply(len)\n",
    "            self.data.sort_values(by='summary_len', inplace=True)\n",
    "\n",
    "    def __len__(self):\n",
    "        return len(self.data)\n",
    "\n",
    "    def __getitem__(self, index):\n",
    "        results = tokenizer(\n",
    "            text = self.data.iloc[index][self.col_one], \n",
    "            text_pair = self.data.iloc[index][self.col_two], \n",
    "            add_special_tokens=True,\n",
    "            return_tensors='pt', \n",
    "            padding=\"max_length\"\n",
    "            # padding=True\n",
    "    )\n",
    "        results = {key: value.squeeze(0) for key, value in results.items()}\n",
    "        \n",
    "        if self.target_column in self.data.columns:\n",
    "            true_classes = self.data.iloc[index][self.target_column]\n",
    "            results['labels'] = torch.Tensor((1 - true_classes, true_classes))\n",
    "\n",
    "        return results\n"
   ]
  },
  {
   "cell_type": "code",
   "execution_count": 11,
   "id": "e2e709e4-4a11-4341-a4e2-bb5ea4226090",
   "metadata": {
    "execution": {
     "iopub.execute_input": "2022-11-11T00:14:29.560006Z",
     "iopub.status.busy": "2022-11-11T00:14:29.559761Z",
     "iopub.status.idle": "2022-11-11T00:14:29.609690Z",
     "shell.execute_reply": "2022-11-11T00:14:29.608693Z",
     "shell.execute_reply.started": "2022-11-11T00:14:29.559975Z"
    },
    "tags": []
   },
   "outputs": [],
   "source": [
    "train_dataset = QueriesDataset(train_data, tokenizer=tokenizer)\n",
    "\n",
    "small_test_dataset = QueriesDataset(test_data, tokenizer=tokenizer)\n",
    "# full_test_dataset = QueriesDataset(test_data, tokenizer=tokenizer) <- когда доедет пул\n",
    "val_dataset = QueriesDataset(val_data, tokenizer=tokenizer)\n",
    "\n",
    "train_dataloader = DataLoader(train_dataset, batch_size=32, shuffle=True)\n",
    "test_dataloader = DataLoader(small_test_dataset, batch_size=32, shuffle=False)\n",
    "val_dataloader = DataLoader(val_dataset, batch_size=32, shuffle=True)"
   ]
  },
  {
   "cell_type": "code",
   "execution_count": 12,
   "id": "2ffb83da-15bc-49a5-a3f8-b75dc6be51d0",
   "metadata": {
    "execution": {
     "iopub.execute_input": "2022-11-11T00:14:29.688983Z",
     "iopub.status.busy": "2022-11-11T00:14:29.688750Z",
     "iopub.status.idle": "2022-11-11T00:14:29.693007Z",
     "shell.execute_reply": "2022-11-11T00:14:29.691903Z",
     "shell.execute_reply.started": "2022-11-11T00:14:29.688947Z"
    },
    "tags": []
   },
   "outputs": [],
   "source": [
    "# train_dataset = QueriesDataset(val_dataset, tokenizer=tokenizer)\n",
    "# test_dataset = QueriesDataset(test_dataset, tokenizer=tokenizer)\n",
    "# dt = DataLoader(train_dataset, batch_size=1, shuffle=True)\n",
    "\n",
    "# model(next(iter(dt)))"
   ]
  },
  {
   "cell_type": "code",
   "execution_count": 13,
   "id": "d4cbd470-f180-437e-b55d-616dab20a8be",
   "metadata": {
    "execution": {
     "iopub.execute_input": "2022-11-11T00:14:29.694238Z",
     "iopub.status.busy": "2022-11-11T00:14:29.693990Z",
     "iopub.status.idle": "2022-11-11T00:14:29.955817Z",
     "shell.execute_reply": "2022-11-11T00:14:29.954902Z",
     "shell.execute_reply.started": "2022-11-11T00:14:29.694212Z"
    },
    "tags": []
   },
   "outputs": [],
   "source": [
    "from datasets import load_metric\n",
    "\n",
    "class BertBasedModel(pl.LightningModule):\n",
    "    def __init__(self, embeder_model, freeze_bert=False, lr=1e-5):\n",
    "        super().__init__()\n",
    "\n",
    "        self.embedder = embeder_model\n",
    "        self.lr = lr\n",
    "        self.val_metric = load_metric(\"accuracy\")\n",
    "\n",
    "    def forward(self, x):\n",
    "        return self.embedder(**x)\n",
    "\n",
    "    def training_step(self, batch):\n",
    "        train_loss = self(batch).loss\n",
    "        self.log(\"train_loss\", train_loss, prog_bar=False, logger=True)\n",
    "        \n",
    "        return train_loss\n",
    "\n",
    "    def validation_step(self, batch, batch_nb):\n",
    "        logits = self(batch).logits\n",
    "        predictions = torch.argmax(logits, dim=-1)\n",
    "        self.val_metric.add_batch(predictions= predictions, references=torch.argmax(batch[\"labels\"], dim=-1))\n",
    "        \n",
    "        val_metric = self.val_metric.compute()\n",
    "        self.log(\"val_metric\", val_metric, prog_bar=True, logger=True)\n",
    "        \n",
    "        return val_metric\n",
    "\n",
    "    def configure_optimizers(self):\n",
    "        optimizer = AdamW(self.parameters(), lr=self.lr)\n",
    "        return [optimizer]\n"
   ]
  },
  {
   "cell_type": "code",
   "execution_count": 14,
   "id": "42eb1751-8c2a-427a-a6e9-86389a299e5b",
   "metadata": {
    "execution": {
     "iopub.execute_input": "2022-11-11T00:14:29.957736Z",
     "iopub.status.busy": "2022-11-11T00:14:29.957502Z",
     "iopub.status.idle": "2022-11-11T00:14:29.961819Z",
     "shell.execute_reply": "2022-11-11T00:14:29.960951Z",
     "shell.execute_reply.started": "2022-11-11T00:14:29.957700Z"
    },
    "tags": []
   },
   "outputs": [],
   "source": [
    "# from torch.multiprocessing import Pool, Process, set_start_method\n",
    "\n",
    "# set_start_method('forkserver', force=True)"
   ]
  },
  {
   "cell_type": "code",
   "execution_count": 15,
   "id": "690d68a1-0cae-4c90-a0f2-127feb692ee3",
   "metadata": {
    "execution": {
     "iopub.execute_input": "2022-11-11T00:14:29.989267Z",
     "iopub.status.busy": "2022-11-11T00:14:29.989028Z",
     "iopub.status.idle": "2022-11-11T00:14:37.340873Z",
     "shell.execute_reply": "2022-11-11T00:14:37.339378Z",
     "shell.execute_reply.started": "2022-11-11T00:14:29.989242Z"
    },
    "tags": []
   },
   "outputs": [
    {
     "name": "stderr",
     "output_type": "stream",
     "text": [
      "Global seed set to 1337\n",
      "Using cache found in /home/alekseyen/.cache/torch/hub/huggingface_pytorch-transformers_main\n",
      "Some weights of the model checkpoint at bert-base-multilingual-cased were not used when initializing BertForSequenceClassification: ['cls.seq_relationship.bias', 'cls.predictions.decoder.weight', 'cls.predictions.transform.dense.bias', 'cls.predictions.transform.dense.weight', 'cls.seq_relationship.weight', 'cls.predictions.transform.LayerNorm.bias', 'cls.predictions.transform.LayerNorm.weight', 'cls.predictions.bias']\n",
      "- This IS expected if you are initializing BertForSequenceClassification from the checkpoint of a model trained on another task or with another architecture (e.g. initializing a BertForSequenceClassification model from a BertForPreTraining model).\n",
      "- This IS NOT expected if you are initializing BertForSequenceClassification from the checkpoint of a model that you expect to be exactly identical (initializing a BertForSequenceClassification model from a BertForSequenceClassification model).\n",
      "Some weights of BertForSequenceClassification were not initialized from the model checkpoint at bert-base-multilingual-cased and are newly initialized: ['classifier.bias', 'classifier.weight']\n",
      "You should probably TRAIN this model on a down-stream task to be able to use it for predictions and inference.\n",
      "GPU available: True (cuda), used: True\n",
      "TPU available: False, using: 0 TPU cores\n",
      "IPU available: False, using: 0 IPUs\n",
      "HPU available: False, using: 0 HPUs\n"
     ]
    }
   ],
   "source": [
    "pl.seed_everything(1337, workers=True)\n",
    "\n",
    "early_stop_callback = pl.callbacks.EarlyStopping(\n",
    "        monitor=\"val_metric\",\n",
    "        min_delta=0.0001,\n",
    "        patience=10,\n",
    "        verbose=True,\n",
    "        mode=\"max\"\n",
    "    )\n",
    "\n",
    "model = torch.hub.load(\n",
    "    'huggingface/pytorch-transformers', \n",
    "    'modelForSequenceClassification', \n",
    "    'bert-base-multilingual-cased'\n",
    ")\n",
    "\n",
    "bert_based_model = BertBasedModel(model)\n",
    "\n",
    "trainer = pl.Trainer(\n",
    "    max_epochs=100,\n",
    "    accelerator=\"gpu\",\n",
    "    devices=1,\n",
    "    callbacks=[early_stop_callback],\n",
    "    log_every_n_steps=1,\n",
    ")"
   ]
  },
  {
   "cell_type": "code",
   "execution_count": null,
   "id": "7639563f-c7a9-4397-a0c9-d208ce658a34",
   "metadata": {
    "execution": {
     "iopub.execute_input": "2022-11-11T00:14:37.342847Z",
     "iopub.status.busy": "2022-11-11T00:14:37.342599Z"
    },
    "tags": []
   },
   "outputs": [
    {
     "name": "stderr",
     "output_type": "stream",
     "text": [
      "LOCAL_RANK: 0 - CUDA_VISIBLE_DEVICES: [0,1,2,3]\n",
      "/home/alekseyen/miniconda3/envs/py39/lib/python3.9/site-packages/transformers/optimization.py:306: FutureWarning: This implementation of AdamW is deprecated and will be removed in a future version. Use the PyTorch implementation torch.optim.AdamW instead, or set `no_deprecation_warning=True` to disable this warning\n",
      "  warnings.warn(\n",
      "\n",
      "  | Name     | Type                          | Params\n",
      "-----------------------------------------------------------\n",
      "0 | embedder | BertForSequenceClassification | 177 M \n",
      "-----------------------------------------------------------\n",
      "177 M     Trainable params\n",
      "0         Non-trainable params\n",
      "177 M     Total params\n",
      "711.420   Total estimated model params size (MB)\n"
     ]
    },
    {
     "data": {
      "application/vnd.jupyter.widget-view+json": {
       "model_id": "",
       "version_major": 2,
       "version_minor": 0
      },
      "text/plain": [
       "Sanity Checking: 0it [00:00, ?it/s]"
      ]
     },
     "metadata": {},
     "output_type": "display_data"
    },
    {
     "name": "stderr",
     "output_type": "stream",
     "text": [
      "/home/alekseyen/miniconda3/envs/py39/lib/python3.9/site-packages/pytorch_lightning/trainer/connectors/data_connector.py:489: PossibleUserWarning: Your `val_dataloader`'s sampler has shuffling enabled, it is strongly recommended that you turn shuffling off for val/test/predict dataloaders.\n",
      "  rank_zero_warn(\n",
      "/home/alekseyen/miniconda3/envs/py39/lib/python3.9/site-packages/pytorch_lightning/trainer/connectors/data_connector.py:236: PossibleUserWarning: The dataloader, val_dataloader 0, does not have many workers which may be a bottleneck. Consider increasing the value of the `num_workers` argument` (try 56 which is the number of cpus on this machine) in the `DataLoader` init to improve performance.\n",
      "  rank_zero_warn(\n",
      "/home/alekseyen/miniconda3/envs/py39/lib/python3.9/site-packages/pytorch_lightning/trainer/connectors/data_connector.py:236: PossibleUserWarning: The dataloader, train_dataloader, does not have many workers which may be a bottleneck. Consider increasing the value of the `num_workers` argument` (try 56 which is the number of cpus on this machine) in the `DataLoader` init to improve performance.\n",
      "  rank_zero_warn(\n"
     ]
    },
    {
     "data": {
      "application/vnd.jupyter.widget-view+json": {
       "model_id": "01dbe0f8b365409aa26c3037a45ee46b",
       "version_major": 2,
       "version_minor": 0
      },
      "text/plain": [
       "Training: 0it [00:00, ?it/s]"
      ]
     },
     "metadata": {},
     "output_type": "display_data"
    }
   ],
   "source": [
    "trainer.fit(bert_based_model, train_dataloader, val_dataloader)"
   ]
  },
  {
   "cell_type": "code",
   "execution_count": null,
   "id": "d11445af-4bc1-4a71-bd78-7831932f1325",
   "metadata": {
    "tags": []
   },
   "outputs": [],
   "source": [
    "# %load_ext tensorboard\n",
    "# # %reload_ext tensorboard\n",
    "\n",
    "# %tensorboard --logdir /home/alekseyen/deep_vision_and_graphics/CraudNlpProject/lightning_logs"
   ]
  },
  {
   "cell_type": "code",
   "execution_count": null,
   "id": "1ab5947e-b0eb-4bc5-994d-a098b17067b2",
   "metadata": {},
   "outputs": [],
   "source": []
  },
  {
   "cell_type": "code",
   "execution_count": null,
   "id": "f8841aa3-eae0-402e-bab6-e35d8fc6b6f9",
   "metadata": {
    "tags": []
   },
   "outputs": [],
   "source": [
    "def evaluate_model(model, test_dataloader):\n",
    "    metric = load_metric(\"accuracy\")\n",
    "    progress_bar = tqdm(test_dataloader)\n",
    "    \n",
    "    model.eval()\n",
    "    for batch in progress_bar:\n",
    "        \n",
    "        with torch.no_grad():\n",
    "            outputs = model({k: v.to(device) for k, v in batch.items()})\n",
    "\n",
    "        logits = outputs.logits\n",
    "        predictions = torch.argmax(logits, dim=-1)\n",
    "        metric.add_batch(predictions=predictions, references=torch.argmax(batch[\"labels\"], dim=-1))\n",
    "        progress_bar.update(1)\n",
    "\n",
    "    progress_bar.close()\n",
    "\n",
    "    return metric.compute()\n",
    "\n",
    "evaluate_model(bert_based_model, val_dataloader) "
   ]
  },
  {
   "cell_type": "code",
   "execution_count": 33,
   "id": "f9b07cbf-9df1-4506-a687-cc4811bb72be",
   "metadata": {
    "execution": {
     "iopub.execute_input": "2022-11-10T21:53:28.488663Z",
     "iopub.status.busy": "2022-11-10T21:53:28.488263Z",
     "iopub.status.idle": "2022-11-10T21:53:28.503034Z",
     "shell.execute_reply": "2022-11-10T21:53:28.502130Z",
     "shell.execute_reply.started": "2022-11-10T21:53:28.488627Z"
    }
   },
   "outputs": [],
   "source": [
    "test_data = pd.read_csv('test_dataset.csv', index_col=0).rename(columns={'query1': 'text_1', 'query2': 'text_2'})\n",
    "final_test_dataset = QueriesDataset(test_data, tokenizer=tokenizer, need_sort=False)\n",
    "test_dataloader = DataLoader(final_test_dataset, batch_size=32, shuffle=False)"
   ]
  },
  {
   "cell_type": "code",
   "execution_count": 37,
   "id": "8521c6d3-65cf-4e61-b96a-8bdab0666345",
   "metadata": {
    "execution": {
     "iopub.execute_input": "2022-11-10T21:54:34.762169Z",
     "iopub.status.busy": "2022-11-10T21:54:34.761762Z",
     "iopub.status.idle": "2022-11-10T21:54:40.234035Z",
     "shell.execute_reply": "2022-11-10T21:54:40.233119Z",
     "shell.execute_reply.started": "2022-11-10T21:54:34.762113Z"
    },
    "tags": []
   },
   "outputs": [
    {
     "data": {
      "application/vnd.jupyter.widget-view+json": {
       "model_id": "ee91699723c14e9384613eb0f5fc61c1",
       "version_major": 2,
       "version_minor": 0
      },
      "text/plain": [
       "  0%|          | 0/16 [00:00<?, ?it/s]"
      ]
     },
     "metadata": {},
     "output_type": "display_data"
    }
   ],
   "source": [
    "progress_bar = tqdm(test_dataloader)\n",
    "\n",
    "predictions = []\n",
    "\n",
    "model.eval()\n",
    "for batch in test_dataloader:\n",
    "    with torch.no_grad():\n",
    "        outputs = bert_based_model({k: v.to(device) for k, v in batch.items()})\n",
    "\n",
    "    predictions.append(torch.argmax(outputs.logits, dim=-1).detach().cpu().numpy())\n",
    "    progress_bar.update(1)\n",
    "\n",
    "progress_bar.close()\n",
    "\n",
    "predictions = np.concatenate(predictions)"
   ]
  },
  {
   "cell_type": "code",
   "execution_count": 39,
   "id": "8c569e23-8e27-4902-b8c9-6cf9b7dbe9ec",
   "metadata": {
    "execution": {
     "iopub.execute_input": "2022-11-10T21:55:39.648017Z",
     "iopub.status.busy": "2022-11-10T21:55:39.647598Z",
     "iopub.status.idle": "2022-11-10T21:55:39.659755Z",
     "shell.execute_reply": "2022-11-10T21:55:39.658469Z",
     "shell.execute_reply.started": "2022-11-10T21:55:39.647976Z"
    },
    "tags": []
   },
   "outputs": [],
   "source": [
    "test_data['class'] = predictions\n",
    "\n",
    "test_data.rename(columns={'text_1': 'query1', 'text_2': 'query2'}).to_csv('test_dataset_LABELED.csv', index=None)"
   ]
  },
  {
   "cell_type": "code",
   "execution_count": null,
   "id": "ca5cb455-79a9-4a39-8a6b-3099eaf70dce",
   "metadata": {},
   "outputs": [],
   "source": []
  }
 ],
 "metadata": {
  "kernelspec": {
   "display_name": "Python 3 (ipykernel)",
   "language": "python",
   "name": "python3"
  },
  "language_info": {
   "codemirror_mode": {
    "name": "ipython",
    "version": 3
   },
   "file_extension": ".py",
   "mimetype": "text/x-python",
   "name": "python",
   "nbconvert_exporter": "python",
   "pygments_lexer": "ipython3",
   "version": "3.9.5"
  },
  "widgets": {
   "application/vnd.jupyter.widget-state+json": {
    "state": {
     "01dbe0f8b365409aa26c3037a45ee46b": {
      "model_module": "@jupyter-widgets/controls",
      "model_module_version": "1.4.0",
      "model_name": "HBoxModel",
      "state": {
       "_model_module_version": "1.4.0",
       "_view_module_version": "1.4.0",
       "children": [
        "IPY_MODEL_8c0efd40e9d845a8862a52266310a096",
        "IPY_MODEL_e421b237aae242dfa41ff06b231a0a42",
        "IPY_MODEL_83dbd856e1204e599e40a58d938dbc55"
       ],
       "layout": "IPY_MODEL_eda3c21c495c465b96c1b53a901cfaf6"
      }
     },
     "0571ac79ea78430f939e9163f52c6e2c": {
      "model_module": "@jupyter-widgets/base",
      "model_module_version": "1.1.0",
      "model_name": "LayoutModel",
      "state": {
       "_model_module_version": "1.1.0",
       "_view_module_version": "1.1.0",
       "flex": "2"
      }
     },
     "1984299600dc4fad8c194b772c413d4b": {
      "model_module": "@jupyter-widgets/controls",
      "model_module_version": "1.4.0",
      "model_name": "HTMLModel",
      "state": {
       "_model_module_version": "1.4.0",
       "_view_module_version": "1.4.0",
       "layout": "IPY_MODEL_ab895cd900f349a3aeac64b3c899afa4",
       "style": "IPY_MODEL_e8ceb88836b94798aeaf39b44524d995",
       "value": " 2/2 [00:01&lt;00:00,  1.55it/s]"
      }
     },
     "1e9f98f045ae4295ad1dea62e6445086": {
      "model_module": "@jupyter-widgets/controls",
      "model_module_version": "1.4.0",
      "model_name": "ProgressStyleModel",
      "state": {
       "_model_module_version": "1.4.0",
       "_view_module_version": "1.1.0",
       "description_width": ""
      }
     },
     "28302de14a054ee69c4e04e8cf9eb5f3": {
      "model_module": "@jupyter-widgets/controls",
      "model_module_version": "1.4.0",
      "model_name": "DescriptionStyleModel",
      "state": {
       "_model_module_version": "1.4.0",
       "_view_module_version": "1.1.0",
       "description_width": ""
      }
     },
     "29ad915ce1b14721bddb696c9ef12900": {
      "model_module": "@jupyter-widgets/base",
      "model_module_version": "1.1.0",
      "model_name": "LayoutModel",
      "state": {
       "_model_module_version": "1.1.0",
       "_view_module_version": "1.1.0"
      }
     },
     "2db777d8981b40ce94b85da23dffde2f": {
      "model_module": "@jupyter-widgets/base",
      "model_module_version": "1.1.0",
      "model_name": "LayoutModel",
      "state": {
       "_model_module_version": "1.1.0",
       "_view_module_version": "1.1.0",
       "flex": "2"
      }
     },
     "4bf2bdfc21554f3dbe94da77eff01ace": {
      "model_module": "@jupyter-widgets/controls",
      "model_module_version": "1.4.0",
      "model_name": "DescriptionStyleModel",
      "state": {
       "_model_module_version": "1.4.0",
       "_view_module_version": "1.1.0",
       "description_width": ""
      }
     },
     "4c8285a691d34c90ba29305e687358f4": {
      "model_module": "@jupyter-widgets/controls",
      "model_module_version": "1.4.0",
      "model_name": "FloatProgressModel",
      "state": {
       "_model_module_version": "1.4.0",
       "_view_module_version": "1.4.0",
       "layout": "IPY_MODEL_2db777d8981b40ce94b85da23dffde2f",
       "max": 2,
       "style": "IPY_MODEL_a31e0ac66e4d4127920b471a7e3d2161",
       "value": 2
      }
     },
     "5edca1e0a3494d6a8b6fe55ff7136ea8": {
      "model_module": "@jupyter-widgets/base",
      "model_module_version": "1.1.0",
      "model_name": "LayoutModel",
      "state": {
       "_model_module_version": "1.1.0",
       "_view_module_version": "1.1.0"
      }
     },
     "83dbd856e1204e599e40a58d938dbc55": {
      "model_module": "@jupyter-widgets/controls",
      "model_module_version": "1.4.0",
      "model_name": "HTMLModel",
      "state": {
       "_model_module_version": "1.4.0",
       "_view_module_version": "1.4.0",
       "layout": "IPY_MODEL_9b238ca0c39544ec95b36fd71e55f94e",
       "style": "IPY_MODEL_28302de14a054ee69c4e04e8cf9eb5f3",
       "value": " 33/485 [00:32&lt;07:31,  1.00it/s, loss=0.414, v_num=3]"
      }
     },
     "8c0efd40e9d845a8862a52266310a096": {
      "model_module": "@jupyter-widgets/controls",
      "model_module_version": "1.4.0",
      "model_name": "HTMLModel",
      "state": {
       "_model_module_version": "1.4.0",
       "_view_module_version": "1.4.0",
       "layout": "IPY_MODEL_29ad915ce1b14721bddb696c9ef12900",
       "style": "IPY_MODEL_db90b52e82c34bf794b6bec3e2188aa2",
       "value": "Epoch 0:   7%"
      }
     },
     "9b238ca0c39544ec95b36fd71e55f94e": {
      "model_module": "@jupyter-widgets/base",
      "model_module_version": "1.1.0",
      "model_name": "LayoutModel",
      "state": {
       "_model_module_version": "1.1.0",
       "_view_module_version": "1.1.0"
      }
     },
     "a31e0ac66e4d4127920b471a7e3d2161": {
      "model_module": "@jupyter-widgets/controls",
      "model_module_version": "1.4.0",
      "model_name": "ProgressStyleModel",
      "state": {
       "_model_module_version": "1.4.0",
       "_view_module_version": "1.1.0",
       "description_width": ""
      }
     },
     "ab895cd900f349a3aeac64b3c899afa4": {
      "model_module": "@jupyter-widgets/base",
      "model_module_version": "1.1.0",
      "model_name": "LayoutModel",
      "state": {
       "_model_module_version": "1.1.0",
       "_view_module_version": "1.1.0"
      }
     },
     "c2f879e9312b4b1b9316777af2214126": {
      "model_module": "@jupyter-widgets/controls",
      "model_module_version": "1.4.0",
      "model_name": "HTMLModel",
      "state": {
       "_model_module_version": "1.4.0",
       "_view_module_version": "1.4.0",
       "layout": "IPY_MODEL_5edca1e0a3494d6a8b6fe55ff7136ea8",
       "style": "IPY_MODEL_4bf2bdfc21554f3dbe94da77eff01ace",
       "value": "Sanity Checking DataLoader 0: 100%"
      }
     },
     "db90b52e82c34bf794b6bec3e2188aa2": {
      "model_module": "@jupyter-widgets/controls",
      "model_module_version": "1.4.0",
      "model_name": "DescriptionStyleModel",
      "state": {
       "_model_module_version": "1.4.0",
       "_view_module_version": "1.1.0",
       "description_width": ""
      }
     },
     "e421b237aae242dfa41ff06b231a0a42": {
      "model_module": "@jupyter-widgets/controls",
      "model_module_version": "1.4.0",
      "model_name": "FloatProgressModel",
      "state": {
       "_model_module_version": "1.4.0",
       "_view_module_version": "1.4.0",
       "layout": "IPY_MODEL_0571ac79ea78430f939e9163f52c6e2c",
       "max": 485,
       "style": "IPY_MODEL_1e9f98f045ae4295ad1dea62e6445086",
       "value": 33
      }
     },
     "e8ceb88836b94798aeaf39b44524d995": {
      "model_module": "@jupyter-widgets/controls",
      "model_module_version": "1.4.0",
      "model_name": "DescriptionStyleModel",
      "state": {
       "_model_module_version": "1.4.0",
       "_view_module_version": "1.1.0",
       "description_width": ""
      }
     },
     "eda3c21c495c465b96c1b53a901cfaf6": {
      "model_module": "@jupyter-widgets/base",
      "model_module_version": "1.1.0",
      "model_name": "LayoutModel",
      "state": {
       "_model_module_version": "1.1.0",
       "_view_module_version": "1.1.0",
       "display": "inline-flex",
       "flex_flow": "row wrap",
       "width": "100%"
      }
     },
     "f81469f2d03f4c18894d4a92a8e7922a": {
      "model_module": "@jupyter-widgets/base",
      "model_module_version": "1.1.0",
      "model_name": "LayoutModel",
      "state": {
       "_model_module_version": "1.1.0",
       "_view_module_version": "1.1.0",
       "display": "inline-flex",
       "flex_flow": "row wrap",
       "width": "100%"
      }
     }
    },
    "version_major": 2,
    "version_minor": 0
   }
  }
 },
 "nbformat": 4,
 "nbformat_minor": 5
}
