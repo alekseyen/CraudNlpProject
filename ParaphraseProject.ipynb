{
 "cells": [
  {
   "cell_type": "markdown",
   "id": "2db4f231-981e-4eb1-8dd0-5a999b05f22f",
   "metadata": {},
   "source": [
    "# Preparing data "
   ]
  },
  {
   "cell_type": "code",
   "execution_count": null,
   "id": "616980bc-e51b-4352-9573-c5f51b171722",
   "metadata": {},
   "outputs": [],
   "source": [
    "!nvidia-smi"
   ]
  },
  {
   "cell_type": "code",
   "execution_count": 8,
   "id": "0c59c90b-fa42-49b7-867d-3463e76dc4a3",
   "metadata": {
    "execution": {
     "iopub.execute_input": "2022-11-09T22:14:06.083047Z",
     "iopub.status.busy": "2022-11-09T22:14:06.082657Z",
     "iopub.status.idle": "2022-11-09T22:14:06.243843Z",
     "shell.execute_reply": "2022-11-09T22:14:06.242570Z",
     "shell.execute_reply.started": "2022-11-09T22:14:06.083016Z"
    },
    "tags": []
   },
   "outputs": [],
   "source": [
    "!head -100 user_session_million_queries.json >> SMALL_user_session_million_queries.json"
   ]
  },
  {
   "cell_type": "code",
   "execution_count": 5,
   "id": "15268612-c5ce-455c-bbac-911357ff23a2",
   "metadata": {
    "execution": {
     "iopub.execute_input": "2022-11-09T22:12:19.926625Z",
     "iopub.status.busy": "2022-11-09T22:12:19.926282Z",
     "iopub.status.idle": "2022-11-09T22:12:35.175917Z",
     "shell.execute_reply": "2022-11-09T22:12:35.174551Z",
     "shell.execute_reply.started": "2022-11-09T22:12:19.926594Z"
    },
    "tags": []
   },
   "outputs": [
    {
     "name": "stdout",
     "output_type": "stream",
     "text": [
      "  % Total    % Received % Xferd  Average Speed   Time    Time     Time  Current\n",
      "                                 Dload  Upload   Total   Spent    Left  Speed\n",
      "  0     0    0     0    0     0      0      0 --:--:-- --:--:-- --:--:--     0\n",
      "100  574M  100  574M    0     0  39.1M      0  0:00:14  0:00:14 --:--:-- 41.7M\n"
     ]
    }
   ],
   "source": [
    "!curl -L $(yadisk-direct https://disk.yandex.ru/d/jDqKoQ_d5F2_Wg) -o user_session_million_queries.json"
   ]
  },
  {
   "cell_type": "code",
   "execution_count": 1,
   "id": "f9910de0-dc76-4308-980b-da7147d09c38",
   "metadata": {
    "execution": {
     "iopub.execute_input": "2022-11-10T17:38:14.128460Z",
     "iopub.status.busy": "2022-11-10T17:38:14.128201Z",
     "iopub.status.idle": "2022-11-10T17:38:14.627552Z",
     "shell.execute_reply": "2022-11-10T17:38:14.626346Z",
     "shell.execute_reply.started": "2022-11-10T17:38:14.128393Z"
    },
    "tags": []
   },
   "outputs": [
    {
     "name": "stdout",
     "output_type": "stream",
     "text": [
      "(3049, 3) (11901, 3) (500, 3)\n",
      "\n",
      " summaru lenght: (15450, 3)\n"
     ]
    }
   ],
   "source": [
    "import pandas as pd\n",
    "\n",
    "\n",
    "def target_renaming(x):\n",
    "    if x == 'yes':\n",
    "        return 1\n",
    "    elif x == 'no':\n",
    "        return 0\n",
    "    else:\n",
    "        raise Exception('bad target')\n",
    "        \n",
    "train_df = pd.read_csv('aggregated_results_by_ds__pool_36298501__2022_11_10.tsv', \n",
    "                       sep='\\t', index_col=None)\n",
    "train_df = train_df[['INPUT:text1', 'INPUT:text2', 'OUTPUT:result']].rename(columns={'INPUT:text1': 'text_1','INPUT:text2': 'text_2', 'OUTPUT:result': 'target'})\n",
    "\n",
    "\n",
    "train_df['target'] = train_df['target'].apply(target_renaming)\n",
    "\n",
    "\n",
    "additional_good_df = pd.read_csv('definitely_paraphrases.tsv',\n",
    "                                 sep='\\t', index_col=None).rename(columns={'prev_query': 'text_1', 'query': 'text_2'})\n",
    "additional_good_df['target'] = 1\n",
    "\n",
    "additional_bad_df = pd.read_csv('synthetic_non_paraphrases.tsv',  sep='\\t', index_col=None).rename(columns={'prev_query': 'text_1', 'query': 'text_2'})\n",
    "additional_bad_df['target'] = 0\n",
    "\n",
    "print(train_df.shape, additional_good_df.shape, additional_bad_df.shape)\n",
    "\n",
    "train_data = pd.concat([train_df, additional_good_df, additional_bad_df])\n",
    "print(f'\\n summaru lenght: {train_data.shape}')\n",
    "\n",
    "assert(train_data.shape[0] == train_df.shape[0] + additional_good_df.shape[0] + additional_bad_df.shape[0])"
   ]
  },
  {
   "cell_type": "code",
   "execution_count": 2,
   "id": "2bf75ce4-13a5-4ef9-9980-a0aae781bd51",
   "metadata": {
    "execution": {
     "iopub.execute_input": "2022-11-10T17:38:14.628899Z",
     "iopub.status.busy": "2022-11-10T17:38:14.628593Z",
     "iopub.status.idle": "2022-11-10T17:38:15.512099Z",
     "shell.execute_reply": "2022-11-10T17:38:15.510902Z",
     "shell.execute_reply.started": "2022-11-10T17:38:14.628838Z"
    },
    "tags": []
   },
   "outputs": [
    {
     "data": {
      "text/plain": [
       "<AxesSubplot:>"
      ]
     },
     "execution_count": 2,
     "metadata": {},
     "output_type": "execute_result"
    },
    {
     "data": {
      "image/png": "[encoded data removed]",
      "text/plain": [
       "<Figure size 432x288 with 1 Axes>"
      ]
     },
     "metadata": {
      "needs_background": "light"
     },
     "output_type": "display_data"
    }
   ],
   "source": [
    "train_data.target.hist()"
   ]
  },
  {
   "cell_type": "code",
   "execution_count": 3,
   "id": "4c29d4c1-98ae-4f70-9923-33898f5e4897",
   "metadata": {
    "execution": {
     "iopub.execute_input": "2022-11-10T17:38:15.513626Z",
     "iopub.status.busy": "2022-11-10T17:38:15.513330Z",
     "iopub.status.idle": "2022-11-10T17:38:15.529976Z",
     "shell.execute_reply": "2022-11-10T17:38:15.528800Z",
     "shell.execute_reply.started": "2022-11-10T17:38:15.513582Z"
    },
    "tags": []
   },
   "outputs": [
    {
     "data": {
      "text/plain": [
       "(15449, 3)"
      ]
     },
     "execution_count": 3,
     "metadata": {},
     "output_type": "execute_result"
    }
   ],
   "source": [
    "train_data.dropna(inplace=True)\n",
    "train_data.shape"
   ]
  },
  {
   "cell_type": "code",
   "execution_count": 4,
   "id": "d971a939-8883-493f-bd11-6002a03c94b1",
   "metadata": {
    "execution": {
     "iopub.execute_input": "2022-11-10T17:38:15.532747Z",
     "iopub.status.busy": "2022-11-10T17:38:15.532546Z",
     "iopub.status.idle": "2022-11-10T17:38:15.538043Z",
     "shell.execute_reply": "2022-11-10T17:38:15.536705Z",
     "shell.execute_reply.started": "2022-11-10T17:38:15.532715Z"
    },
    "tags": []
   },
   "outputs": [],
   "source": [
    "#!git clone https://github.com/anastasiya-zhiboedova/paraphrases.git"
   ]
  },
  {
   "cell_type": "code",
   "execution_count": 5,
   "id": "f47ef884-6b75-4cd6-96aa-224716164f34",
   "metadata": {
    "execution": {
     "iopub.execute_input": "2022-11-10T17:38:15.539722Z",
     "iopub.status.busy": "2022-11-10T17:38:15.539478Z",
     "iopub.status.idle": "2022-11-10T17:38:15.557196Z",
     "shell.execute_reply": "2022-11-10T17:38:15.556355Z",
     "shell.execute_reply.started": "2022-11-10T17:38:15.539689Z"
    },
    "tags": []
   },
   "outputs": [
    {
     "data": {
      "text/plain": [
       "(50, 3)"
      ]
     },
     "execution_count": 5,
     "metadata": {},
     "output_type": "execute_result"
    }
   ],
   "source": [
    "\n",
    "# user_session_million_queries_SMALL = pd.read_json('SMALL_user_session_million_queries.json', lines=True) #debug only\n",
    "# user_session_million_queries_dataset = pd.read_json('user_session_million_queries.json',  lines=True)\n",
    "\n",
    "test_data = pd.read_csv('test_dataset.csv', index_col=0).rename(columns={'query1': 'text_1', 'query2': 'text_2'})\n",
    "\n",
    "val_data = pd.read_csv('paraphrases/data/revealed_set.csv', index_col=0).rename(columns={'query1': 'text_1', 'query2': 'text_2', 'class' :'target'})\n",
    "val_data.index.name = None\n",
    "\n",
    "val_data.shape"
   ]
  },
  {
   "cell_type": "code",
   "execution_count": 6,
   "id": "258ec61c-c930-4bff-ab43-e1fea2298c80",
   "metadata": {
    "execution": {
     "iopub.execute_input": "2022-11-10T17:38:15.558549Z",
     "iopub.status.busy": "2022-11-10T17:38:15.558296Z",
     "iopub.status.idle": "2022-11-10T17:38:15.974089Z",
     "shell.execute_reply": "2022-11-10T17:38:15.973218Z",
     "shell.execute_reply.started": "2022-11-10T17:38:15.558519Z"
    },
    "tags": []
   },
   "outputs": [
    {
     "data": {
      "text/plain": [
       "((13131, 3), (2318, 3))"
      ]
     },
     "execution_count": 6,
     "metadata": {},
     "output_type": "execute_result"
    }
   ],
   "source": [
    "from sklearn.model_selection import train_test_split\n",
    "\n",
    "train_data, additional_val = train_test_split(train_data, test_size = 0.15, shuffle=True)\n",
    "train_data.shape, additional_val.shape"
   ]
  },
  {
   "cell_type": "code",
   "execution_count": 7,
   "id": "b0ad6ad4-ea43-4fe4-afe0-b0c198b051cd",
   "metadata": {
    "execution": {
     "iopub.execute_input": "2022-11-10T17:38:15.975919Z",
     "iopub.status.busy": "2022-11-10T17:38:15.975660Z",
     "iopub.status.idle": "2022-11-10T17:38:15.984188Z",
     "shell.execute_reply": "2022-11-10T17:38:15.983238Z",
     "shell.execute_reply.started": "2022-11-10T17:38:15.975878Z"
    },
    "tags": []
   },
   "outputs": [
    {
     "data": {
      "text/plain": [
       "((13131, 3), (2368, 3))"
      ]
     },
     "execution_count": 7,
     "metadata": {},
     "output_type": "execute_result"
    }
   ],
   "source": [
    "val_data = pd.concat([val_data, additional_val])\n",
    "\n",
    "train_data.shape, val_data.shape"
   ]
  },
  {
   "cell_type": "markdown",
   "id": "aef0ba40-ec8d-49a8-86ac-077a8cdce77d",
   "metadata": {},
   "source": [
    "## Modeling"
   ]
  },
  {
   "cell_type": "code",
   "execution_count": 8,
   "id": "5a20f83a-e475-4674-b128-2930c13f5e64",
   "metadata": {
    "execution": {
     "iopub.execute_input": "2022-11-10T17:38:15.991325Z",
     "iopub.status.busy": "2022-11-10T17:38:15.991066Z",
     "iopub.status.idle": "2022-11-10T17:38:20.410571Z",
     "shell.execute_reply": "2022-11-10T17:38:20.409572Z",
     "shell.execute_reply.started": "2022-11-10T17:38:15.991273Z"
    },
    "tags": []
   },
   "outputs": [],
   "source": [
    "import pandas as pd\n",
    "import matplotlib.pyplot as plt\n",
    "import numpy as np\n",
    "import random\n",
    "\n",
    "import torch\n",
    "from torch import nn\n",
    "from torch.nn import functional as F\n",
    "\n",
    "from torch.utils.data import Dataset\n",
    "from sklearn.model_selection import train_test_split\n",
    "from torch.utils.data import TensorDataset, DataLoader\n",
    "\n",
    "from IPython.display import display, clear_output\n",
    "from tqdm.notebook import tqdm\n",
    "\n",
    "from sklearn.metrics import accuracy_score, f1_score\n",
    "\n",
    "from transformers import DistilBertTokenizer\n",
    "from transformers import DistilBertForSequenceClassification\n",
    "from transformers import AdamW\n",
    "\n",
    "from torch.utils.data import DataLoader\n",
    "from transformers import get_scheduler\n",
    "\n",
    "import pytorch_lightning as pl\n",
    "\n",
    "\n",
    "device = torch.device(\"cuda\") if torch.cuda.is_available() else torch.device(\"cpu\")"
   ]
  },
  {
   "cell_type": "code",
   "execution_count": 9,
   "id": "0d7bffb7-9f58-45ad-bf41-912ea6bd07f5",
   "metadata": {
    "execution": {
     "iopub.execute_input": "2022-11-10T17:38:20.412163Z",
     "iopub.status.busy": "2022-11-10T17:38:20.411930Z",
     "iopub.status.idle": "2022-11-10T17:38:55.929316Z",
     "shell.execute_reply": "2022-11-10T17:38:55.927909Z",
     "shell.execute_reply.started": "2022-11-10T17:38:20.412123Z"
    },
    "tags": []
   },
   "outputs": [
    {
     "name": "stderr",
     "output_type": "stream",
     "text": [
      "Using cache found in /home/alekseyen/.cache/torch/hub/huggingface_pytorch-transformers_main\n",
      "Some weights of the model checkpoint at bert-base-multilingual-cased were not used when initializing BertForSequenceClassification: ['cls.predictions.transform.LayerNorm.weight', 'cls.seq_relationship.weight', 'cls.predictions.bias', 'cls.predictions.decoder.weight', 'cls.predictions.transform.LayerNorm.bias', 'cls.seq_relationship.bias', 'cls.predictions.transform.dense.bias', 'cls.predictions.transform.dense.weight']\n",
      "- This IS expected if you are initializing BertForSequenceClassification from the checkpoint of a model trained on another task or with another architecture (e.g. initializing a BertForSequenceClassification model from a BertForPreTraining model).\n",
      "- This IS NOT expected if you are initializing BertForSequenceClassification from the checkpoint of a model that you expect to be exactly identical (initializing a BertForSequenceClassification model from a BertForSequenceClassification model).\n",
      "Some weights of BertForSequenceClassification were not initialized from the model checkpoint at bert-base-multilingual-cased and are newly initialized: ['classifier.bias', 'classifier.weight']\n",
      "You should probably TRAIN this model on a down-stream task to be able to use it for predictions and inference.\n",
      "Using cache found in /home/alekseyen/.cache/torch/hub/huggingface_pytorch-transformers_main\n"
     ]
    }
   ],
   "source": [
    "model = torch.hub.load(\n",
    "    'huggingface/pytorch-transformers', \n",
    "    'modelForSequenceClassification', \n",
    "    'bert-base-multilingual-cased'\n",
    ")\n",
    "\n",
    "tokenizer = torch.hub.load(\n",
    "    'huggingface/pytorch-transformers', \n",
    "    'tokenizer', \n",
    "    'bert-base-multilingual-cased'\n",
    ")"
   ]
  },
  {
   "cell_type": "code",
   "execution_count": 10,
   "id": "8d34a1b0-3fe2-4aac-81e6-ef26fa889d66",
   "metadata": {
    "execution": {
     "iopub.execute_input": "2022-11-10T17:38:55.930946Z",
     "iopub.status.busy": "2022-11-10T17:38:55.930734Z",
     "iopub.status.idle": "2022-11-10T17:38:55.941885Z",
     "shell.execute_reply": "2022-11-10T17:38:55.940830Z",
     "shell.execute_reply.started": "2022-11-10T17:38:55.930910Z"
    },
    "tags": []
   },
   "outputs": [],
   "source": [
    "class QueriesDataset(Dataset):\n",
    "    def __init__(self, \n",
    "                 data, \n",
    "                 tokenizer,\n",
    "                 col_one = 'text_1',\n",
    "                 col_two = 'text_2',\n",
    "                 target_column='target',\n",
    "                 need_sort=True\n",
    "                ):\n",
    "        \n",
    "        self.data = data\n",
    "        self.target_column = target_column\n",
    "        self.col_one = col_one\n",
    "        self.col_two = col_two\n",
    "        \n",
    "        if need_sort:\n",
    "            self.data['summary_len'] = self.data[col_one].apply(len) + self.data[col_two].apply(len)\n",
    "            self.data.sort_values(by='summary_len', inplace=True)\n",
    "\n",
    "    def __len__(self):\n",
    "        return len(self.data)\n",
    "\n",
    "    def __getitem__(self, index):\n",
    "        results = tokenizer(\n",
    "            text = self.data.iloc[index][self.col_one], \n",
    "            text_pair = self.data.iloc[index][self.col_two], \n",
    "            add_special_tokens=True,\n",
    "            return_tensors='pt', \n",
    "            padding=\"max_length\"\n",
    "            # padding=True\n",
    "    )\n",
    "        results = {key: value.squeeze(0) for key, value in results.items()}\n",
    "        \n",
    "        if self.target_column in self.data.columns:\n",
    "            true_classes = self.data.iloc[index][self.target_column]\n",
    "            results['labels'] = torch.Tensor((1 - true_classes, true_classes))\n",
    "\n",
    "        return results\n"
   ]
  },
  {
   "cell_type": "code",
   "execution_count": 43,
   "id": "e2e709e4-4a11-4341-a4e2-bb5ea4226090",
   "metadata": {
    "execution": {
     "iopub.execute_input": "2022-11-10T22:10:14.938485Z",
     "iopub.status.busy": "2022-11-10T22:10:14.937577Z",
     "iopub.status.idle": "2022-11-10T22:10:14.964489Z",
     "shell.execute_reply": "2022-11-10T22:10:14.963690Z",
     "shell.execute_reply.started": "2022-11-10T22:10:14.938443Z"
    },
    "tags": []
   },
   "outputs": [],
   "source": [
    "train_dataset = QueriesDataset(train_data, tokenizer=tokenizer)\n",
    "\n",
    "small_test_dataset = QueriesDataset(test_data, tokenizer=tokenizer)\n",
    "# full_test_dataset = QueriesDataset(test_data, tokenizer=tokenizer) <- когда доедет пул\n",
    "val_dataset = QueriesDataset(val_data, tokenizer=tokenizer)\n",
    "\n",
    "train_dataloader = DataLoader(train_dataset, batch_size=32, shuffle=True)\n",
    "test_dataloader = DataLoader(small_test_dataset, batch_size=32, shuffle=False)\n",
    "val_dataloader = DataLoader(val_dataset, batch_size=32, shuffle=True)"
   ]
  },
  {
   "cell_type": "code",
   "execution_count": 12,
   "id": "2ffb83da-15bc-49a5-a3f8-b75dc6be51d0",
   "metadata": {
    "execution": {
     "iopub.execute_input": "2022-11-10T17:38:55.995904Z",
     "iopub.status.busy": "2022-11-10T17:38:55.995679Z",
     "iopub.status.idle": "2022-11-10T17:38:56.010403Z",
     "shell.execute_reply": "2022-11-10T17:38:56.009244Z",
     "shell.execute_reply.started": "2022-11-10T17:38:55.995870Z"
    },
    "tags": []
   },
   "outputs": [],
   "source": [
    "# train_dataset = QueriesDataset(val_dataset, tokenizer=tokenizer)\n",
    "# test_dataset = QueriesDataset(test_dataset, tokenizer=tokenizer)\n",
    "# dt = DataLoader(train_dataset, batch_size=1, shuffle=True)\n",
    "\n",
    "# model(next(iter(dt)))"
   ]
  },
  {
   "cell_type": "code",
   "execution_count": 44,
   "id": "d4cbd470-f180-437e-b55d-616dab20a8be",
   "metadata": {
    "execution": {
     "iopub.execute_input": "2022-11-10T22:10:21.553678Z",
     "iopub.status.busy": "2022-11-10T22:10:21.552831Z",
     "iopub.status.idle": "2022-11-10T22:10:21.564073Z",
     "shell.execute_reply": "2022-11-10T22:10:21.563279Z",
     "shell.execute_reply.started": "2022-11-10T22:10:21.553634Z"
    },
    "tags": []
   },
   "outputs": [],
   "source": [
    "from datasets import load_metric\n",
    "\n",
    "class BertBasedModel(pl.LightningModule):\n",
    "    def __init__(self, embeder_model, freeze_bert=False, lr=1e-5):\n",
    "        super().__init__()\n",
    "\n",
    "        self.embedder = embeder_model\n",
    "        self.lr = lr\n",
    "        self.val_metric = load_metric(\"accuracy\")\n",
    "\n",
    "    def forward(self, x):\n",
    "        return self.embedder(**x)\n",
    "\n",
    "    def training_step(self, batch):\n",
    "        train_loss = self(batch).loss\n",
    "        self.log(\"train_loss\", train_loss, prog_bar=False, logger=True)\n",
    "        \n",
    "        return train_loss\n",
    "\n",
    "    def validation_step(self, batch, batch_nb):\n",
    "        logits = self(batch).logits\n",
    "        predictions = torch.argmax(logits, dim=-1)\n",
    "        self.val_metric.add_batch(predictions= predictions, references=torch.argmax(batch[\"labels\"], dim=-1))\n",
    "        \n",
    "        val_metric = self.val_metric.compute()\n",
    "        self.log(\"val_metric\", val_metric, prog_bar=True, logger=True)\n",
    "        \n",
    "        return val_metric\n",
    "\n",
    "    def configure_optimizers(self):\n",
    "        optimizer = AdamW(self.parameters(), lr=self.lr)\n",
    "        return [optimizer]\n"
   ]
  },
  {
   "cell_type": "code",
   "execution_count": null,
   "id": "690d68a1-0cae-4c90-a0f2-127feb692ee3",
   "metadata": {
    "execution": {
     "iopub.execute_input": "2022-11-10T22:10:23.802656Z",
     "iopub.status.busy": "2022-11-10T22:10:23.801569Z"
    },
    "tags": []
   },
   "outputs": [
    {
     "name": "stderr",
     "output_type": "stream",
     "text": [
      "Global seed set to 1337\n",
      "Using cache found in /home/alekseyen/.cache/torch/hub/huggingface_pytorch-transformers_main\n",
      "Some weights of the model checkpoint at bert-base-multilingual-cased were not used when initializing BertForSequenceClassification: ['cls.predictions.transform.LayerNorm.weight', 'cls.seq_relationship.weight', 'cls.predictions.bias', 'cls.predictions.decoder.weight', 'cls.predictions.transform.LayerNorm.bias', 'cls.seq_relationship.bias', 'cls.predictions.transform.dense.bias', 'cls.predictions.transform.dense.weight']\n",
      "- This IS expected if you are initializing BertForSequenceClassification from the checkpoint of a model trained on another task or with another architecture (e.g. initializing a BertForSequenceClassification model from a BertForPreTraining model).\n",
      "- This IS NOT expected if you are initializing BertForSequenceClassification from the checkpoint of a model that you expect to be exactly identical (initializing a BertForSequenceClassification model from a BertForSequenceClassification model).\n",
      "Some weights of BertForSequenceClassification were not initialized from the model checkpoint at bert-base-multilingual-cased and are newly initialized: ['classifier.bias', 'classifier.weight']\n",
      "You should probably TRAIN this model on a down-stream task to be able to use it for predictions and inference.\n",
      "/home/alekseyen/miniconda3/envs/py39/lib/python3.9/site-packages/pytorch_lightning/trainer/connectors/accelerator_connector.py:447: LightningDeprecationWarning: Setting `Trainer(gpus=1)` is deprecated in v1.7 and will be removed in v2.0. Please use `Trainer(accelerator='gpu', devices=1)` instead.\n",
      "  rank_zero_deprecation(\n"
     ]
    },
    {
     "name": "stdout",
     "output_type": "stream",
     "text": [
      "huggingface/tokenizers: The current process just got forked, after parallelism has already been used. Disabling parallelism to avoid deadlocks...\n",
      "To disable this warning, you can either:\n",
      "\t- Avoid using `tokenizers` before the fork if possible\n",
      "\t- Explicitly set the environment variable TOKENIZERS_PARALLELISM=(true | false)\n",
      "huggingface/tokenizers: The current process just got forked, after parallelism has already been used. Disabling parallelism to avoid deadlocks...\n",
      "To disable this warning, you can either:\n",
      "\t- Avoid using `tokenizers` before the fork if possible\n",
      "\t- Explicitly set the environment variable TOKENIZERS_PARALLELISM=(true | false)\n"
     ]
    },
    {
     "name": "stderr",
     "output_type": "stream",
     "text": [
      "GPU available: True (cuda), used: True\n",
      "TPU available: False, using: 0 TPU cores\n",
      "IPU available: False, using: 0 IPUs\n",
      "HPU available: False, using: 0 HPUs\n"
     ]
    },
    {
     "name": "stdout",
     "output_type": "stream",
     "text": [
      "huggingface/tokenizers: The current process just got forked, after parallelism has already been used. Disabling parallelism to avoid deadlocks...\n",
      "To disable this warning, you can either:\n",
      "\t- Avoid using `tokenizers` before the fork if possible\n",
      "\t- Explicitly set the environment variable TOKENIZERS_PARALLELISM=(true | false)\n",
      "huggingface/tokenizers: The current process just got forked, after parallelism has already been used. Disabling parallelism to avoid deadlocks...\n",
      "To disable this warning, you can either:\n",
      "\t- Avoid using `tokenizers` before the fork if possible\n",
      "\t- Explicitly set the environment variable TOKENIZERS_PARALLELISM=(true | false)\n"
     ]
    },
    {
     "name": "stderr",
     "output_type": "stream",
     "text": [
      "LOCAL_RANK: 0 - CUDA_VISIBLE_DEVICES: [0,1,2,3]\n"
     ]
    },
    {
     "name": "stdout",
     "output_type": "stream",
     "text": [
      "huggingface/tokenizers: The current process just got forked, after parallelism has already been used. Disabling parallelism to avoid deadlocks...\n",
      "To disable this warning, you can either:\n",
      "\t- Avoid using `tokenizers` before the fork if possible\n",
      "\t- Explicitly set the environment variable TOKENIZERS_PARALLELISM=(true | false)\n"
     ]
    },
    {
     "name": "stderr",
     "output_type": "stream",
     "text": [
      "/home/alekseyen/miniconda3/envs/py39/lib/python3.9/site-packages/transformers/optimization.py:306: FutureWarning: This implementation of AdamW is deprecated and will be removed in a future version. Use the PyTorch implementation torch.optim.AdamW instead, or set `no_deprecation_warning=True` to disable this warning\n",
      "  warnings.warn(\n",
      "\n",
      "  | Name     | Type                          | Params\n",
      "-----------------------------------------------------------\n",
      "0 | embedder | BertForSequenceClassification | 177 M \n",
      "-----------------------------------------------------------\n",
      "177 M     Trainable params\n",
      "0         Non-trainable params\n",
      "177 M     Total params\n",
      "711.420   Total estimated model params size (MB)\n"
     ]
    },
    {
     "data": {
      "application/vnd.jupyter.widget-view+json": {
       "model_id": "",
       "version_major": 2,
       "version_minor": 0
      },
      "text/plain": [
       "Sanity Checking: 0it [00:00, ?it/s]"
      ]
     },
     "metadata": {},
     "output_type": "display_data"
    },
    {
     "name": "stderr",
     "output_type": "stream",
     "text": [
      "/home/alekseyen/miniconda3/envs/py39/lib/python3.9/site-packages/pytorch_lightning/trainer/connectors/data_connector.py:489: PossibleUserWarning: Your `val_dataloader`'s sampler has shuffling enabled, it is strongly recommended that you turn shuffling off for val/test/predict dataloaders.\n",
      "  rank_zero_warn(\n",
      "/home/alekseyen/miniconda3/envs/py39/lib/python3.9/site-packages/pytorch_lightning/trainer/connectors/data_connector.py:236: PossibleUserWarning: The dataloader, val_dataloader 0, does not have many workers which may be a bottleneck. Consider increasing the value of the `num_workers` argument` (try 56 which is the number of cpus on this machine) in the `DataLoader` init to improve performance.\n",
      "  rank_zero_warn(\n",
      "/home/alekseyen/miniconda3/envs/py39/lib/python3.9/site-packages/pytorch_lightning/trainer/connectors/data_connector.py:236: PossibleUserWarning: The dataloader, train_dataloader, does not have many workers which may be a bottleneck. Consider increasing the value of the `num_workers` argument` (try 56 which is the number of cpus on this machine) in the `DataLoader` init to improve performance.\n",
      "  rank_zero_warn(\n"
     ]
    },
    {
     "data": {
      "application/vnd.jupyter.widget-view+json": {
       "model_id": "3ac2c5f44c0e45f49b87bebd0806c104",
       "version_major": 2,
       "version_minor": 0
      },
      "text/plain": [
       "Training: 0it [00:00, ?it/s]"
      ]
     },
     "metadata": {},
     "output_type": "display_data"
    }
   ],
   "source": [
    "pl.seed_everything(1337, workers=True)\n",
    "\n",
    "early_stop_callback = pl.callbacks.EarlyStopping(\n",
    "        monitor=\"val_loss\",\n",
    "        min_delta=0.0001,\n",
    "        patience=3,\n",
    "        verbose=True,\n",
    "        mode=\"min\"\n",
    "    )\n",
    "\n",
    "model = torch.hub.load(\n",
    "    'huggingface/pytorch-transformers', \n",
    "    'modelForSequenceClassification', \n",
    "    'bert-base-multilingual-cased'\n",
    ")\n",
    "\n",
    "bert_based_model = BertBasedModel(model)\n",
    "\n",
    "trainer = pl.Trainer(\n",
    "    max_epochs=100,\n",
    "    gpus=1,\n",
    "    # callbacks=[early_stop_callback],\n",
    "    log_every_n_steps=1\n",
    ")\n",
    "\n",
    "trainer.fit(bert_based_model, train_dataloader, val_dataloader)"
   ]
  },
  {
   "cell_type": "code",
   "execution_count": 26,
   "id": "d11445af-4bc1-4a71-bd78-7831932f1325",
   "metadata": {
    "execution": {
     "iopub.execute_input": "2022-11-10T21:51:20.313662Z",
     "iopub.status.busy": "2022-11-10T21:51:20.313456Z",
     "iopub.status.idle": "2022-11-10T21:51:20.318838Z",
     "shell.execute_reply": "2022-11-10T21:51:20.317942Z",
     "shell.execute_reply.started": "2022-11-10T21:51:20.313630Z"
    },
    "tags": []
   },
   "outputs": [],
   "source": [
    "# %load_ext tensorboard\n",
    "# # %reload_ext tensorboard\n",
    "\n",
    "# %tensorboard --logdir /home/alekseyen/deep_vision_and_graphics/CraudNlpProject/lightning_logs"
   ]
  },
  {
   "cell_type": "code",
   "execution_count": null,
   "id": "1ab5947e-b0eb-4bc5-994d-a098b17067b2",
   "metadata": {},
   "outputs": [],
   "source": []
  },
  {
   "cell_type": "code",
   "execution_count": 32,
   "id": "f8841aa3-eae0-402e-bab6-e35d8fc6b6f9",
   "metadata": {
    "execution": {
     "iopub.execute_input": "2022-11-10T21:52:47.938855Z",
     "iopub.status.busy": "2022-11-10T21:52:47.938531Z",
     "iopub.status.idle": "2022-11-10T21:53:20.360971Z",
     "shell.execute_reply": "2022-11-10T21:53:20.359875Z",
     "shell.execute_reply.started": "2022-11-10T21:52:47.938815Z"
    },
    "tags": []
   },
   "outputs": [
    {
     "data": {
      "application/vnd.jupyter.widget-view+json": {
       "model_id": "b27d94edae23435084583b1005497992",
       "version_major": 2,
       "version_minor": 0
      },
      "text/plain": [
       "  0%|          | 0/74 [00:00<?, ?it/s]"
      ]
     },
     "metadata": {},
     "output_type": "display_data"
    },
    {
     "data": {
      "text/plain": [
       "{'accuracy': 0.9569256756756757}"
      ]
     },
     "execution_count": 32,
     "metadata": {},
     "output_type": "execute_result"
    }
   ],
   "source": [
    "\n",
    "\n",
    "def evaluate_model(model, test_dataloader):\n",
    "    metric = load_metric(\"accuracy\")\n",
    "    progress_bar = tqdm(test_dataloader)\n",
    "    \n",
    "    model.eval()\n",
    "    for batch in progress_bar:\n",
    "        \n",
    "        with torch.no_grad():\n",
    "            outputs = model({k: v.to(device) for k, v in batch.items()})\n",
    "\n",
    "        logits = outputs.logits\n",
    "        predictions = torch.argmax(logits, dim=-1)\n",
    "        metric.add_batch(predictions=predictions, references=torch.argmax(batch[\"labels\"], dim=-1))\n",
    "        progress_bar.update(1)\n",
    "\n",
    "    progress_bar.close()\n",
    "\n",
    "    return metric.compute()\n",
    "\n",
    "evaluate_model(bert_based_model, val_dataloader) "
   ]
  },
  {
   "cell_type": "code",
   "execution_count": 33,
   "id": "f9b07cbf-9df1-4506-a687-cc4811bb72be",
   "metadata": {
    "execution": {
     "iopub.execute_input": "2022-11-10T21:53:28.488663Z",
     "iopub.status.busy": "2022-11-10T21:53:28.488263Z",
     "iopub.status.idle": "2022-11-10T21:53:28.503034Z",
     "shell.execute_reply": "2022-11-10T21:53:28.502130Z",
     "shell.execute_reply.started": "2022-11-10T21:53:28.488627Z"
    }
   },
   "outputs": [],
   "source": [
    "test_data = pd.read_csv('test_dataset.csv', index_col=0).rename(columns={'query1': 'text_1', 'query2': 'text_2'})\n",
    "final_test_dataset = QueriesDataset(test_data, tokenizer=tokenizer, need_sort=False)\n",
    "test_dataloader = DataLoader(final_test_dataset, batch_size=32, shuffle=False)"
   ]
  },
  {
   "cell_type": "code",
   "execution_count": 37,
   "id": "8521c6d3-65cf-4e61-b96a-8bdab0666345",
   "metadata": {
    "execution": {
     "iopub.execute_input": "2022-11-10T21:54:34.762169Z",
     "iopub.status.busy": "2022-11-10T21:54:34.761762Z",
     "iopub.status.idle": "2022-11-10T21:54:40.234035Z",
     "shell.execute_reply": "2022-11-10T21:54:40.233119Z",
     "shell.execute_reply.started": "2022-11-10T21:54:34.762113Z"
    },
    "tags": []
   },
   "outputs": [
    {
     "data": {
      "application/vnd.jupyter.widget-view+json": {
       "model_id": "ee91699723c14e9384613eb0f5fc61c1",
       "version_major": 2,
       "version_minor": 0
      },
      "text/plain": [
       "  0%|          | 0/16 [00:00<?, ?it/s]"
      ]
     },
     "metadata": {},
     "output_type": "display_data"
    }
   ],
   "source": [
    "progress_bar = tqdm(test_dataloader)\n",
    "\n",
    "predictions = []\n",
    "\n",
    "model.eval()\n",
    "for batch in test_dataloader:\n",
    "    with torch.no_grad():\n",
    "        outputs = bert_based_model({k: v.to(device) for k, v in batch.items()})\n",
    "\n",
    "    predictions.append(torch.argmax(outputs.logits, dim=-1).detach().cpu().numpy())\n",
    "    progress_bar.update(1)\n",
    "\n",
    "progress_bar.close()\n",
    "\n",
    "predictions = np.concatenate(predictions)"
   ]
  },
  {
   "cell_type": "code",
   "execution_count": 39,
   "id": "8c569e23-8e27-4902-b8c9-6cf9b7dbe9ec",
   "metadata": {
    "execution": {
     "iopub.execute_input": "2022-11-10T21:55:39.648017Z",
     "iopub.status.busy": "2022-11-10T21:55:39.647598Z",
     "iopub.status.idle": "2022-11-10T21:55:39.659755Z",
     "shell.execute_reply": "2022-11-10T21:55:39.658469Z",
     "shell.execute_reply.started": "2022-11-10T21:55:39.647976Z"
    },
    "tags": []
   },
   "outputs": [],
   "source": [
    "test_data['class'] = predictions\n",
    "\n",
    "test_data.rename(columns={'text_1': 'query1', 'text_2': 'query2'}).to_csv('test_dataset_LABELED.csv', index=None)"
   ]
  },
  {
   "cell_type": "code",
   "execution_count": null,
   "id": "ca5cb455-79a9-4a39-8a6b-3099eaf70dce",
   "metadata": {},
   "outputs": [],
   "source": []
  }
 ],
 "metadata": {
  "kernelspec": {
   "display_name": "Python 3 (ipykernel)",
   "language": "python",
   "name": "python3"
  },
  "language_info": {
   "codemirror_mode": {
    "name": "ipython",
    "version": 3
   },
   "file_extension": ".py",
   "mimetype": "text/x-python",
   "name": "python",
   "nbconvert_exporter": "python",
   "pygments_lexer": "ipython3",
   "version": "3.9.7"
  },
  "widgets": {
   "application/vnd.jupyter.widget-state+json": {
    "state": {
     "0044ecb2873a432d82b280db5dc6e4b3": {
      "model_module": "@jupyter-widgets/base",
      "model_module_version": "1.1.0",
      "model_name": "LayoutModel",
      "state": {
       "_model_module_version": "1.1.0",
       "_view_module_version": "1.1.0"
      }
     },
     "029b8bc1b1e24ad4a486c6194ab67696": {
      "model_module": "@jupyter-widgets/base",
      "model_module_version": "1.1.0",
      "model_name": "LayoutModel",
      "state": {
       "_model_module_version": "1.1.0",
       "_view_module_version": "1.1.0",
       "flex": "2"
      }
     },
     "035fee7ffda84af8a6713f1b6253c882": {
      "model_module": "@jupyter-widgets/controls",
      "model_module_version": "1.4.0",
      "model_name": "DescriptionStyleModel",
      "state": {
       "_model_module_version": "1.4.0",
       "_view_module_version": "1.1.0",
       "description_width": ""
      }
     },
     "038aaec25c6a4fd4b13c5a6e5e71416d": {
      "model_module": "@jupyter-widgets/controls",
      "model_module_version": "1.4.0",
      "model_name": "DescriptionStyleModel",
      "state": {
       "_model_module_version": "1.4.0",
       "_view_module_version": "1.1.0",
       "description_width": ""
      }
     },
     "03d90ba7956747ad880d2bd7a06d143c": {
      "model_module": "@jupyter-widgets/controls",
      "model_module_version": "1.4.0",
      "model_name": "DescriptionStyleModel",
      "state": {
       "_model_module_version": "1.4.0",
       "_view_module_version": "1.1.0",
       "description_width": ""
      }
     },
     "03ebf95f8bd14a1380f349bcd5687619": {
      "model_module": "@jupyter-widgets/controls",
      "model_module_version": "1.4.0",
      "model_name": "HTMLModel",
      "state": {
       "_model_module_version": "1.4.0",
       "_view_module_version": "1.4.0",
       "layout": "IPY_MODEL_761a7f9a959f498ea4c63872b118fc99",
       "style": "IPY_MODEL_d3a20d53028948e0b63958246e942a3c",
       "value": "Sanity Checking DataLoader 0:   0%"
      }
     },
     "03ed663389b240548f1b5a600f481385": {
      "model_module": "@jupyter-widgets/base",
      "model_module_version": "1.1.0",
      "model_name": "LayoutModel",
      "state": {
       "_model_module_version": "1.1.0",
       "_view_module_version": "1.1.0"
      }
     },
     "04eb80027db14877870971fda1ce9b42": {
      "model_module": "@jupyter-widgets/controls",
      "model_module_version": "1.4.0",
      "model_name": "ProgressStyleModel",
      "state": {
       "_model_module_version": "1.4.0",
       "_view_module_version": "1.1.0",
       "description_width": ""
      }
     },
     "053f452098e741df972f5dacdcbf223f": {
      "model_module": "@jupyter-widgets/controls",
      "model_module_version": "1.4.0",
      "model_name": "HTMLModel",
      "state": {
       "_model_module_version": "1.4.0",
       "_view_module_version": "1.4.0",
       "layout": "IPY_MODEL_4d678d093b154afda98284e4fa40b53f",
       "style": "IPY_MODEL_e3dbce1616c74ec58f5a46c66f08fc5c",
       "value": " 3.19k/? [00:00&lt;00:00, 112kB/s]"
      }
     },
     "05a385ad9eed4b119ad74a0ef2e95e99": {
      "model_module": "@jupyter-widgets/controls",
      "model_module_version": "1.4.0",
      "model_name": "HTMLModel",
      "state": {
       "_model_module_version": "1.4.0",
       "_view_module_version": "1.4.0",
       "layout": "IPY_MODEL_d93e5e57b1bf4598a6a2ee6e4fc699c3",
       "style": "IPY_MODEL_2ff160b67d43455cb11de9a1b825d4a4",
       "value": "Validation DataLoader 0: 100%"
      }
     },
     "05d668a7831146a0a8d9b3cb2cce2530": {
      "model_module": "@jupyter-widgets/base",
      "model_module_version": "1.1.0",
      "model_name": "LayoutModel",
      "state": {
       "_model_module_version": "1.1.0",
       "_view_module_version": "1.1.0"
      }
     },
     "06f3f574be6c49289cb8b8e254885f6d": {
      "model_module": "@jupyter-widgets/controls",
      "model_module_version": "1.4.0",
      "model_name": "FloatProgressModel",
      "state": {
       "_model_module_version": "1.4.0",
       "_view_module_version": "1.4.0",
       "bar_style": "danger",
       "layout": "IPY_MODEL_72da1973aef14972b89f77c27dc3667e",
       "max": 2,
       "style": "IPY_MODEL_ead53cb3994f4d8c8842f197e689d3f5"
      }
     },
     "071791cadaf0486580b8e86b6d2aa831": {
      "model_module": "@jupyter-widgets/base",
      "model_module_version": "1.1.0",
      "model_name": "LayoutModel",
      "state": {
       "_model_module_version": "1.1.0",
       "_view_module_version": "1.1.0",
       "flex": "2"
      }
     },
     "074577edf68845459a90532fe1e5f53e": {
      "model_module": "@jupyter-widgets/controls",
      "model_module_version": "1.4.0",
      "model_name": "DescriptionStyleModel",
      "state": {
       "_model_module_version": "1.4.0",
       "_view_module_version": "1.1.0",
       "description_width": ""
      }
     },
     "092802c6f8044e0ca5cd35c6834db088": {
      "model_module": "@jupyter-widgets/base",
      "model_module_version": "1.1.0",
      "model_name": "LayoutModel",
      "state": {
       "_model_module_version": "1.1.0",
       "_view_module_version": "1.1.0",
       "display": "inline-flex",
       "flex_flow": "row wrap",
       "width": "100%"
      }
     },
     "093427f5f5a149218edc206c2ae3c963": {
      "model_module": "@jupyter-widgets/base",
      "model_module_version": "1.1.0",
      "model_name": "LayoutModel",
      "state": {
       "_model_module_version": "1.1.0",
       "_view_module_version": "1.1.0",
       "flex": "2"
      }
     },
     "093c50d8b1034e49b17c247d9ab14d15": {
      "model_module": "@jupyter-widgets/controls",
      "model_module_version": "1.4.0",
      "model_name": "FloatProgressModel",
      "state": {
       "_model_module_version": "1.4.0",
       "_view_module_version": "1.4.0",
       "layout": "IPY_MODEL_4367cdef3c0d4ad7b1e047fe16f99b07",
       "max": 74,
       "style": "IPY_MODEL_ce8f7daef1bf46f2b2bf2a3f8d94eac6",
       "value": 74
      }
     },
     "09416519d80a404ab1fe9a150373303d": {
      "model_module": "@jupyter-widgets/controls",
      "model_module_version": "1.4.0",
      "model_name": "DescriptionStyleModel",
      "state": {
       "_model_module_version": "1.4.0",
       "_view_module_version": "1.1.0",
       "description_width": ""
      }
     },
     "096b7a96717a4a249758324c3ca76e6a": {
      "model_module": "@jupyter-widgets/controls",
      "model_module_version": "1.4.0",
      "model_name": "FloatProgressModel",
      "state": {
       "_model_module_version": "1.4.0",
       "_view_module_version": "1.4.0",
       "layout": "IPY_MODEL_27565993011b42df97d767b2909b3270",
       "max": 2,
       "style": "IPY_MODEL_6f1e3ba2ef40433796b44395e8e12e49",
       "value": 2
      }
     },
     "098893be92824f4890913a2cb23f1ddd": {
      "model_module": "@jupyter-widgets/base",
      "model_module_version": "1.1.0",
      "model_name": "LayoutModel",
      "state": {
       "_model_module_version": "1.1.0",
       "_view_module_version": "1.1.0"
      }
     },
     "09cf258e711144528f8c702907dfa7dd": {
      "model_module": "@jupyter-widgets/controls",
      "model_module_version": "1.4.0",
      "model_name": "ProgressStyleModel",
      "state": {
       "_model_module_version": "1.4.0",
       "_view_module_version": "1.1.0",
       "description_width": ""
      }
     },
     "09de040294cb4e6a8ec953a85cba1613": {
      "model_module": "@jupyter-widgets/controls",
      "model_module_version": "1.4.0",
      "model_name": "DescriptionStyleModel",
      "state": {
       "_model_module_version": "1.4.0",
       "_view_module_version": "1.1.0",
       "description_width": ""
      }
     },
     "0aa65e2a450e467ab8cfbcf51742291d": {
      "model_module": "@jupyter-widgets/controls",
      "model_module_version": "1.4.0",
      "model_name": "DescriptionStyleModel",
      "state": {
       "_model_module_version": "1.4.0",
       "_view_module_version": "1.1.0",
       "description_width": ""
      }
     },
     "0afdfc1648d9422a96c0b31afa17b810": {
      "model_module": "@jupyter-widgets/base",
      "model_module_version": "1.1.0",
      "model_name": "LayoutModel",
      "state": {
       "_model_module_version": "1.1.0",
       "_view_module_version": "1.1.0",
       "flex": "2"
      }
     },
     "0b6b6545d28a41e385ea35555e5abf95": {
      "model_module": "@jupyter-widgets/controls",
      "model_module_version": "1.4.0",
      "model_name": "DescriptionStyleModel",
      "state": {
       "_model_module_version": "1.4.0",
       "_view_module_version": "1.1.0",
       "description_width": ""
      }
     },
     "0b7a1fa6699c48e5b5320fa8ff273210": {
      "model_module": "@jupyter-widgets/controls",
      "model_module_version": "1.4.0",
      "model_name": "FloatProgressModel",
      "state": {
       "_model_module_version": "1.4.0",
       "_view_module_version": "1.4.0",
       "layout": "IPY_MODEL_1121fd69ad6d4760b09ac49530bd4a17",
       "max": 74,
       "style": "IPY_MODEL_6b4b3ddf02c7482789ed2a3c03400763",
       "value": 74
      }
     },
     "0c3c6f4a12cd4985b151a542552db66a": {
      "model_module": "@jupyter-widgets/controls",
      "model_module_version": "1.4.0",
      "model_name": "HTMLModel",
      "state": {
       "_model_module_version": "1.4.0",
       "_view_module_version": "1.4.0",
       "layout": "IPY_MODEL_7a22589869fc4746b5b23bad450d827d",
       "style": "IPY_MODEL_528d7fcc8fd44f21a66171f94dd4168a",
       "value": " 74/74 [00:23&lt;00:00,  3.16it/s]"
      }
     },
     "0c3dafc7b6914f758747aded4c6e5150": {
      "model_module": "@jupyter-widgets/base",
      "model_module_version": "1.1.0",
      "model_name": "LayoutModel",
      "state": {
       "_model_module_version": "1.1.0",
       "_view_module_version": "1.1.0"
      }
     },
     "0c8e15bc52d541b98d64798f64c66098": {
      "model_module": "@jupyter-widgets/controls",
      "model_module_version": "1.4.0",
      "model_name": "DescriptionStyleModel",
      "state": {
       "_model_module_version": "1.4.0",
       "_view_module_version": "1.1.0",
       "description_width": ""
      }
     },
     "0cfba2294dfa46139fee9de6c10540cd": {
      "model_module": "@jupyter-widgets/base",
      "model_module_version": "1.1.0",
      "model_name": "LayoutModel",
      "state": {
       "_model_module_version": "1.1.0",
       "_view_module_version": "1.1.0",
       "display": "inline-flex",
       "flex_flow": "row wrap",
       "width": "100%"
      }
     },
     "0ef684606efe430ba07046efac126bcb": {
      "model_module": "@jupyter-widgets/base",
      "model_module_version": "1.1.0",
      "model_name": "LayoutModel",
      "state": {
       "_model_module_version": "1.1.0",
       "_view_module_version": "1.1.0"
      }
     },
     "0f144d8d4c7c4cb6bc1eac5c6b3e7a8e": {
      "model_module": "@jupyter-widgets/base",
      "model_module_version": "1.1.0",
      "model_name": "LayoutModel",
      "state": {
       "_model_module_version": "1.1.0",
       "_view_module_version": "1.1.0"
      }
     },
     "0f2f0b1389d84dc291c29d2335ada7d0": {
      "model_module": "@jupyter-widgets/controls",
      "model_module_version": "1.4.0",
      "model_name": "FloatProgressModel",
      "state": {
       "_model_module_version": "1.4.0",
       "_view_module_version": "1.4.0",
       "layout": "IPY_MODEL_d8f836445a2c41f5858548e996ec2c3d",
       "max": 74,
       "style": "IPY_MODEL_8afe336ec1b74c44b7532d7638da97ad",
       "value": 74
      }
     },
     "0f5808afb5d64f389323fcccb243725c": {
      "model_module": "@jupyter-widgets/controls",
      "model_module_version": "1.4.0",
      "model_name": "HTMLModel",
      "state": {
       "_model_module_version": "1.4.0",
       "_view_module_version": "1.4.0",
       "layout": "IPY_MODEL_59c773c78c2b4885bc87f879a40c229c",
       "style": "IPY_MODEL_e3e5f2c7afaf46a2b661ede6409d4788",
       "value": "Validation DataLoader 0: 100%"
      }
     },
     "0f971ff4b383424bbadeab381468a0d4": {
      "model_module": "@jupyter-widgets/controls",
      "model_module_version": "1.4.0",
      "model_name": "HTMLModel",
      "state": {
       "_model_module_version": "1.4.0",
       "_view_module_version": "1.4.0",
       "layout": "IPY_MODEL_37b7323365d6406ebf14bb2a480e0d2f",
       "style": "IPY_MODEL_3a18f75cfe924978b93bc912ddae10fc",
       "value": "Validation DataLoader 0: 100%"
      }
     },
     "0f9ccf9ac22d4931ab1d2856d09efbcf": {
      "model_module": "@jupyter-widgets/controls",
      "model_module_version": "1.4.0",
      "model_name": "DescriptionStyleModel",
      "state": {
       "_model_module_version": "1.4.0",
       "_view_module_version": "1.1.0",
       "description_width": ""
      }
     },
     "0fc3b5edaa7843d888a3f4960e9a8a00": {
      "model_module": "@jupyter-widgets/controls",
      "model_module_version": "1.4.0",
      "model_name": "ProgressStyleModel",
      "state": {
       "_model_module_version": "1.4.0",
       "_view_module_version": "1.1.0",
       "description_width": ""
      }
     },
     "102ae9c7b46c4eb49fe06feee4adc999": {
      "model_module": "@jupyter-widgets/base",
      "model_module_version": "1.1.0",
      "model_name": "LayoutModel",
      "state": {
       "_model_module_version": "1.1.0",
       "_view_module_version": "1.1.0",
       "display": "inline-flex",
       "flex_flow": "row wrap",
       "width": "100%"
      }
     },
     "103d1e8e35434bddbd02e89d6ed9fef2": {
      "model_module": "@jupyter-widgets/controls",
      "model_module_version": "1.4.0",
      "model_name": "HTMLModel",
      "state": {
       "_model_module_version": "1.4.0",
       "_view_module_version": "1.4.0",
       "layout": "IPY_MODEL_6501b31926cc4a5cb06eaad55376f06c",
       "style": "IPY_MODEL_7f40b2b9eedb407b96cab70b8a2653ac",
       "value": "100%"
      }
     },
     "108f1d22d17446eab8b5b328ea548110": {
      "model_module": "@jupyter-widgets/controls",
      "model_module_version": "1.4.0",
      "model_name": "DescriptionStyleModel",
      "state": {
       "_model_module_version": "1.4.0",
       "_view_module_version": "1.1.0",
       "description_width": ""
      }
     },
     "1121fd69ad6d4760b09ac49530bd4a17": {
      "model_module": "@jupyter-widgets/base",
      "model_module_version": "1.1.0",
      "model_name": "LayoutModel",
      "state": {
       "_model_module_version": "1.1.0",
       "_view_module_version": "1.1.0",
       "flex": "2"
      }
     },
     "13ae2d98ac8b438ca2ff29a0966c248b": {
      "model_module": "@jupyter-widgets/base",
      "model_module_version": "1.1.0",
      "model_name": "LayoutModel",
      "state": {
       "_model_module_version": "1.1.0",
       "_view_module_version": "1.1.0"
      }
     },
     "13be4ab6f8814c69b5ed01cd077215b6": {
      "model_module": "@jupyter-widgets/base",
      "model_module_version": "1.1.0",
      "model_name": "LayoutModel",
      "state": {
       "_model_module_version": "1.1.0",
       "_view_module_version": "1.1.0"
      }
     },
     "15b8ddc6d9b84456847e587ff706394a": {
      "model_module": "@jupyter-widgets/controls",
      "model_module_version": "1.4.0",
      "model_name": "DescriptionStyleModel",
      "state": {
       "_model_module_version": "1.4.0",
       "_view_module_version": "1.1.0",
       "description_width": ""
      }
     },
     "16cf3309a0f84e0db8c27a2eb90e9277": {
      "model_module": "@jupyter-widgets/controls",
      "model_module_version": "1.4.0",
      "model_name": "DescriptionStyleModel",
      "state": {
       "_model_module_version": "1.4.0",
       "_view_module_version": "1.1.0",
       "description_width": ""
      }
     },
     "17690c78fd8346deba4fec21c57b1971": {
      "model_module": "@jupyter-widgets/controls",
      "model_module_version": "1.4.0",
      "model_name": "FloatProgressModel",
      "state": {
       "_model_module_version": "1.4.0",
       "_view_module_version": "1.4.0",
       "layout": "IPY_MODEL_a5baebb29bc8466ab57dc863c47202df",
       "max": 74,
       "style": "IPY_MODEL_1b00b925fc17499abe0946c3cf68d285",
       "value": 74
      }
     },
     "1779bf656ba44136bbe945a6171814dc": {
      "model_module": "@jupyter-widgets/base",
      "model_module_version": "1.1.0",
      "model_name": "LayoutModel",
      "state": {
       "_model_module_version": "1.1.0",
       "_view_module_version": "1.1.0"
      }
     },
     "183788843c054f7ea6eee62d8d7157b2": {
      "model_module": "@jupyter-widgets/base",
      "model_module_version": "1.1.0",
      "model_name": "LayoutModel",
      "state": {
       "_model_module_version": "1.1.0",
       "_view_module_version": "1.1.0",
       "flex": "2"
      }
     },
     "1855be6862c94e4296d453a4e915863d": {
      "model_module": "@jupyter-widgets/controls",
      "model_module_version": "1.4.0",
      "model_name": "HTMLModel",
      "state": {
       "_model_module_version": "1.4.0",
       "_view_module_version": "1.4.0",
       "layout": "IPY_MODEL_5bddbd23ef3244798a8e48cfadc76b19",
       "style": "IPY_MODEL_ab36e749cf8d4aa295fc07de22f869d1",
       "value": " 74/74 [00:23&lt;00:00,  3.16it/s]"
      }
     },
     "187c2afd30d34e3793704b301f0e2385": {
      "model_module": "@jupyter-widgets/controls",
      "model_module_version": "1.4.0",
      "model_name": "DescriptionStyleModel",
      "state": {
       "_model_module_version": "1.4.0",
       "_view_module_version": "1.1.0",
       "description_width": ""
      }
     },
     "18fdc376692f4b11b5872c892520b346": {
      "model_module": "@jupyter-widgets/base",
      "model_module_version": "1.1.0",
      "model_name": "LayoutModel",
      "state": {
       "_model_module_version": "1.1.0",
       "_view_module_version": "1.1.0"
      }
     },
     "191d7217337949898c03ae806aefa523": {
      "model_module": "@jupyter-widgets/controls",
      "model_module_version": "1.4.0",
      "model_name": "HTMLModel",
      "state": {
       "_model_module_version": "1.4.0",
       "_view_module_version": "1.4.0",
       "layout": "IPY_MODEL_4f362ba4955045ca86d7d1c549ca6986",
       "style": "IPY_MODEL_5a412488166f4aa9b99dfdf5d1848fda",
       "value": " 74/74 [00:23&lt;00:00,  3.15it/s]"
      }
     },
     "19479175d71c4e32813b09e0762b3548": {
      "model_module": "@jupyter-widgets/base",
      "model_module_version": "1.1.0",
      "model_name": "LayoutModel",
      "state": {
       "_model_module_version": "1.1.0",
       "_view_module_version": "1.1.0",
       "display": "inline-flex",
       "flex_flow": "row wrap",
       "width": "100%"
      }
     },
     "19c60098fabf4eba962b9c427e6ec95c": {
      "model_module": "@jupyter-widgets/controls",
      "model_module_version": "1.4.0",
      "model_name": "FloatProgressModel",
      "state": {
       "_model_module_version": "1.4.0",
       "_view_module_version": "1.4.0",
       "bar_style": "danger",
       "layout": "IPY_MODEL_13ae2d98ac8b438ca2ff29a0966c248b",
       "max": 74,
       "style": "IPY_MODEL_790879bf2a1d4e119c36e8d7c753642a"
      }
     },
     "19f5d4f10eb34769a853bc74a487a191": {
      "model_module": "@jupyter-widgets/controls",
      "model_module_version": "1.4.0",
      "model_name": "HTMLModel",
      "state": {
       "_model_module_version": "1.4.0",
       "_view_module_version": "1.4.0",
       "layout": "IPY_MODEL_c60b85483c0c4f68ab36faade0a353a1",
       "style": "IPY_MODEL_5dbca19a3a19496dbad17b90cef03703",
       "value": "Validation DataLoader 0: 100%"
      }
     },
     "1a9f37efda4a49ff87aa9cc6a052258e": {
      "model_module": "@jupyter-widgets/base",
      "model_module_version": "1.1.0",
      "model_name": "LayoutModel",
      "state": {
       "_model_module_version": "1.1.0",
       "_view_module_version": "1.1.0"
      }
     },
     "1b00b925fc17499abe0946c3cf68d285": {
      "model_module": "@jupyter-widgets/controls",
      "model_module_version": "1.4.0",
      "model_name": "ProgressStyleModel",
      "state": {
       "_model_module_version": "1.4.0",
       "_view_module_version": "1.1.0",
       "description_width": ""
      }
     },
     "1c136b5d4f4f4970b509149b62aa586f": {
      "model_module": "@jupyter-widgets/controls",
      "model_module_version": "1.4.0",
      "model_name": "FloatProgressModel",
      "state": {
       "_model_module_version": "1.4.0",
       "_view_module_version": "1.4.0",
       "layout": "IPY_MODEL_183788843c054f7ea6eee62d8d7157b2",
       "max": 74,
       "style": "IPY_MODEL_78f84b328cff459b9d99895f128ef373",
       "value": 74
      }
     },
     "1c7d3dc81e7c4bf794484af3f0e2529a": {
      "model_module": "@jupyter-widgets/controls",
      "model_module_version": "1.4.0",
      "model_name": "HTMLModel",
      "state": {
       "_model_module_version": "1.4.0",
       "_view_module_version": "1.4.0",
       "layout": "IPY_MODEL_bc2cadd7f4624bdbbc3436a033484aef",
       "style": "IPY_MODEL_038aaec25c6a4fd4b13c5a6e5e71416d",
       "value": "Validation DataLoader 0: 100%"
      }
     },
     "1cc1cf20b0ab4e08a16c2e8dd29ac896": {
      "model_module": "@jupyter-widgets/base",
      "model_module_version": "1.1.0",
      "model_name": "LayoutModel",
      "state": {
       "_model_module_version": "1.1.0",
       "_view_module_version": "1.1.0",
       "flex": "2"
      }
     },
     "1f1ec8f86fde438aa17ba5537259c321": {
      "model_module": "@jupyter-widgets/base",
      "model_module_version": "1.1.0",
      "model_name": "LayoutModel",
      "state": {
       "_model_module_version": "1.1.0",
       "_view_module_version": "1.1.0"
      }
     },
     "209ee3dc53704073be6021e1dc6790df": {
      "model_module": "@jupyter-widgets/controls",
      "model_module_version": "1.4.0",
      "model_name": "HTMLModel",
      "state": {
       "_model_module_version": "1.4.0",
       "_view_module_version": "1.4.0",
       "layout": "IPY_MODEL_1a9f37efda4a49ff87aa9cc6a052258e",
       "style": "IPY_MODEL_f10091e1130d4559bac9de58d1a7086c",
       "value": "Sanity Checking DataLoader 0: 100%"
      }
     },
     "20d52ebf13224ed5b03d200f47c09b0b": {
      "model_module": "@jupyter-widgets/base",
      "model_module_version": "1.1.0",
      "model_name": "LayoutModel",
      "state": {
       "_model_module_version": "1.1.0",
       "_view_module_version": "1.1.0"
      }
     },
     "214a5f83f7ce4958a87016c4a24c6150": {
      "model_module": "@jupyter-widgets/controls",
      "model_module_version": "1.4.0",
      "model_name": "FloatProgressModel",
      "state": {
       "_model_module_version": "1.4.0",
       "_view_module_version": "1.4.0",
       "layout": "IPY_MODEL_4929cf3d9d944dd8b5f3623f5b5e356b",
       "max": 74,
       "style": "IPY_MODEL_d3cee226afb24fada17fef2ffd82e5c5",
       "value": 74
      }
     },
     "21b570058fcf4363bf6da9cf651d8f6d": {
      "model_module": "@jupyter-widgets/base",
      "model_module_version": "1.1.0",
      "model_name": "LayoutModel",
      "state": {
       "_model_module_version": "1.1.0",
       "_view_module_version": "1.1.0"
      }
     },
     "22b534a8d8274740b57ff826a045e730": {
      "model_module": "@jupyter-widgets/controls",
      "model_module_version": "1.4.0",
      "model_name": "DescriptionStyleModel",
      "state": {
       "_model_module_version": "1.4.0",
       "_view_module_version": "1.1.0",
       "description_width": ""
      }
     },
     "22eab85164b348a793e3f9fd522e64dd": {
      "model_module": "@jupyter-widgets/controls",
      "model_module_version": "1.4.0",
      "model_name": "HTMLModel",
      "state": {
       "_model_module_version": "1.4.0",
       "_view_module_version": "1.4.0",
       "layout": "IPY_MODEL_caa6ce3530c841f691e506c45b61afb1",
       "style": "IPY_MODEL_9f5d7c3df4584158a4a64736d4c7af96",
       "value": " 74/74 [00:23&lt;00:00,  3.15it/s]"
      }
     },
     "22f57d97f52444d9a9d2329d4ae7650f": {
      "model_module": "@jupyter-widgets/controls",
      "model_module_version": "1.4.0",
      "model_name": "HTMLModel",
      "state": {
       "_model_module_version": "1.4.0",
       "_view_module_version": "1.4.0",
       "layout": "IPY_MODEL_0044ecb2873a432d82b280db5dc6e4b3",
       "style": "IPY_MODEL_8a4fbbb7214d4d21b418f3f2ddb3a741",
       "value": "Downloading: "
      }
     },
     "2387ba975d9c46dbb46b7f4cf36584d0": {
      "model_module": "@jupyter-widgets/controls",
      "model_module_version": "1.4.0",
      "model_name": "FloatProgressModel",
      "state": {
       "_model_module_version": "1.4.0",
       "_view_module_version": "1.4.0",
       "layout": "IPY_MODEL_50a0ee5e2eb8402583dc509999a0aa74",
       "max": 74,
       "style": "IPY_MODEL_f8055d6d76cd4a56ad2b83e47e01115b",
       "value": 74
      }
     },
     "23bbab53706e4dd1ab4bf189d71af522": {
      "model_module": "@jupyter-widgets/controls",
      "model_module_version": "1.4.0",
      "model_name": "HTMLModel",
      "state": {
       "_model_module_version": "1.4.0",
       "_view_module_version": "1.4.0",
       "layout": "IPY_MODEL_0c3dafc7b6914f758747aded4c6e5150",
       "style": "IPY_MODEL_310b95a6937941baa2cff56ed4eba107",
       "value": "Validation DataLoader 0: 100%"
      }
     },
     "23ef292fcb9a4a27b23eb1b840f5cac5": {
      "model_module": "@jupyter-widgets/controls",
      "model_module_version": "1.4.0",
      "model_name": "ProgressStyleModel",
      "state": {
       "_model_module_version": "1.4.0",
       "_view_module_version": "1.1.0",
       "description_width": ""
      }
     },
     "2413874df9694628837350185ff2492a": {
      "model_module": "@jupyter-widgets/controls",
      "model_module_version": "1.4.0",
      "model_name": "FloatProgressModel",
      "state": {
       "_model_module_version": "1.4.0",
       "_view_module_version": "1.4.0",
       "layout": "IPY_MODEL_64aa5552be4e4505b36ab60a6f833b6f",
       "max": 74,
       "style": "IPY_MODEL_b5cf0674d7734eb3b8fbcf5b49554693",
       "value": 74
      }
     },
     "245c2e0d6d5d4811842e6303d6fe35fd": {
      "model_module": "@jupyter-widgets/controls",
      "model_module_version": "1.4.0",
      "model_name": "HBoxModel",
      "state": {
       "_model_module_version": "1.4.0",
       "_view_module_version": "1.4.0",
       "children": [
        "IPY_MODEL_32c09d25dcba468cb8a13270b1506820",
        "IPY_MODEL_19c60098fabf4eba962b9c427e6ec95c",
        "IPY_MODEL_eabdf18b64f44854b323aa6104bb61d1"
       ],
       "layout": "IPY_MODEL_03ed663389b240548f1b5a600f481385"
      }
     },
     "24affdb8f9ee4d5aa07de49b6aaf931b": {
      "model_module": "@jupyter-widgets/base",
      "model_module_version": "1.1.0",
      "model_name": "LayoutModel",
      "state": {
       "_model_module_version": "1.1.0",
       "_view_module_version": "1.1.0"
      }
     },
     "25b49b50c74b4c11bbf5779062003c11": {
      "model_module": "@jupyter-widgets/base",
      "model_module_version": "1.1.0",
      "model_name": "LayoutModel",
      "state": {
       "_model_module_version": "1.1.0",
       "_view_module_version": "1.1.0"
      }
     },
     "25f21ca054a8465c9c694a76f9984fca": {
      "model_module": "@jupyter-widgets/controls",
      "model_module_version": "1.4.0",
      "model_name": "FloatProgressModel",
      "state": {
       "_model_module_version": "1.4.0",
       "_view_module_version": "1.4.0",
       "layout": "IPY_MODEL_260fae43d8e641f496bf7d9fe2dea69e",
       "max": 74,
       "style": "IPY_MODEL_27303cfe8b754f6da1fa57d747f00b0d",
       "value": 74
      }
     },
     "260fae43d8e641f496bf7d9fe2dea69e": {
      "model_module": "@jupyter-widgets/base",
      "model_module_version": "1.1.0",
      "model_name": "LayoutModel",
      "state": {
       "_model_module_version": "1.1.0",
       "_view_module_version": "1.1.0",
       "flex": "2"
      }
     },
     "2660fe17b2eb4f1cb2c1e530326d0a4a": {
      "model_module": "@jupyter-widgets/controls",
      "model_module_version": "1.4.0",
      "model_name": "DescriptionStyleModel",
      "state": {
       "_model_module_version": "1.4.0",
       "_view_module_version": "1.1.0",
       "description_width": ""
      }
     },
     "26a20709dc114f3d889b1d16be607aac": {
      "model_module": "@jupyter-widgets/base",
      "model_module_version": "1.1.0",
      "model_name": "LayoutModel",
      "state": {
       "_model_module_version": "1.1.0",
       "_view_module_version": "1.1.0"
      }
     },
     "26b5c49f88964b2c9faf7819fb0ec3c4": {
      "model_module": "@jupyter-widgets/controls",
      "model_module_version": "1.4.0",
      "model_name": "HTMLModel",
      "state": {
       "_model_module_version": "1.4.0",
       "_view_module_version": "1.4.0",
       "layout": "IPY_MODEL_ac465f01790946489619971fe7d2e989",
       "style": "IPY_MODEL_c72d64a28e85484b9cd880fcd1ea5c2f",
       "value": "Validation DataLoader 0: 100%"
      }
     },
     "26ca83dca12d483db81d7339442c82f4": {
      "model_module": "@jupyter-widgets/base",
      "model_module_version": "1.1.0",
      "model_name": "LayoutModel",
      "state": {
       "_model_module_version": "1.1.0",
       "_view_module_version": "1.1.0"
      }
     },
     "26ecc824459e49ae8942bce795bc9203": {
      "model_module": "@jupyter-widgets/controls",
      "model_module_version": "1.4.0",
      "model_name": "HTMLModel",
      "state": {
       "_model_module_version": "1.4.0",
       "_view_module_version": "1.4.0",
       "layout": "IPY_MODEL_098893be92824f4890913a2cb23f1ddd",
       "style": "IPY_MODEL_7a533f8eb0a04d2a88636882f056c31f",
       "value": "Validation DataLoader 0: 100%"
      }
     },
     "273020ec25884766887a5307430fda08": {
      "model_module": "@jupyter-widgets/controls",
      "model_module_version": "1.4.0",
      "model_name": "HTMLModel",
      "state": {
       "_model_module_version": "1.4.0",
       "_view_module_version": "1.4.0",
       "layout": "IPY_MODEL_18fdc376692f4b11b5872c892520b346",
       "style": "IPY_MODEL_0aa65e2a450e467ab8cfbcf51742291d",
       "value": "Validation DataLoader 0: 100%"
      }
     },
     "27303cfe8b754f6da1fa57d747f00b0d": {
      "model_module": "@jupyter-widgets/controls",
      "model_module_version": "1.4.0",
      "model_name": "ProgressStyleModel",
      "state": {
       "_model_module_version": "1.4.0",
       "_view_module_version": "1.1.0",
       "description_width": ""
      }
     },
     "27565993011b42df97d767b2909b3270": {
      "model_module": "@jupyter-widgets/base",
      "model_module_version": "1.1.0",
      "model_name": "LayoutModel",
      "state": {
       "_model_module_version": "1.1.0",
       "_view_module_version": "1.1.0",
       "flex": "2"
      }
     },
     "2789a40a73be482a987d339ff37f9acc": {
      "model_module": "@jupyter-widgets/base",
      "model_module_version": "1.1.0",
      "model_name": "LayoutModel",
      "state": {
       "_model_module_version": "1.1.0",
       "_view_module_version": "1.1.0"
      }
     },
     "288accdb1b3f47f89c1ff886bdd343f2": {
      "model_module": "@jupyter-widgets/base",
      "model_module_version": "1.1.0",
      "model_name": "LayoutModel",
      "state": {
       "_model_module_version": "1.1.0",
       "_view_module_version": "1.1.0"
      }
     },
     "2925becfa08d41f398965b6df4d9419b": {
      "model_module": "@jupyter-widgets/controls",
      "model_module_version": "1.4.0",
      "model_name": "HTMLModel",
      "state": {
       "_model_module_version": "1.4.0",
       "_view_module_version": "1.4.0",
       "layout": "IPY_MODEL_2789a40a73be482a987d339ff37f9acc",
       "style": "IPY_MODEL_b960f04cc19345c4bf5ed3812576c46e",
       "value": " 74/74 [00:23&lt;00:00,  3.16it/s]"
      }
     },
     "2a171763b1844a28b71c6af33538746a": {
      "model_module": "@jupyter-widgets/base",
      "model_module_version": "1.1.0",
      "model_name": "LayoutModel",
      "state": {
       "_model_module_version": "1.1.0",
       "_view_module_version": "1.1.0",
       "display": "inline-flex",
       "flex_flow": "row wrap",
       "width": "100%"
      }
     },
     "2a8a05aafbdd460c8a553d0bd8b9a00f": {
      "model_module": "@jupyter-widgets/controls",
      "model_module_version": "1.4.0",
      "model_name": "ProgressStyleModel",
      "state": {
       "_model_module_version": "1.4.0",
       "_view_module_version": "1.1.0",
       "description_width": ""
      }
     },
     "2b3fc2f53ff94bd1adf8e09aafc32454": {
      "model_module": "@jupyter-widgets/base",
      "model_module_version": "1.1.0",
      "model_name": "LayoutModel",
      "state": {
       "_model_module_version": "1.1.0",
       "_view_module_version": "1.1.0",
       "display": "inline-flex",
       "flex_flow": "row wrap",
       "width": "100%"
      }
     },
     "2b7b68a7b481451dba3623975d045aec": {
      "model_module": "@jupyter-widgets/base",
      "model_module_version": "1.1.0",
      "model_name": "LayoutModel",
      "state": {
       "_model_module_version": "1.1.0",
       "_view_module_version": "1.1.0"
      }
     },
     "2b853df27e5d4fa6bfe58fb8d5925daa": {
      "model_module": "@jupyter-widgets/base",
      "model_module_version": "1.1.0",
      "model_name": "LayoutModel",
      "state": {
       "_model_module_version": "1.1.0",
       "_view_module_version": "1.1.0"
      }
     },
     "2bdf5366301d4b2f9fd0ee2aff271373": {
      "model_module": "@jupyter-widgets/controls",
      "model_module_version": "1.4.0",
      "model_name": "HTMLModel",
      "state": {
       "_model_module_version": "1.4.0",
       "_view_module_version": "1.4.0",
       "layout": "IPY_MODEL_e267dc6d61c644048d48f26e18424e4f",
       "style": "IPY_MODEL_9e09a663c079492b963d7405feb3819d",
       "value": " 74/74 [00:23&lt;00:00,  3.16it/s]"
      }
     },
     "2c174c088406461cbace66b22a42c046": {
      "model_module": "@jupyter-widgets/controls",
      "model_module_version": "1.4.0",
      "model_name": "ProgressStyleModel",
      "state": {
       "_model_module_version": "1.4.0",
       "_view_module_version": "1.1.0",
       "description_width": ""
      }
     },
     "2d03cae8ba804d829b2d4acca19c6c3a": {
      "model_module": "@jupyter-widgets/controls",
      "model_module_version": "1.4.0",
      "model_name": "FloatProgressModel",
      "state": {
       "_model_module_version": "1.4.0",
       "_view_module_version": "1.4.0",
       "layout": "IPY_MODEL_65cd4c4358724ac98c01aae2436dfbd1",
       "max": 74,
       "style": "IPY_MODEL_9f2728dd29fd46c48587969838c88609",
       "value": 74
      }
     },
     "2d0d0ab44bd7480cbe1380daf90d9175": {
      "model_module": "@jupyter-widgets/controls",
      "model_module_version": "1.4.0",
      "model_name": "DescriptionStyleModel",
      "state": {
       "_model_module_version": "1.4.0",
       "_view_module_version": "1.1.0",
       "description_width": ""
      }
     },
     "2e9febff97dc49018e71e6fdf4222e8b": {
      "model_module": "@jupyter-widgets/controls",
      "model_module_version": "1.4.0",
      "model_name": "HTMLModel",
      "state": {
       "_model_module_version": "1.4.0",
       "_view_module_version": "1.4.0",
       "layout": "IPY_MODEL_9bd49757a13d405abcac10567ab96bb8",
       "style": "IPY_MODEL_6be34916663a44d5949f5e5c86abd358",
       "value": " 74/74 [00:23&lt;00:00,  3.16it/s]"
      }
     },
     "2ff160b67d43455cb11de9a1b825d4a4": {
      "model_module": "@jupyter-widgets/controls",
      "model_module_version": "1.4.0",
      "model_name": "DescriptionStyleModel",
      "state": {
       "_model_module_version": "1.4.0",
       "_view_module_version": "1.1.0",
       "description_width": ""
      }
     },
     "310b95a6937941baa2cff56ed4eba107": {
      "model_module": "@jupyter-widgets/controls",
      "model_module_version": "1.4.0",
      "model_name": "DescriptionStyleModel",
      "state": {
       "_model_module_version": "1.4.0",
       "_view_module_version": "1.1.0",
       "description_width": ""
      }
     },
     "31aaf62a986c476781c76b1a80b8e660": {
      "model_module": "@jupyter-widgets/controls",
      "model_module_version": "1.4.0",
      "model_name": "DescriptionStyleModel",
      "state": {
       "_model_module_version": "1.4.0",
       "_view_module_version": "1.1.0",
       "description_width": ""
      }
     },
     "31c6acf2232e46b8ab32697003e748ad": {
      "model_module": "@jupyter-widgets/controls",
      "model_module_version": "1.4.0",
      "model_name": "HTMLModel",
      "state": {
       "_model_module_version": "1.4.0",
       "_view_module_version": "1.4.0",
       "layout": "IPY_MODEL_d28fc63851f24566bb3c61c5383994fd",
       "style": "IPY_MODEL_475592c0a14b4b85b26f1999d9170402",
       "value": "Validation DataLoader 0: 100%"
      }
     },
     "324a03030e4740b6a7bdb651b8104c38": {
      "model_module": "@jupyter-widgets/controls",
      "model_module_version": "1.4.0",
      "model_name": "HTMLModel",
      "state": {
       "_model_module_version": "1.4.0",
       "_view_module_version": "1.4.0",
       "layout": "IPY_MODEL_4f27d41d0ac347028c7e689cb0ba7e25",
       "style": "IPY_MODEL_a2454275485646b285ba8d90ee61ba90",
       "value": " 74/74 [00:23&lt;00:00,  3.15it/s]"
      }
     },
     "32c09d25dcba468cb8a13270b1506820": {
      "model_module": "@jupyter-widgets/controls",
      "model_module_version": "1.4.0",
      "model_name": "HTMLModel",
      "state": {
       "_model_module_version": "1.4.0",
       "_view_module_version": "1.4.0",
       "layout": "IPY_MODEL_65c931ff913f4dfabe0b5fd195ba8829",
       "style": "IPY_MODEL_03d90ba7956747ad880d2bd7a06d143c",
       "value": "  0%"
      }
     },
     "333ecb320056477993ae657c6d121772": {
      "model_module": "@jupyter-widgets/controls",
      "model_module_version": "1.4.0",
      "model_name": "DescriptionStyleModel",
      "state": {
       "_model_module_version": "1.4.0",
       "_view_module_version": "1.1.0",
       "description_width": ""
      }
     },
     "3344b7957ccb48e79b22a8ca3d01805a": {
      "model_module": "@jupyter-widgets/base",
      "model_module_version": "1.1.0",
      "model_name": "LayoutModel",
      "state": {
       "_model_module_version": "1.1.0",
       "_view_module_version": "1.1.0"
      }
     },
     "336042482b77471f9c35373899ea1c79": {
      "model_module": "@jupyter-widgets/base",
      "model_module_version": "1.1.0",
      "model_name": "LayoutModel",
      "state": {
       "_model_module_version": "1.1.0",
       "_view_module_version": "1.1.0",
       "display": "inline-flex",
       "flex_flow": "row wrap",
       "width": "100%"
      }
     },
     "3367167c9fb24196b037a9437022c19d": {
      "model_module": "@jupyter-widgets/controls",
      "model_module_version": "1.4.0",
      "model_name": "HTMLModel",
      "state": {
       "_model_module_version": "1.4.0",
       "_view_module_version": "1.4.0",
       "layout": "IPY_MODEL_441c376f906e458180626b745587c905",
       "style": "IPY_MODEL_a7d9a4c6452a4c46a4a800b468778b4e",
       "value": " 74/74 [00:23&lt;00:00,  3.16it/s]"
      }
     },
     "33a10741b93441c798442a4cca816d74": {
      "model_module": "@jupyter-widgets/controls",
      "model_module_version": "1.4.0",
      "model_name": "DescriptionStyleModel",
      "state": {
       "_model_module_version": "1.4.0",
       "_view_module_version": "1.1.0",
       "description_width": ""
      }
     },
     "34bf3e84078f4464ae122830f5a32480": {
      "model_module": "@jupyter-widgets/controls",
      "model_module_version": "1.4.0",
      "model_name": "FloatProgressModel",
      "state": {
       "_model_module_version": "1.4.0",
       "_view_module_version": "1.4.0",
       "layout": "IPY_MODEL_509e5f730b97453ba59aa63cef725905",
       "max": 74,
       "style": "IPY_MODEL_4e5931e101e44983a2fbf97d6d6ae33b",
       "value": 74
      }
     },
     "356cc2a9630c44aaa97efeff5e59bbbb": {
      "model_module": "@jupyter-widgets/base",
      "model_module_version": "1.1.0",
      "model_name": "LayoutModel",
      "state": {
       "_model_module_version": "1.1.0",
       "_view_module_version": "1.1.0"
      }
     },
     "364a4c145a3f477b97c754782b0ab339": {
      "model_module": "@jupyter-widgets/controls",
      "model_module_version": "1.4.0",
      "model_name": "DescriptionStyleModel",
      "state": {
       "_model_module_version": "1.4.0",
       "_view_module_version": "1.1.0",
       "description_width": ""
      }
     },
     "370eb054adc1460c85280ff369647e50": {
      "model_module": "@jupyter-widgets/controls",
      "model_module_version": "1.4.0",
      "model_name": "DescriptionStyleModel",
      "state": {
       "_model_module_version": "1.4.0",
       "_view_module_version": "1.1.0",
       "description_width": ""
      }
     },
     "37b7323365d6406ebf14bb2a480e0d2f": {
      "model_module": "@jupyter-widgets/base",
      "model_module_version": "1.1.0",
      "model_name": "LayoutModel",
      "state": {
       "_model_module_version": "1.1.0",
       "_view_module_version": "1.1.0"
      }
     },
     "37c0686e26754117a7ff9794317fc2e7": {
      "model_module": "@jupyter-widgets/base",
      "model_module_version": "1.1.0",
      "model_name": "LayoutModel",
      "state": {
       "_model_module_version": "1.1.0",
       "_view_module_version": "1.1.0"
      }
     },
     "387b657a0ab64d629a235d52cfad3041": {
      "model_module": "@jupyter-widgets/controls",
      "model_module_version": "1.4.0",
      "model_name": "HTMLModel",
      "state": {
       "_model_module_version": "1.4.0",
       "_view_module_version": "1.4.0",
       "layout": "IPY_MODEL_7bfcaa950c774087b65d183169ad7c9e",
       "style": "IPY_MODEL_b3ab50854c8e4e9da3a42a0d1bf78ae9",
       "value": "Validation DataLoader 0: 100%"
      }
     },
     "38d1579d80f1404c8f188a00648ca9a8": {
      "model_module": "@jupyter-widgets/base",
      "model_module_version": "1.1.0",
      "model_name": "LayoutModel",
      "state": {
       "_model_module_version": "1.1.0",
       "_view_module_version": "1.1.0",
       "display": "inline-flex",
       "flex_flow": "row wrap",
       "width": "100%"
      }
     },
     "397f13e897b1481badec13ca1965892c": {
      "model_module": "@jupyter-widgets/controls",
      "model_module_version": "1.4.0",
      "model_name": "FloatProgressModel",
      "state": {
       "_model_module_version": "1.4.0",
       "_view_module_version": "1.4.0",
       "layout": "IPY_MODEL_d51119cc25224d41b7ed64f0a7cd38e8",
       "max": 2,
       "style": "IPY_MODEL_429553bbc6ab4ce39c758cf1b4ca1b06",
       "value": 2
      }
     },
     "39b442d713df4a73851b3aedf5eee805": {
      "model_module": "@jupyter-widgets/controls",
      "model_module_version": "1.4.0",
      "model_name": "DescriptionStyleModel",
      "state": {
       "_model_module_version": "1.4.0",
       "_view_module_version": "1.1.0",
       "description_width": ""
      }
     },
     "3a18f75cfe924978b93bc912ddae10fc": {
      "model_module": "@jupyter-widgets/controls",
      "model_module_version": "1.4.0",
      "model_name": "DescriptionStyleModel",
      "state": {
       "_model_module_version": "1.4.0",
       "_view_module_version": "1.1.0",
       "description_width": ""
      }
     },
     "3ac2c5f44c0e45f49b87bebd0806c104": {
      "model_module": "@jupyter-widgets/controls",
      "model_module_version": "1.4.0",
      "model_name": "HBoxModel",
      "state": {
       "_model_module_version": "1.4.0",
       "_view_module_version": "1.4.0",
       "children": [
        "IPY_MODEL_83851a9f40b14d0bae5e4268862efbe6",
        "IPY_MODEL_80e597910d15477eabe9b3da28845e34",
        "IPY_MODEL_6efd66d0b5e146548bc7f5cb1722129a"
       ],
       "layout": "IPY_MODEL_2a171763b1844a28b71c6af33538746a"
      }
     },
     "3b9a45ffe44c430bbb0e727d04638424": {
      "model_module": "@jupyter-widgets/base",
      "model_module_version": "1.1.0",
      "model_name": "LayoutModel",
      "state": {
       "_model_module_version": "1.1.0",
       "_view_module_version": "1.1.0",
       "display": "inline-flex",
       "flex_flow": "row wrap",
       "width": "100%"
      }
     },
     "3bea398d29c6433aa5e7bda000c46925": {
      "model_module": "@jupyter-widgets/base",
      "model_module_version": "1.1.0",
      "model_name": "LayoutModel",
      "state": {
       "_model_module_version": "1.1.0",
       "_view_module_version": "1.1.0",
       "flex": "2"
      }
     },
     "3c7b21e510784888afd518439373a832": {
      "model_module": "@jupyter-widgets/controls",
      "model_module_version": "1.4.0",
      "model_name": "DescriptionStyleModel",
      "state": {
       "_model_module_version": "1.4.0",
       "_view_module_version": "1.1.0",
       "description_width": ""
      }
     },
     "3cd85ecfe1014bcfa2c276f994fb5f67": {
      "model_module": "@jupyter-widgets/controls",
      "model_module_version": "1.4.0",
      "model_name": "HTMLModel",
      "state": {
       "_model_module_version": "1.4.0",
       "_view_module_version": "1.4.0",
       "layout": "IPY_MODEL_751d8d441d704c138e87f6814c38f46d",
       "style": "IPY_MODEL_cdbc8470e75e452da5fbfe874458f466",
       "value": " 74/74 [00:23&lt;00:00,  3.15it/s]"
      }
     },
     "3cea3cb6ef6646d8acb8fc6405a13854": {
      "model_module": "@jupyter-widgets/controls",
      "model_module_version": "1.4.0",
      "model_name": "DescriptionStyleModel",
      "state": {
       "_model_module_version": "1.4.0",
       "_view_module_version": "1.1.0",
       "description_width": ""
      }
     },
     "3d0231b16f14480eabe737d3f0c6e09a": {
      "model_module": "@jupyter-widgets/base",
      "model_module_version": "1.1.0",
      "model_name": "LayoutModel",
      "state": {
       "_model_module_version": "1.1.0",
       "_view_module_version": "1.1.0"
      }
     },
     "3d0aa647a0324a0e9af9e2e705a37131": {
      "model_module": "@jupyter-widgets/controls",
      "model_module_version": "1.4.0",
      "model_name": "HBoxModel",
      "state": {
       "_model_module_version": "1.4.0",
       "_view_module_version": "1.4.0",
       "children": [
        "IPY_MODEL_44446002f8264661bd99059ca05adba0",
        "IPY_MODEL_93faa3cba6154bdaa0de4aa2740075f7",
        "IPY_MODEL_74359e99d25949b88da9c0be8bf09392"
       ],
       "layout": "IPY_MODEL_b8ad9b7fe678412fa65487d60b230cbd"
      }
     },
     "3d48f7cdb6e9417da19de74d16c1cd8e": {
      "model_module": "@jupyter-widgets/controls",
      "model_module_version": "1.4.0",
      "model_name": "ProgressStyleModel",
      "state": {
       "_model_module_version": "1.4.0",
       "_view_module_version": "1.1.0",
       "description_width": ""
      }
     },
     "3e5964583da8451e8086a392b29b0984": {
      "model_module": "@jupyter-widgets/base",
      "model_module_version": "1.1.0",
      "model_name": "LayoutModel",
      "state": {
       "_model_module_version": "1.1.0",
       "_view_module_version": "1.1.0"
      }
     },
     "3ef5a7057c8c41e5881b901710e25f3b": {
      "model_module": "@jupyter-widgets/base",
      "model_module_version": "1.1.0",
      "model_name": "LayoutModel",
      "state": {
       "_model_module_version": "1.1.0",
       "_view_module_version": "1.1.0",
       "flex": "2"
      }
     },
     "4118ef5db2ba4a36b306047393f129d5": {
      "model_module": "@jupyter-widgets/base",
      "model_module_version": "1.1.0",
      "model_name": "LayoutModel",
      "state": {
       "_model_module_version": "1.1.0",
       "_view_module_version": "1.1.0",
       "display": "inline-flex",
       "flex_flow": "row wrap",
       "width": "100%"
      }
     },
     "4137c31cab194d3f97e316767a7894d0": {
      "model_module": "@jupyter-widgets/controls",
      "model_module_version": "1.4.0",
      "model_name": "HTMLModel",
      "state": {
       "_model_module_version": "1.4.0",
       "_view_module_version": "1.4.0",
       "layout": "IPY_MODEL_649c5fb474e145808251f98ffa85654a",
       "style": "IPY_MODEL_44f0b6d9eb0f4cfab86bbadd7c784fcd",
       "value": " 74/74 [00:23&lt;00:00,  3.15it/s]"
      }
     },
     "41758a378b604e42862259fedfc7f118": {
      "model_module": "@jupyter-widgets/base",
      "model_module_version": "1.1.0",
      "model_name": "LayoutModel",
      "state": {
       "_model_module_version": "1.1.0",
       "_view_module_version": "1.1.0"
      }
     },
     "429553bbc6ab4ce39c758cf1b4ca1b06": {
      "model_module": "@jupyter-widgets/controls",
      "model_module_version": "1.4.0",
      "model_name": "ProgressStyleModel",
      "state": {
       "_model_module_version": "1.4.0",
       "_view_module_version": "1.1.0",
       "description_width": ""
      }
     },
     "4367cdef3c0d4ad7b1e047fe16f99b07": {
      "model_module": "@jupyter-widgets/base",
      "model_module_version": "1.1.0",
      "model_name": "LayoutModel",
      "state": {
       "_model_module_version": "1.1.0",
       "_view_module_version": "1.1.0",
       "flex": "2"
      }
     },
     "4379a9f299af471ab9a822382de57526": {
      "model_module": "@jupyter-widgets/base",
      "model_module_version": "1.1.0",
      "model_name": "LayoutModel",
      "state": {
       "_model_module_version": "1.1.0",
       "_view_module_version": "1.1.0",
       "flex": "2"
      }
     },
     "441c376f906e458180626b745587c905": {
      "model_module": "@jupyter-widgets/base",
      "model_module_version": "1.1.0",
      "model_name": "LayoutModel",
      "state": {
       "_model_module_version": "1.1.0",
       "_view_module_version": "1.1.0"
      }
     },
     "44446002f8264661bd99059ca05adba0": {
      "model_module": "@jupyter-widgets/controls",
      "model_module_version": "1.4.0",
      "model_name": "HTMLModel",
      "state": {
       "_model_module_version": "1.4.0",
       "_view_module_version": "1.4.0",
       "layout": "IPY_MODEL_7f654455bafa419a9fe68192c5fd01ed",
       "style": "IPY_MODEL_d944c53c9ee04209bdd0b959d72ebb1d",
       "value": "  0%"
      }
     },
     "44a847cd244e434fb2e2d3468a5c6e34": {
      "model_module": "@jupyter-widgets/base",
      "model_module_version": "1.1.0",
      "model_name": "LayoutModel",
      "state": {
       "_model_module_version": "1.1.0",
       "_view_module_version": "1.1.0"
      }
     },
     "44f0b6d9eb0f4cfab86bbadd7c784fcd": {
      "model_module": "@jupyter-widgets/controls",
      "model_module_version": "1.4.0",
      "model_name": "DescriptionStyleModel",
      "state": {
       "_model_module_version": "1.4.0",
       "_view_module_version": "1.1.0",
       "description_width": ""
      }
     },
     "44f9f333e578407ba6d43c97a5a4ca4d": {
      "model_module": "@jupyter-widgets/controls",
      "model_module_version": "1.4.0",
      "model_name": "HTMLModel",
      "state": {
       "_model_module_version": "1.4.0",
       "_view_module_version": "1.4.0",
       "layout": "IPY_MODEL_44a847cd244e434fb2e2d3468a5c6e34",
       "style": "IPY_MODEL_a79dc339328048ed9fbc3ba3ef8ab3c3",
       "value": " 74/74 [00:23&lt;00:00,  3.16it/s]"
      }
     },
     "45ba0c62243e476691acdbd0b65c9bb4": {
      "model_module": "@jupyter-widgets/controls",
      "model_module_version": "1.4.0",
      "model_name": "HTMLModel",
      "state": {
       "_model_module_version": "1.4.0",
       "_view_module_version": "1.4.0",
       "layout": "IPY_MODEL_dd5eb220aac14fd8893380cc740bd322",
       "style": "IPY_MODEL_c9e7eae663bc470f885f2a52257924e8",
       "value": " 0/2 [3:53:04&lt;?, ?it/s]"
      }
     },
     "468fd066facb454693ff0de9d7f88405": {
      "model_module": "@jupyter-widgets/base",
      "model_module_version": "1.1.0",
      "model_name": "LayoutModel",
      "state": {
       "_model_module_version": "1.1.0",
       "_view_module_version": "1.1.0",
       "display": "inline-flex",
       "flex_flow": "row wrap",
       "width": "100%"
      }
     },
     "4712792b8da44b19bcf59890e0efde3c": {
      "model_module": "@jupyter-widgets/base",
      "model_module_version": "1.1.0",
      "model_name": "LayoutModel",
      "state": {
       "_model_module_version": "1.1.0",
       "_view_module_version": "1.1.0",
       "display": "inline-flex",
       "flex_flow": "row wrap",
       "width": "100%"
      }
     },
     "475592c0a14b4b85b26f1999d9170402": {
      "model_module": "@jupyter-widgets/controls",
      "model_module_version": "1.4.0",
      "model_name": "DescriptionStyleModel",
      "state": {
       "_model_module_version": "1.4.0",
       "_view_module_version": "1.1.0",
       "description_width": ""
      }
     },
     "48c26a00c2a64d5c8cbdc0b9205bf88c": {
      "model_module": "@jupyter-widgets/base",
      "model_module_version": "1.1.0",
      "model_name": "LayoutModel",
      "state": {
       "_model_module_version": "1.1.0",
       "_view_module_version": "1.1.0",
       "flex": "2"
      }
     },
     "4929cf3d9d944dd8b5f3623f5b5e356b": {
      "model_module": "@jupyter-widgets/base",
      "model_module_version": "1.1.0",
      "model_name": "LayoutModel",
      "state": {
       "_model_module_version": "1.1.0",
       "_view_module_version": "1.1.0",
       "flex": "2"
      }
     },
     "4a0dd9c4b162408484f5f86175ee8723": {
      "model_module": "@jupyter-widgets/controls",
      "model_module_version": "1.4.0",
      "model_name": "DescriptionStyleModel",
      "state": {
       "_model_module_version": "1.4.0",
       "_view_module_version": "1.1.0",
       "description_width": ""
      }
     },
     "4a676b10681f415b93c07ae177474c00": {
      "model_module": "@jupyter-widgets/controls",
      "model_module_version": "1.4.0",
      "model_name": "HTMLModel",
      "state": {
       "_model_module_version": "1.4.0",
       "_view_module_version": "1.4.0",
       "layout": "IPY_MODEL_f922435635474923bb46f051f48130fa",
       "style": "IPY_MODEL_09de040294cb4e6a8ec953a85cba1613",
       "value": " 74/74 [00:23&lt;00:00,  3.16it/s]"
      }
     },
     "4a852296832945c1b40a3572aa875472": {
      "model_module": "@jupyter-widgets/controls",
      "model_module_version": "1.4.0",
      "model_name": "DescriptionStyleModel",
      "state": {
       "_model_module_version": "1.4.0",
       "_view_module_version": "1.1.0",
       "description_width": ""
      }
     },
     "4a9768cd30334cbdb72644d01652d39b": {
      "model_module": "@jupyter-widgets/controls",
      "model_module_version": "1.4.0",
      "model_name": "HTMLModel",
      "state": {
       "_model_module_version": "1.4.0",
       "_view_module_version": "1.4.0",
       "layout": "IPY_MODEL_ab0a69d36cd34463bdecfb15533c50a6",
       "style": "IPY_MODEL_b7423cd0acff4efea2f8538d0a6508b3",
       "value": "Validation DataLoader 0: 100%"
      }
     },
     "4b0d379051d946fba39c7b961d6abecf": {
      "model_module": "@jupyter-widgets/controls",
      "model_module_version": "1.4.0",
      "model_name": "DescriptionStyleModel",
      "state": {
       "_model_module_version": "1.4.0",
       "_view_module_version": "1.1.0",
       "description_width": ""
      }
     },
     "4bad93eede7947c5ac5e43ba31c07cbf": {
      "model_module": "@jupyter-widgets/controls",
      "model_module_version": "1.4.0",
      "model_name": "FloatProgressModel",
      "state": {
       "_model_module_version": "1.4.0",
       "_view_module_version": "1.4.0",
       "layout": "IPY_MODEL_d57e31b090e646eb811a34b5e7f2e4ca",
       "max": 74,
       "style": "IPY_MODEL_e38ac52de2f740bd88eb803d6fd750b8",
       "value": 74
      }
     },
     "4d57dce9963f4476bbfda18388d129fb": {
      "model_module": "@jupyter-widgets/controls",
      "model_module_version": "1.4.0",
      "model_name": "ProgressStyleModel",
      "state": {
       "_model_module_version": "1.4.0",
       "_view_module_version": "1.1.0",
       "description_width": ""
      }
     },
     "4d678d093b154afda98284e4fa40b53f": {
      "model_module": "@jupyter-widgets/base",
      "model_module_version": "1.1.0",
      "model_name": "LayoutModel",
      "state": {
       "_model_module_version": "1.1.0",
       "_view_module_version": "1.1.0"
      }
     },
     "4e50b1b29183465fa3acc20e5fbaeb22": {
      "model_module": "@jupyter-widgets/controls",
      "model_module_version": "1.4.0",
      "model_name": "HTMLModel",
      "state": {
       "_model_module_version": "1.4.0",
       "_view_module_version": "1.4.0",
       "layout": "IPY_MODEL_87ead83013c34631b6fe1e99f496fa86",
       "style": "IPY_MODEL_da47f6d81d2942d1b95baa67c245a459",
       "value": " 74/74 [00:23&lt;00:00,  3.16it/s]"
      }
     },
     "4e5931e101e44983a2fbf97d6d6ae33b": {
      "model_module": "@jupyter-widgets/controls",
      "model_module_version": "1.4.0",
      "model_name": "ProgressStyleModel",
      "state": {
       "_model_module_version": "1.4.0",
       "_view_module_version": "1.1.0",
       "description_width": ""
      }
     },
     "4f27d41d0ac347028c7e689cb0ba7e25": {
      "model_module": "@jupyter-widgets/base",
      "model_module_version": "1.1.0",
      "model_name": "LayoutModel",
      "state": {
       "_model_module_version": "1.1.0",
       "_view_module_version": "1.1.0"
      }
     },
     "4f362ba4955045ca86d7d1c549ca6986": {
      "model_module": "@jupyter-widgets/base",
      "model_module_version": "1.1.0",
      "model_name": "LayoutModel",
      "state": {
       "_model_module_version": "1.1.0",
       "_view_module_version": "1.1.0"
      }
     },
     "509e5f730b97453ba59aa63cef725905": {
      "model_module": "@jupyter-widgets/base",
      "model_module_version": "1.1.0",
      "model_name": "LayoutModel",
      "state": {
       "_model_module_version": "1.1.0",
       "_view_module_version": "1.1.0",
       "flex": "2"
      }
     },
     "50a0ee5e2eb8402583dc509999a0aa74": {
      "model_module": "@jupyter-widgets/base",
      "model_module_version": "1.1.0",
      "model_name": "LayoutModel",
      "state": {
       "_model_module_version": "1.1.0",
       "_view_module_version": "1.1.0",
       "flex": "2"
      }
     },
     "50a88179a4eb432b81cf064dfb4a7642": {
      "model_module": "@jupyter-widgets/controls",
      "model_module_version": "1.4.0",
      "model_name": "FloatProgressModel",
      "state": {
       "_model_module_version": "1.4.0",
       "_view_module_version": "1.4.0",
       "layout": "IPY_MODEL_a4dd6240d3364ed9890b49b4d758d624",
       "max": 74,
       "style": "IPY_MODEL_a056be7d4b454df3bcfea21f5357e664",
       "value": 74
      }
     },
     "51f408c67c9d4a1e96a9faa881690f29": {
      "model_module": "@jupyter-widgets/controls",
      "model_module_version": "1.4.0",
      "model_name": "HTMLModel",
      "state": {
       "_model_module_version": "1.4.0",
       "_view_module_version": "1.4.0",
       "layout": "IPY_MODEL_1779bf656ba44136bbe945a6171814dc",
       "style": "IPY_MODEL_3c7b21e510784888afd518439373a832",
       "value": " 74/74 [00:23&lt;00:00,  3.15it/s]"
      }
     },
     "52778a30487d4fbe9e8bcc5baa5390ea": {
      "model_module": "@jupyter-widgets/controls",
      "model_module_version": "1.4.0",
      "model_name": "HTMLModel",
      "state": {
       "_model_module_version": "1.4.0",
       "_view_module_version": "1.4.0",
       "layout": "IPY_MODEL_37c0686e26754117a7ff9794317fc2e7",
       "style": "IPY_MODEL_0b6b6545d28a41e385ea35555e5abf95",
       "value": "Sanity Checking DataLoader 0: 100%"
      }
     },
     "5288c3f116c8427389c48a180ad22934": {
      "model_module": "@jupyter-widgets/controls",
      "model_module_version": "1.4.0",
      "model_name": "DescriptionStyleModel",
      "state": {
       "_model_module_version": "1.4.0",
       "_view_module_version": "1.1.0",
       "description_width": ""
      }
     },
     "528d7fcc8fd44f21a66171f94dd4168a": {
      "model_module": "@jupyter-widgets/controls",
      "model_module_version": "1.4.0",
      "model_name": "DescriptionStyleModel",
      "state": {
       "_model_module_version": "1.4.0",
       "_view_module_version": "1.1.0",
       "description_width": ""
      }
     },
     "53dcc64598994b028396569909dd16df": {
      "model_module": "@jupyter-widgets/controls",
      "model_module_version": "1.4.0",
      "model_name": "HTMLModel",
      "state": {
       "_model_module_version": "1.4.0",
       "_view_module_version": "1.4.0",
       "layout": "IPY_MODEL_d7abe4456b4547dbaad23d7efe2645ff",
       "style": "IPY_MODEL_b117412bb3c74e3e90d66cab825b0c85",
       "value": " 2/2 [00:00&lt;00:00,  5.57it/s]"
      }
     },
     "56129d14ddad4daf932207a0a423d3e7": {
      "model_module": "@jupyter-widgets/base",
      "model_module_version": "1.1.0",
      "model_name": "LayoutModel",
      "state": {
       "_model_module_version": "1.1.0",
       "_view_module_version": "1.1.0"
      }
     },
     "564f25d31873434bb2d3e825ff3cc23d": {
      "model_module": "@jupyter-widgets/controls",
      "model_module_version": "1.4.0",
      "model_name": "HTMLModel",
      "state": {
       "_model_module_version": "1.4.0",
       "_view_module_version": "1.4.0",
       "layout": "IPY_MODEL_ca260aede1044d7a960e115b62a8ed6e",
       "style": "IPY_MODEL_69368331030c40a2b09e4b1831685612",
       "value": "Validation DataLoader 0: 100%"
      }
     },
     "5680e3e70dcf4716b9c867239e76fcf7": {
      "model_module": "@jupyter-widgets/controls",
      "model_module_version": "1.4.0",
      "model_name": "HTMLModel",
      "state": {
       "_model_module_version": "1.4.0",
       "_view_module_version": "1.4.0",
       "layout": "IPY_MODEL_0ef684606efe430ba07046efac126bcb",
       "style": "IPY_MODEL_4a0dd9c4b162408484f5f86175ee8723",
       "value": "Validation DataLoader 0: 100%"
      }
     },
     "56873fe3d3454c76aecf4ecff2816420": {
      "model_module": "@jupyter-widgets/controls",
      "model_module_version": "1.4.0",
      "model_name": "FloatProgressModel",
      "state": {
       "_model_module_version": "1.4.0",
       "_view_module_version": "1.4.0",
       "layout": "IPY_MODEL_9364569c6c064b1e8006a159f33e2da6",
       "max": 74,
       "style": "IPY_MODEL_f600b17d49574a89beaa0456d10f9ecc",
       "value": 74
      }
     },
     "570d1d5aa942404c8f96b4b747a43174": {
      "model_module": "@jupyter-widgets/controls",
      "model_module_version": "1.4.0",
      "model_name": "FloatProgressModel",
      "state": {
       "_model_module_version": "1.4.0",
       "_view_module_version": "1.4.0",
       "layout": "IPY_MODEL_b7c9602b9cc34be89fa7fb21145ed505",
       "max": 485,
       "style": "IPY_MODEL_d42f6af273d74b75a4b074fb1a940360",
       "value": 66
      }
     },
     "57e953f001d442418b35018c5372eabf": {
      "model_module": "@jupyter-widgets/base",
      "model_module_version": "1.1.0",
      "model_name": "LayoutModel",
      "state": {
       "_model_module_version": "1.1.0",
       "_view_module_version": "1.1.0"
      }
     },
     "583b55e362734c64a9a25a1e8c8d4109": {
      "model_module": "@jupyter-widgets/base",
      "model_module_version": "1.1.0",
      "model_name": "LayoutModel",
      "state": {
       "_model_module_version": "1.1.0",
       "_view_module_version": "1.1.0",
       "flex": "2"
      }
     },
     "592e85942f5a4fb4a969ac8f5d9ca0c9": {
      "model_module": "@jupyter-widgets/controls",
      "model_module_version": "1.4.0",
      "model_name": "FloatProgressModel",
      "state": {
       "_model_module_version": "1.4.0",
       "_view_module_version": "1.4.0",
       "layout": "IPY_MODEL_9b989a6894084798a73865e7424b7111",
       "max": 74,
       "style": "IPY_MODEL_7d4da0f94f0c4c57b46fbcd3ae54cb19",
       "value": 74
      }
     },
     "59c773c78c2b4885bc87f879a40c229c": {
      "model_module": "@jupyter-widgets/base",
      "model_module_version": "1.1.0",
      "model_name": "LayoutModel",
      "state": {
       "_model_module_version": "1.1.0",
       "_view_module_version": "1.1.0"
      }
     },
     "59cd8c27d3ce4291856712b82313ada0": {
      "model_module": "@jupyter-widgets/base",
      "model_module_version": "1.1.0",
      "model_name": "LayoutModel",
      "state": {
       "_model_module_version": "1.1.0",
       "_view_module_version": "1.1.0"
      }
     },
     "5a412488166f4aa9b99dfdf5d1848fda": {
      "model_module": "@jupyter-widgets/controls",
      "model_module_version": "1.4.0",
      "model_name": "DescriptionStyleModel",
      "state": {
       "_model_module_version": "1.4.0",
       "_view_module_version": "1.1.0",
       "description_width": ""
      }
     },
     "5a96d95e644540cfa705c851e06e0829": {
      "model_module": "@jupyter-widgets/controls",
      "model_module_version": "1.4.0",
      "model_name": "HTMLModel",
      "state": {
       "_model_module_version": "1.4.0",
       "_view_module_version": "1.4.0",
       "layout": "IPY_MODEL_2b853df27e5d4fa6bfe58fb8d5925daa",
       "style": "IPY_MODEL_e7a1fb61110e4035b4cf8759bb693fc6",
       "value": " 2/2 [00:00&lt;00:00,  5.80it/s]"
      }
     },
     "5aef56c6e9e6404cb0f6ce3284c9e103": {
      "model_module": "@jupyter-widgets/controls",
      "model_module_version": "1.4.0",
      "model_name": "DescriptionStyleModel",
      "state": {
       "_model_module_version": "1.4.0",
       "_view_module_version": "1.1.0",
       "description_width": ""
      }
     },
     "5ba3869bf7984ff7962052322ccb399e": {
      "model_module": "@jupyter-widgets/base",
      "model_module_version": "1.1.0",
      "model_name": "LayoutModel",
      "state": {
       "_model_module_version": "1.1.0",
       "_view_module_version": "1.1.0"
      }
     },
     "5bb112caa3824c7ebae7483c530e77dd": {
      "model_module": "@jupyter-widgets/controls",
      "model_module_version": "1.4.0",
      "model_name": "HTMLModel",
      "state": {
       "_model_module_version": "1.4.0",
       "_view_module_version": "1.4.0",
       "layout": "IPY_MODEL_e8bb73ccbcc14d74b5feccb5ca774dfa",
       "style": "IPY_MODEL_6a8c027543eb4abb8c60e60f41798dd1",
       "value": " 74/74 [00:23&lt;00:00,  3.15it/s]"
      }
     },
     "5bddbd23ef3244798a8e48cfadc76b19": {
      "model_module": "@jupyter-widgets/base",
      "model_module_version": "1.1.0",
      "model_name": "LayoutModel",
      "state": {
       "_model_module_version": "1.1.0",
       "_view_module_version": "1.1.0"
      }
     },
     "5d0b8e5f604442d3a87bbde5ec023ffd": {
      "model_module": "@jupyter-widgets/controls",
      "model_module_version": "1.4.0",
      "model_name": "HTMLModel",
      "state": {
       "_model_module_version": "1.4.0",
       "_view_module_version": "1.4.0",
       "layout": "IPY_MODEL_73e1aa70e79d4af7ab29df408209c5d4",
       "style": "IPY_MODEL_f10128859a1e4d7da0b51e52f4947792",
       "value": " 2/2 [00:00&lt;00:00,  2.77it/s]"
      }
     },
     "5dbca19a3a19496dbad17b90cef03703": {
      "model_module": "@jupyter-widgets/controls",
      "model_module_version": "1.4.0",
      "model_name": "DescriptionStyleModel",
      "state": {
       "_model_module_version": "1.4.0",
       "_view_module_version": "1.1.0",
       "description_width": ""
      }
     },
     "5ded274f0d7846378a6a62577eaefad7": {
      "model_module": "@jupyter-widgets/controls",
      "model_module_version": "1.4.0",
      "model_name": "ProgressStyleModel",
      "state": {
       "_model_module_version": "1.4.0",
       "_view_module_version": "1.1.0",
       "description_width": ""
      }
     },
     "5e92e624fabb457291c01a1372d72f32": {
      "model_module": "@jupyter-widgets/controls",
      "model_module_version": "1.4.0",
      "model_name": "ProgressStyleModel",
      "state": {
       "_model_module_version": "1.4.0",
       "_view_module_version": "1.1.0",
       "description_width": ""
      }
     },
     "5eb9be660da34deeba5c3c08072c1774": {
      "model_module": "@jupyter-widgets/base",
      "model_module_version": "1.1.0",
      "model_name": "LayoutModel",
      "state": {
       "_model_module_version": "1.1.0",
       "_view_module_version": "1.1.0",
       "flex": "2"
      }
     },
     "5f97fe0f41684cfc928b5811a899a0e5": {
      "model_module": "@jupyter-widgets/controls",
      "model_module_version": "1.4.0",
      "model_name": "DescriptionStyleModel",
      "state": {
       "_model_module_version": "1.4.0",
       "_view_module_version": "1.1.0",
       "description_width": ""
      }
     },
     "604a7a81c68947e7861b98a247c5fa0a": {
      "model_module": "@jupyter-widgets/base",
      "model_module_version": "1.1.0",
      "model_name": "LayoutModel",
      "state": {
       "_model_module_version": "1.1.0",
       "_view_module_version": "1.1.0"
      }
     },
     "610b7ef380f143579ee5b191c8810c80": {
      "model_module": "@jupyter-widgets/base",
      "model_module_version": "1.1.0",
      "model_name": "LayoutModel",
      "state": {
       "_model_module_version": "1.1.0",
       "_view_module_version": "1.1.0",
       "flex": "2"
      }
     },
     "649c5fb474e145808251f98ffa85654a": {
      "model_module": "@jupyter-widgets/base",
      "model_module_version": "1.1.0",
      "model_name": "LayoutModel",
      "state": {
       "_model_module_version": "1.1.0",
       "_view_module_version": "1.1.0"
      }
     },
     "64aa5552be4e4505b36ab60a6f833b6f": {
      "model_module": "@jupyter-widgets/base",
      "model_module_version": "1.1.0",
      "model_name": "LayoutModel",
      "state": {
       "_model_module_version": "1.1.0",
       "_view_module_version": "1.1.0",
       "flex": "2"
      }
     },
     "6501b31926cc4a5cb06eaad55376f06c": {
      "model_module": "@jupyter-widgets/base",
      "model_module_version": "1.1.0",
      "model_name": "LayoutModel",
      "state": {
       "_model_module_version": "1.1.0",
       "_view_module_version": "1.1.0"
      }
     },
     "65c931ff913f4dfabe0b5fd195ba8829": {
      "model_module": "@jupyter-widgets/base",
      "model_module_version": "1.1.0",
      "model_name": "LayoutModel",
      "state": {
       "_model_module_version": "1.1.0",
       "_view_module_version": "1.1.0"
      }
     },
     "65cd4c4358724ac98c01aae2436dfbd1": {
      "model_module": "@jupyter-widgets/base",
      "model_module_version": "1.1.0",
      "model_name": "LayoutModel",
      "state": {
       "_model_module_version": "1.1.0",
       "_view_module_version": "1.1.0",
       "flex": "2"
      }
     },
     "66544f24fc4b4959a2b5c01b38a766be": {
      "model_module": "@jupyter-widgets/controls",
      "model_module_version": "1.4.0",
      "model_name": "FloatProgressModel",
      "state": {
       "_model_module_version": "1.4.0",
       "_view_module_version": "1.4.0",
       "bar_style": "success",
       "layout": "IPY_MODEL_26ca83dca12d483db81d7339442c82f4",
       "max": 1411,
       "style": "IPY_MODEL_9b3b6aaa8f914032926ba32eef5b9be0",
       "value": 1411
      }
     },
     "675b43bf64bd4f03ad788256009ef51b": {
      "model_module": "@jupyter-widgets/base",
      "model_module_version": "1.1.0",
      "model_name": "LayoutModel",
      "state": {
       "_model_module_version": "1.1.0",
       "_view_module_version": "1.1.0",
       "flex": "2"
      }
     },
     "6806f4aff802433d817b4782d40291e8": {
      "model_module": "@jupyter-widgets/base",
      "model_module_version": "1.1.0",
      "model_name": "LayoutModel",
      "state": {
       "_model_module_version": "1.1.0",
       "_view_module_version": "1.1.0",
       "display": "inline-flex",
       "flex_flow": "row wrap",
       "width": "100%"
      }
     },
     "6838a303ff4e4a62a5ac24397820c279": {
      "model_module": "@jupyter-widgets/controls",
      "model_module_version": "1.4.0",
      "model_name": "HTMLModel",
      "state": {
       "_model_module_version": "1.4.0",
       "_view_module_version": "1.4.0",
       "layout": "IPY_MODEL_97e88121bd524561ab9516cd9afe3eec",
       "style": "IPY_MODEL_f8ced9d0dbdd47fa953da3505dd459ef",
       "value": "Validation DataLoader 0: 100%"
      }
     },
     "685a6d9391d24060866ec27b840a798e": {
      "model_module": "@jupyter-widgets/controls",
      "model_module_version": "1.4.0",
      "model_name": "DescriptionStyleModel",
      "state": {
       "_model_module_version": "1.4.0",
       "_view_module_version": "1.1.0",
       "description_width": ""
      }
     },
     "69368331030c40a2b09e4b1831685612": {
      "model_module": "@jupyter-widgets/controls",
      "model_module_version": "1.4.0",
      "model_name": "DescriptionStyleModel",
      "state": {
       "_model_module_version": "1.4.0",
       "_view_module_version": "1.1.0",
       "description_width": ""
      }
     },
     "699bb49d8dc0417c962e2da912b2587b": {
      "model_module": "@jupyter-widgets/controls",
      "model_module_version": "1.4.0",
      "model_name": "FloatProgressModel",
      "state": {
       "_model_module_version": "1.4.0",
       "_view_module_version": "1.4.0",
       "bar_style": "success",
       "layout": "IPY_MODEL_fcc76bd3a887420fba72041495016811",
       "max": 16,
       "style": "IPY_MODEL_7b41e5b361e04d29af93205d79bb43f7",
       "value": 16
      }
     },
     "69b028b5dbd644a094abfdbdbd9ffff4": {
      "model_module": "@jupyter-widgets/controls",
      "model_module_version": "1.4.0",
      "model_name": "DescriptionStyleModel",
      "state": {
       "_model_module_version": "1.4.0",
       "_view_module_version": "1.1.0",
       "description_width": ""
      }
     },
     "69c5c79fd7284532bc597bddd680ffa4": {
      "model_module": "@jupyter-widgets/base",
      "model_module_version": "1.1.0",
      "model_name": "LayoutModel",
      "state": {
       "_model_module_version": "1.1.0",
       "_view_module_version": "1.1.0"
      }
     },
     "69fb4e0621224f149849304cafb5d1d6": {
      "model_module": "@jupyter-widgets/controls",
      "model_module_version": "1.4.0",
      "model_name": "ProgressStyleModel",
      "state": {
       "_model_module_version": "1.4.0",
       "_view_module_version": "1.1.0",
       "description_width": ""
      }
     },
     "6a8c027543eb4abb8c60e60f41798dd1": {
      "model_module": "@jupyter-widgets/controls",
      "model_module_version": "1.4.0",
      "model_name": "DescriptionStyleModel",
      "state": {
       "_model_module_version": "1.4.0",
       "_view_module_version": "1.1.0",
       "description_width": ""
      }
     },
     "6b4b3ddf02c7482789ed2a3c03400763": {
      "model_module": "@jupyter-widgets/controls",
      "model_module_version": "1.4.0",
      "model_name": "ProgressStyleModel",
      "state": {
       "_model_module_version": "1.4.0",
       "_view_module_version": "1.1.0",
       "description_width": ""
      }
     },
     "6b8fe2d11a3c449c90fd09018a09bddd": {
      "model_module": "@jupyter-widgets/controls",
      "model_module_version": "1.4.0",
      "model_name": "HTMLModel",
      "state": {
       "_model_module_version": "1.4.0",
       "_view_module_version": "1.4.0",
       "layout": "IPY_MODEL_cc5663a16f574630ab268ad021f6222a",
       "style": "IPY_MODEL_9ef7f1a5b4a04da0bd32932dd78954c1",
       "value": " 74/74 [00:23&lt;00:00,  3.15it/s]"
      }
     },
     "6be34916663a44d5949f5e5c86abd358": {
      "model_module": "@jupyter-widgets/controls",
      "model_module_version": "1.4.0",
      "model_name": "DescriptionStyleModel",
      "state": {
       "_model_module_version": "1.4.0",
       "_view_module_version": "1.1.0",
       "description_width": ""
      }
     },
     "6c6bc1ce5e2442058ea100b2f9721387": {
      "model_module": "@jupyter-widgets/controls",
      "model_module_version": "1.4.0",
      "model_name": "ProgressStyleModel",
      "state": {
       "_model_module_version": "1.4.0",
       "_view_module_version": "1.1.0",
       "description_width": ""
      }
     },
     "6db3e3bda14c42988d4784236494260e": {
      "model_module": "@jupyter-widgets/controls",
      "model_module_version": "1.4.0",
      "model_name": "HTMLModel",
      "state": {
       "_model_module_version": "1.4.0",
       "_view_module_version": "1.4.0",
       "layout": "IPY_MODEL_8fb61eb6404a4cdc895b4f0152ca18b3",
       "style": "IPY_MODEL_2d0d0ab44bd7480cbe1380daf90d9175",
       "value": "Validation DataLoader 0: 100%"
      }
     },
     "6efd66d0b5e146548bc7f5cb1722129a": {
      "model_module": "@jupyter-widgets/controls",
      "model_module_version": "1.4.0",
      "model_name": "HTMLModel",
      "state": {
       "_model_module_version": "1.4.0",
       "_view_module_version": "1.4.0",
       "layout": "IPY_MODEL_72c79a353cdc4c0b828258ff783df8af",
       "style": "IPY_MODEL_0f9ccf9ac22d4931ab1d2856d09efbcf",
       "value": " 12/485 [00:12&lt;07:53,  1.00s/it, loss=0.634, v_num=1]"
      }
     },
     "6f1e3ba2ef40433796b44395e8e12e49": {
      "model_module": "@jupyter-widgets/controls",
      "model_module_version": "1.4.0",
      "model_name": "ProgressStyleModel",
      "state": {
       "_model_module_version": "1.4.0",
       "_view_module_version": "1.1.0",
       "description_width": ""
      }
     },
     "71a92884b10543f0a8bd13d8a9917f0f": {
      "model_module": "@jupyter-widgets/controls",
      "model_module_version": "1.4.0",
      "model_name": "HTMLModel",
      "state": {
       "_model_module_version": "1.4.0",
       "_view_module_version": "1.4.0",
       "layout": "IPY_MODEL_57e953f001d442418b35018c5372eabf",
       "style": "IPY_MODEL_ab7c5c25b2204cc1a3d833d38bcf583f",
       "value": "Sanity Checking DataLoader 0: 100%"
      }
     },
     "72c79a353cdc4c0b828258ff783df8af": {
      "model_module": "@jupyter-widgets/base",
      "model_module_version": "1.1.0",
      "model_name": "LayoutModel",
      "state": {
       "_model_module_version": "1.1.0",
       "_view_module_version": "1.1.0"
      }
     },
     "72d1b2becde94119a06c72952894af22": {
      "model_module": "@jupyter-widgets/controls",
      "model_module_version": "1.4.0",
      "model_name": "HTMLModel",
      "state": {
       "_model_module_version": "1.4.0",
       "_view_module_version": "1.4.0",
       "layout": "IPY_MODEL_949679ddd5ad4b20954b8e3761711804",
       "style": "IPY_MODEL_751e823ee15f4568bedd48dec0f8cb04",
       "value": " 74/74 [00:23&lt;00:00,  3.15it/s]"
      }
     },
     "72da1973aef14972b89f77c27dc3667e": {
      "model_module": "@jupyter-widgets/base",
      "model_module_version": "1.1.0",
      "model_name": "LayoutModel",
      "state": {
       "_model_module_version": "1.1.0",
       "_view_module_version": "1.1.0",
       "flex": "2"
      }
     },
     "73e1aa70e79d4af7ab29df408209c5d4": {
      "model_module": "@jupyter-widgets/base",
      "model_module_version": "1.1.0",
      "model_name": "LayoutModel",
      "state": {
       "_model_module_version": "1.1.0",
       "_view_module_version": "1.1.0"
      }
     },
     "74359e99d25949b88da9c0be8bf09392": {
      "model_module": "@jupyter-widgets/controls",
      "model_module_version": "1.4.0",
      "model_name": "HTMLModel",
      "state": {
       "_model_module_version": "1.4.0",
       "_view_module_version": "1.4.0",
       "layout": "IPY_MODEL_f0cfa9d492e146378fbe8fcb2c4fdcec",
       "style": "IPY_MODEL_8f71ae0ed3554c86b90c0c226b254607",
       "value": " 0/16 [15:57&lt;?, ?it/s]"
      }
     },
     "7470a191700549168f215f7e6173bbd4": {
      "model_module": "@jupyter-widgets/controls",
      "model_module_version": "1.4.0",
      "model_name": "HTMLModel",
      "state": {
       "_model_module_version": "1.4.0",
       "_view_module_version": "1.4.0",
       "layout": "IPY_MODEL_41758a378b604e42862259fedfc7f118",
       "style": "IPY_MODEL_e03cd6f0c21c4dcfa89387b28f6d673e",
       "value": " 74/74 [00:23&lt;00:00,  3.15it/s]"
      }
     },
     "74bb24442dc0450c99156f05fd37e507": {
      "model_module": "@jupyter-widgets/controls",
      "model_module_version": "1.4.0",
      "model_name": "FloatProgressModel",
      "state": {
       "_model_module_version": "1.4.0",
       "_view_module_version": "1.4.0",
       "layout": "IPY_MODEL_610b7ef380f143579ee5b191c8810c80",
       "max": 2,
       "style": "IPY_MODEL_dcbf0cb930674e83970dd6749c01a9ef",
       "value": 2
      }
     },
     "74fb741fc25445cca7e55ad54e18d45f": {
      "model_module": "@jupyter-widgets/controls",
      "model_module_version": "1.4.0",
      "model_name": "HTMLModel",
      "state": {
       "_model_module_version": "1.4.0",
       "_view_module_version": "1.4.0",
       "layout": "IPY_MODEL_af08713f26fd4292bc8b5c4895d5f775",
       "style": "IPY_MODEL_dcb75d065538482fa28659a54a8d2175",
       "value": " 74/74 [00:23&lt;00:00,  3.16it/s]"
      }
     },
     "7504fc13b6e94aeaaeaa1451864989a0": {
      "model_module": "@jupyter-widgets/base",
      "model_module_version": "1.1.0",
      "model_name": "LayoutModel",
      "state": {
       "_model_module_version": "1.1.0",
       "_view_module_version": "1.1.0"
      }
     },
     "75090c5d0311478d98a34df155306dea": {
      "model_module": "@jupyter-widgets/controls",
      "model_module_version": "1.4.0",
      "model_name": "DescriptionStyleModel",
      "state": {
       "_model_module_version": "1.4.0",
       "_view_module_version": "1.1.0",
       "description_width": ""
      }
     },
     "751d8d441d704c138e87f6814c38f46d": {
      "model_module": "@jupyter-widgets/base",
      "model_module_version": "1.1.0",
      "model_name": "LayoutModel",
      "state": {
       "_model_module_version": "1.1.0",
       "_view_module_version": "1.1.0"
      }
     },
     "751e823ee15f4568bedd48dec0f8cb04": {
      "model_module": "@jupyter-widgets/controls",
      "model_module_version": "1.4.0",
      "model_name": "DescriptionStyleModel",
      "state": {
       "_model_module_version": "1.4.0",
       "_view_module_version": "1.1.0",
       "description_width": ""
      }
     },
     "759ebe1cdb194dc4b85832bcb3b2ba05": {
      "model_module": "@jupyter-widgets/controls",
      "model_module_version": "1.4.0",
      "model_name": "HTMLModel",
      "state": {
       "_model_module_version": "1.4.0",
       "_view_module_version": "1.4.0",
       "layout": "IPY_MODEL_84e3cef49d664c58b4c8d6f607149239",
       "style": "IPY_MODEL_31aaf62a986c476781c76b1a80b8e660",
       "value": "Validation DataLoader 0: 100%"
      }
     },
     "7613e2132d554ace8983faae7f19f509": {
      "model_module": "@jupyter-widgets/controls",
      "model_module_version": "1.4.0",
      "model_name": "FloatProgressModel",
      "state": {
       "_model_module_version": "1.4.0",
       "_view_module_version": "1.4.0",
       "layout": "IPY_MODEL_f87da52a5bfe41958cae7887986353c3",
       "max": 74,
       "style": "IPY_MODEL_3d48f7cdb6e9417da19de74d16c1cd8e",
       "value": 74
      }
     },
     "761a7f9a959f498ea4c63872b118fc99": {
      "model_module": "@jupyter-widgets/base",
      "model_module_version": "1.1.0",
      "model_name": "LayoutModel",
      "state": {
       "_model_module_version": "1.1.0",
       "_view_module_version": "1.1.0"
      }
     },
     "762404e4e53c4a2ea2e751b8b02179fa": {
      "model_module": "@jupyter-widgets/controls",
      "model_module_version": "1.4.0",
      "model_name": "DescriptionStyleModel",
      "state": {
       "_model_module_version": "1.4.0",
       "_view_module_version": "1.1.0",
       "description_width": ""
      }
     },
     "77881ad590f24f638c81c2c5fa651cc7": {
      "model_module": "@jupyter-widgets/controls",
      "model_module_version": "1.4.0",
      "model_name": "FloatProgressModel",
      "state": {
       "_model_module_version": "1.4.0",
       "_view_module_version": "1.4.0",
       "layout": "IPY_MODEL_817a7b1578ff4eaeae5074cd61f66f27",
       "max": 74,
       "style": "IPY_MODEL_7921f320b1244c1c968f69585eb61fa4",
       "value": 74
      }
     },
     "78f84b328cff459b9d99895f128ef373": {
      "model_module": "@jupyter-widgets/controls",
      "model_module_version": "1.4.0",
      "model_name": "ProgressStyleModel",
      "state": {
       "_model_module_version": "1.4.0",
       "_view_module_version": "1.1.0",
       "description_width": ""
      }
     },
     "790879bf2a1d4e119c36e8d7c753642a": {
      "model_module": "@jupyter-widgets/controls",
      "model_module_version": "1.4.0",
      "model_name": "ProgressStyleModel",
      "state": {
       "_model_module_version": "1.4.0",
       "_view_module_version": "1.1.0",
       "description_width": ""
      }
     },
     "7921f320b1244c1c968f69585eb61fa4": {
      "model_module": "@jupyter-widgets/controls",
      "model_module_version": "1.4.0",
      "model_name": "ProgressStyleModel",
      "state": {
       "_model_module_version": "1.4.0",
       "_view_module_version": "1.1.0",
       "description_width": ""
      }
     },
     "7a22589869fc4746b5b23bad450d827d": {
      "model_module": "@jupyter-widgets/base",
      "model_module_version": "1.1.0",
      "model_name": "LayoutModel",
      "state": {
       "_model_module_version": "1.1.0",
       "_view_module_version": "1.1.0"
      }
     },
     "7a533f8eb0a04d2a88636882f056c31f": {
      "model_module": "@jupyter-widgets/controls",
      "model_module_version": "1.4.0",
      "model_name": "DescriptionStyleModel",
      "state": {
       "_model_module_version": "1.4.0",
       "_view_module_version": "1.1.0",
       "description_width": ""
      }
     },
     "7af78a91788c46cc9a1e932f7ce578ed": {
      "model_module": "@jupyter-widgets/controls",
      "model_module_version": "1.4.0",
      "model_name": "HBoxModel",
      "state": {
       "_model_module_version": "1.4.0",
       "_view_module_version": "1.4.0",
       "children": [
        "IPY_MODEL_03ebf95f8bd14a1380f349bcd5687619",
        "IPY_MODEL_06f3f574be6c49289cb8b8e254885f6d",
        "IPY_MODEL_45ba0c62243e476691acdbd0b65c9bb4"
       ],
       "layout": "IPY_MODEL_c663a3cca0cc42329e7b7522ccc99f3d"
      }
     },
     "7b41e5b361e04d29af93205d79bb43f7": {
      "model_module": "@jupyter-widgets/controls",
      "model_module_version": "1.4.0",
      "model_name": "ProgressStyleModel",
      "state": {
       "_model_module_version": "1.4.0",
       "_view_module_version": "1.1.0",
       "description_width": ""
      }
     },
     "7bfcaa950c774087b65d183169ad7c9e": {
      "model_module": "@jupyter-widgets/base",
      "model_module_version": "1.1.0",
      "model_name": "LayoutModel",
      "state": {
       "_model_module_version": "1.1.0",
       "_view_module_version": "1.1.0"
      }
     },
     "7cd9e1f3980f42f3a7e3cc44afa1eb16": {
      "model_module": "@jupyter-widgets/base",
      "model_module_version": "1.1.0",
      "model_name": "LayoutModel",
      "state": {
       "_model_module_version": "1.1.0",
       "_view_module_version": "1.1.0"
      }
     },
     "7d4da0f94f0c4c57b46fbcd3ae54cb19": {
      "model_module": "@jupyter-widgets/controls",
      "model_module_version": "1.4.0",
      "model_name": "ProgressStyleModel",
      "state": {
       "_model_module_version": "1.4.0",
       "_view_module_version": "1.1.0",
       "description_width": ""
      }
     },
     "7e141d17b3da435db67b4ef4f7464a0b": {
      "model_module": "@jupyter-widgets/controls",
      "model_module_version": "1.4.0",
      "model_name": "DescriptionStyleModel",
      "state": {
       "_model_module_version": "1.4.0",
       "_view_module_version": "1.1.0",
       "description_width": ""
      }
     },
     "7e71d916f33f40b39168b09e2fe4373d": {
      "model_module": "@jupyter-widgets/controls",
      "model_module_version": "1.4.0",
      "model_name": "FloatProgressModel",
      "state": {
       "_model_module_version": "1.4.0",
       "_view_module_version": "1.4.0",
       "layout": "IPY_MODEL_f631983de3014b008ef40001084bd2d4",
       "max": 74,
       "style": "IPY_MODEL_fedb93fa98694bfca1e40bad7514d397",
       "value": 74
      }
     },
     "7ed87dfbe3ff43fcbde3203ffd6ff867": {
      "model_module": "@jupyter-widgets/controls",
      "model_module_version": "1.4.0",
      "model_name": "FloatProgressModel",
      "state": {
       "_model_module_version": "1.4.0",
       "_view_module_version": "1.4.0",
       "bar_style": "danger",
       "layout": "IPY_MODEL_21b570058fcf4363bf6da9cf651d8f6d",
       "max": 16,
       "style": "IPY_MODEL_04eb80027db14877870971fda1ce9b42"
      }
     },
     "7f40b2b9eedb407b96cab70b8a2653ac": {
      "model_module": "@jupyter-widgets/controls",
      "model_module_version": "1.4.0",
      "model_name": "DescriptionStyleModel",
      "state": {
       "_model_module_version": "1.4.0",
       "_view_module_version": "1.1.0",
       "description_width": ""
      }
     },
     "7f654455bafa419a9fe68192c5fd01ed": {
      "model_module": "@jupyter-widgets/base",
      "model_module_version": "1.1.0",
      "model_name": "LayoutModel",
      "state": {
       "_model_module_version": "1.1.0",
       "_view_module_version": "1.1.0"
      }
     },
     "7fb1e621e374450d959a91657ad2a64a": {
      "model_module": "@jupyter-widgets/controls",
      "model_module_version": "1.4.0",
      "model_name": "HTMLModel",
      "state": {
       "_model_module_version": "1.4.0",
       "_view_module_version": "1.4.0",
       "layout": "IPY_MODEL_7cd9e1f3980f42f3a7e3cc44afa1eb16",
       "style": "IPY_MODEL_187c2afd30d34e3793704b301f0e2385",
       "value": "Validation DataLoader 0: 100%"
      }
     },
     "80e597910d15477eabe9b3da28845e34": {
      "model_module": "@jupyter-widgets/controls",
      "model_module_version": "1.4.0",
      "model_name": "FloatProgressModel",
      "state": {
       "_model_module_version": "1.4.0",
       "_view_module_version": "1.4.0",
       "layout": "IPY_MODEL_a600c82ae0c3498e829636edb2f84f98",
       "max": 485,
       "style": "IPY_MODEL_acbce19d7acc43438c4580c0553dbd0b",
       "value": 12
      }
     },
     "817a7b1578ff4eaeae5074cd61f66f27": {
      "model_module": "@jupyter-widgets/base",
      "model_module_version": "1.1.0",
      "model_name": "LayoutModel",
      "state": {
       "_model_module_version": "1.1.0",
       "_view_module_version": "1.1.0",
       "flex": "2"
      }
     },
     "81949f275d054bb19c222ec8c26f9303": {
      "model_module": "@jupyter-widgets/base",
      "model_module_version": "1.1.0",
      "model_name": "LayoutModel",
      "state": {
       "_model_module_version": "1.1.0",
       "_view_module_version": "1.1.0"
      }
     },
     "81e2afd93eb1459796d36138e7554301": {
      "model_module": "@jupyter-widgets/controls",
      "model_module_version": "1.4.0",
      "model_name": "DescriptionStyleModel",
      "state": {
       "_model_module_version": "1.4.0",
       "_view_module_version": "1.1.0",
       "description_width": ""
      }
     },
     "81f00fb1b7314fd7819d8e3c9dffe575": {
      "model_module": "@jupyter-widgets/base",
      "model_module_version": "1.1.0",
      "model_name": "LayoutModel",
      "state": {
       "_model_module_version": "1.1.0",
       "_view_module_version": "1.1.0",
       "display": "inline-flex",
       "flex_flow": "row wrap",
       "width": "100%"
      }
     },
     "82e12ec1998f46bb87a1177e28c071bc": {
      "model_module": "@jupyter-widgets/controls",
      "model_module_version": "1.4.0",
      "model_name": "ProgressStyleModel",
      "state": {
       "_model_module_version": "1.4.0",
       "_view_module_version": "1.1.0",
       "description_width": ""
      }
     },
     "83203ab7133f4e47b63ed280c79a9682": {
      "model_module": "@jupyter-widgets/controls",
      "model_module_version": "1.4.0",
      "model_name": "ProgressStyleModel",
      "state": {
       "_model_module_version": "1.4.0",
       "_view_module_version": "1.1.0",
       "description_width": ""
      }
     },
     "83851a9f40b14d0bae5e4268862efbe6": {
      "model_module": "@jupyter-widgets/controls",
      "model_module_version": "1.4.0",
      "model_name": "HTMLModel",
      "state": {
       "_model_module_version": "1.4.0",
       "_view_module_version": "1.4.0",
       "layout": "IPY_MODEL_81949f275d054bb19c222ec8c26f9303",
       "style": "IPY_MODEL_22b534a8d8274740b57ff826a045e730",
       "value": "Epoch 0:   2%"
      }
     },
     "83ee58de47ea44179e413784bc98356e": {
      "model_module": "@jupyter-widgets/controls",
      "model_module_version": "1.4.0",
      "model_name": "ProgressStyleModel",
      "state": {
       "_model_module_version": "1.4.0",
       "_view_module_version": "1.1.0",
       "description_width": ""
      }
     },
     "840bea3e38e5416aae765ff689577a31": {
      "model_module": "@jupyter-widgets/controls",
      "model_module_version": "1.4.0",
      "model_name": "HTMLModel",
      "state": {
       "_model_module_version": "1.4.0",
       "_view_module_version": "1.4.0",
       "layout": "IPY_MODEL_df6259e72cb94efab1bf9fdd77abaf53",
       "style": "IPY_MODEL_370eb054adc1460c85280ff369647e50",
       "value": " 66/485 [01:05&lt;06:56,  1.01it/s, loss=0.000383, v_num=1, val_loss=0.297]"
      }
     },
     "84325f76181b44df988d7252d0188ff6": {
      "model_module": "@jupyter-widgets/base",
      "model_module_version": "1.1.0",
      "model_name": "LayoutModel",
      "state": {
       "_model_module_version": "1.1.0",
       "_view_module_version": "1.1.0"
      }
     },
     "843dabf1583a477cb8da8041d49fef32": {
      "model_module": "@jupyter-widgets/controls",
      "model_module_version": "1.4.0",
      "model_name": "DescriptionStyleModel",
      "state": {
       "_model_module_version": "1.4.0",
       "_view_module_version": "1.1.0",
       "description_width": ""
      }
     },
     "848582f7f4764e328c7c7efd50477203": {
      "model_module": "@jupyter-widgets/base",
      "model_module_version": "1.1.0",
      "model_name": "LayoutModel",
      "state": {
       "_model_module_version": "1.1.0",
       "_view_module_version": "1.1.0",
       "display": "inline-flex",
       "flex_flow": "row wrap",
       "width": "100%"
      }
     },
     "84e3cef49d664c58b4c8d6f607149239": {
      "model_module": "@jupyter-widgets/base",
      "model_module_version": "1.1.0",
      "model_name": "LayoutModel",
      "state": {
       "_model_module_version": "1.1.0",
       "_view_module_version": "1.1.0"
      }
     },
     "8593bd5e22814443a641b402f72f991a": {
      "model_module": "@jupyter-widgets/base",
      "model_module_version": "1.1.0",
      "model_name": "LayoutModel",
      "state": {
       "_model_module_version": "1.1.0",
       "_view_module_version": "1.1.0",
       "display": "inline-flex",
       "flex_flow": "row wrap",
       "width": "100%"
      }
     },
     "85dde54b39334e46b8bc957ee9396b16": {
      "model_module": "@jupyter-widgets/base",
      "model_module_version": "1.1.0",
      "model_name": "LayoutModel",
      "state": {
       "_model_module_version": "1.1.0",
       "_view_module_version": "1.1.0"
      }
     },
     "86338998bd7540908dcf76a50b04a584": {
      "model_module": "@jupyter-widgets/controls",
      "model_module_version": "1.4.0",
      "model_name": "DescriptionStyleModel",
      "state": {
       "_model_module_version": "1.4.0",
       "_view_module_version": "1.1.0",
       "description_width": ""
      }
     },
     "86c4c032b9ad4b0e83138f2a0fa3788d": {
      "model_module": "@jupyter-widgets/base",
      "model_module_version": "1.1.0",
      "model_name": "LayoutModel",
      "state": {
       "_model_module_version": "1.1.0",
       "_view_module_version": "1.1.0"
      }
     },
     "87636a0a0e5946e5843fb5660b60b8db": {
      "model_module": "@jupyter-widgets/base",
      "model_module_version": "1.1.0",
      "model_name": "LayoutModel",
      "state": {
       "_model_module_version": "1.1.0",
       "_view_module_version": "1.1.0",
       "flex": "2"
      }
     },
     "87aa39ead22b4db4953eeffbfa72ef7e": {
      "model_module": "@jupyter-widgets/controls",
      "model_module_version": "1.4.0",
      "model_name": "HTMLModel",
      "state": {
       "_model_module_version": "1.4.0",
       "_view_module_version": "1.4.0",
       "layout": "IPY_MODEL_abc1a5574f82449984673e22f0566cd9",
       "style": "IPY_MODEL_16cf3309a0f84e0db8c27a2eb90e9277",
       "value": "Validation DataLoader 0: 100%"
      }
     },
     "87ead83013c34631b6fe1e99f496fa86": {
      "model_module": "@jupyter-widgets/base",
      "model_module_version": "1.1.0",
      "model_name": "LayoutModel",
      "state": {
       "_model_module_version": "1.1.0",
       "_view_module_version": "1.1.0"
      }
     },
     "881d1c49b5fd477197232a7b3fa2dbbf": {
      "model_module": "@jupyter-widgets/controls",
      "model_module_version": "1.4.0",
      "model_name": "DescriptionStyleModel",
      "state": {
       "_model_module_version": "1.4.0",
       "_view_module_version": "1.1.0",
       "description_width": ""
      }
     },
     "8910044c9a1b437e8f9d3dd4d7a960d8": {
      "model_module": "@jupyter-widgets/base",
      "model_module_version": "1.1.0",
      "model_name": "LayoutModel",
      "state": {
       "_model_module_version": "1.1.0",
       "_view_module_version": "1.1.0"
      }
     },
     "89a52643a3dd4330968862051357b160": {
      "model_module": "@jupyter-widgets/base",
      "model_module_version": "1.1.0",
      "model_name": "LayoutModel",
      "state": {
       "_model_module_version": "1.1.0",
       "_view_module_version": "1.1.0",
       "display": "inline-flex",
       "flex_flow": "row wrap",
       "width": "100%"
      }
     },
     "8a09ba9f921343659f043ea2d67979bb": {
      "model_module": "@jupyter-widgets/controls",
      "model_module_version": "1.4.0",
      "model_name": "FloatProgressModel",
      "state": {
       "_model_module_version": "1.4.0",
       "_view_module_version": "1.4.0",
       "bar_style": "danger",
       "layout": "IPY_MODEL_9aec3e8f6b1f4750b521a6b948b80cd7",
       "max": 74,
       "style": "IPY_MODEL_2c174c088406461cbace66b22a42c046"
      }
     },
     "8a48c1f5b8144b29b9b1891e1d280279": {
      "model_module": "@jupyter-widgets/controls",
      "model_module_version": "1.4.0",
      "model_name": "HTMLModel",
      "state": {
       "_model_module_version": "1.4.0",
       "_view_module_version": "1.4.0",
       "layout": "IPY_MODEL_ca1fa4b0cdf342e4a923402f8cd88472",
       "style": "IPY_MODEL_9bbe64ca49e240b486e503893e764792",
       "value": "Validation DataLoader 0: 100%"
      }
     },
     "8a4fbbb7214d4d21b418f3f2ddb3a741": {
      "model_module": "@jupyter-widgets/controls",
      "model_module_version": "1.4.0",
      "model_name": "DescriptionStyleModel",
      "state": {
       "_model_module_version": "1.4.0",
       "_view_module_version": "1.1.0",
       "description_width": ""
      }
     },
     "8af6636ca4c842429b33a83f67da29d3": {
      "model_module": "@jupyter-widgets/base",
      "model_module_version": "1.1.0",
      "model_name": "LayoutModel",
      "state": {
       "_model_module_version": "1.1.0",
       "_view_module_version": "1.1.0"
      }
     },
     "8afe336ec1b74c44b7532d7638da97ad": {
      "model_module": "@jupyter-widgets/controls",
      "model_module_version": "1.4.0",
      "model_name": "ProgressStyleModel",
      "state": {
       "_model_module_version": "1.4.0",
       "_view_module_version": "1.1.0",
       "description_width": ""
      }
     },
     "8b0089094ff344ba8a78e7d962fc8444": {
      "model_module": "@jupyter-widgets/controls",
      "model_module_version": "1.4.0",
      "model_name": "HTMLModel",
      "state": {
       "_model_module_version": "1.4.0",
       "_view_module_version": "1.4.0",
       "layout": "IPY_MODEL_a5232b2d2eec4c7389234cdb4867b8a9",
       "style": "IPY_MODEL_ad8bcceb82b94625986508bca8461795",
       "value": " 2/2 [00:01&lt;00:00,  1.98it/s]"
      }
     },
     "8b6c1db4079a4e528edc268eb7cd6247": {
      "model_module": "@jupyter-widgets/base",
      "model_module_version": "1.1.0",
      "model_name": "LayoutModel",
      "state": {
       "_model_module_version": "1.1.0",
       "_view_module_version": "1.1.0"
      }
     },
     "8b8d60256b364ac489a0a33749d93c26": {
      "model_module": "@jupyter-widgets/controls",
      "model_module_version": "1.4.0",
      "model_name": "HTMLModel",
      "state": {
       "_model_module_version": "1.4.0",
       "_view_module_version": "1.4.0",
       "layout": "IPY_MODEL_959da3ab059d4fc59eb66617bab0a1ca",
       "style": "IPY_MODEL_364a4c145a3f477b97c754782b0ab339",
       "value": " 74/74 [00:23&lt;00:00,  3.16it/s]"
      }
     },
     "8e4bae36bec943b095b344ac173fc5ee": {
      "model_module": "@jupyter-widgets/base",
      "model_module_version": "1.1.0",
      "model_name": "LayoutModel",
      "state": {
       "_model_module_version": "1.1.0",
       "_view_module_version": "1.1.0"
      }
     },
     "8e6dbc18e243486899d34aea1356579a": {
      "model_module": "@jupyter-widgets/base",
      "model_module_version": "1.1.0",
      "model_name": "LayoutModel",
      "state": {
       "_model_module_version": "1.1.0",
       "_view_module_version": "1.1.0"
      }
     },
     "8f4456737e1340f2a0894501696be467": {
      "model_module": "@jupyter-widgets/base",
      "model_module_version": "1.1.0",
      "model_name": "LayoutModel",
      "state": {
       "_model_module_version": "1.1.0",
       "_view_module_version": "1.1.0"
      }
     },
     "8f71ae0ed3554c86b90c0c226b254607": {
      "model_module": "@jupyter-widgets/controls",
      "model_module_version": "1.4.0",
      "model_name": "DescriptionStyleModel",
      "state": {
       "_model_module_version": "1.4.0",
       "_view_module_version": "1.1.0",
       "description_width": ""
      }
     },
     "8fb61eb6404a4cdc895b4f0152ca18b3": {
      "model_module": "@jupyter-widgets/base",
      "model_module_version": "1.1.0",
      "model_name": "LayoutModel",
      "state": {
       "_model_module_version": "1.1.0",
       "_view_module_version": "1.1.0"
      }
     },
     "90c6b580b0dd417ebe0b1f1fc91032cd": {
      "model_module": "@jupyter-widgets/base",
      "model_module_version": "1.1.0",
      "model_name": "LayoutModel",
      "state": {
       "_model_module_version": "1.1.0",
       "_view_module_version": "1.1.0"
      }
     },
     "920c4058c34e45129bc78dffd38b90b1": {
      "model_module": "@jupyter-widgets/controls",
      "model_module_version": "1.4.0",
      "model_name": "HTMLModel",
      "state": {
       "_model_module_version": "1.4.0",
       "_view_module_version": "1.4.0",
       "layout": "IPY_MODEL_0f144d8d4c7c4cb6bc1eac5c6b3e7a8e",
       "style": "IPY_MODEL_0c8e15bc52d541b98d64798f64c66098",
       "value": " 74/74 [00:23&lt;00:00,  3.15it/s]"
      }
     },
     "92bbefbc34d84eb7b4197c21e0fb683b": {
      "model_module": "@jupyter-widgets/controls",
      "model_module_version": "1.4.0",
      "model_name": "FloatProgressModel",
      "state": {
       "_model_module_version": "1.4.0",
       "_view_module_version": "1.4.0",
       "layout": "IPY_MODEL_583b55e362734c64a9a25a1e8c8d4109",
       "max": 74,
       "style": "IPY_MODEL_cc9c1529438346bfaa3516e4f6bcadd2",
       "value": 74
      }
     },
     "92d3ec2e04f94015836c2b2192687d5b": {
      "model_module": "@jupyter-widgets/base",
      "model_module_version": "1.1.0",
      "model_name": "LayoutModel",
      "state": {
       "_model_module_version": "1.1.0",
       "_view_module_version": "1.1.0"
      }
     },
     "92ecd3eee4c54d649a758bea991577d2": {
      "model_module": "@jupyter-widgets/base",
      "model_module_version": "1.1.0",
      "model_name": "LayoutModel",
      "state": {
       "_model_module_version": "1.1.0",
       "_view_module_version": "1.1.0",
       "flex": "2"
      }
     },
     "9325f8b38e504ad7aa98f7f1acb67af2": {
      "model_module": "@jupyter-widgets/base",
      "model_module_version": "1.1.0",
      "model_name": "LayoutModel",
      "state": {
       "_model_module_version": "1.1.0",
       "_view_module_version": "1.1.0"
      }
     },
     "9364569c6c064b1e8006a159f33e2da6": {
      "model_module": "@jupyter-widgets/base",
      "model_module_version": "1.1.0",
      "model_name": "LayoutModel",
      "state": {
       "_model_module_version": "1.1.0",
       "_view_module_version": "1.1.0",
       "flex": "2"
      }
     },
     "93dc62c79e5842538e9c3f88c8cda0bd": {
      "model_module": "@jupyter-widgets/controls",
      "model_module_version": "1.4.0",
      "model_name": "HTMLModel",
      "state": {
       "_model_module_version": "1.4.0",
       "_view_module_version": "1.4.0",
       "layout": "IPY_MODEL_24affdb8f9ee4d5aa07de49b6aaf931b",
       "style": "IPY_MODEL_a820bbfade544e56a5a2966ef9a6ad02",
       "value": "Validation DataLoader 0: 100%"
      }
     },
     "93faa3cba6154bdaa0de4aa2740075f7": {
      "model_module": "@jupyter-widgets/controls",
      "model_module_version": "1.4.0",
      "model_name": "FloatProgressModel",
      "state": {
       "_model_module_version": "1.4.0",
       "_view_module_version": "1.4.0",
       "bar_style": "danger",
       "layout": "IPY_MODEL_86c4c032b9ad4b0e83138f2a0fa3788d",
       "max": 16,
       "style": "IPY_MODEL_5e92e624fabb457291c01a1372d72f32"
      }
     },
     "93fd6b6d824149a8ab1a3540ba75e9fc": {
      "model_module": "@jupyter-widgets/controls",
      "model_module_version": "1.4.0",
      "model_name": "ProgressStyleModel",
      "state": {
       "_model_module_version": "1.4.0",
       "_view_module_version": "1.1.0",
       "description_width": ""
      }
     },
     "949679ddd5ad4b20954b8e3761711804": {
      "model_module": "@jupyter-widgets/base",
      "model_module_version": "1.1.0",
      "model_name": "LayoutModel",
      "state": {
       "_model_module_version": "1.1.0",
       "_view_module_version": "1.1.0"
      }
     },
     "95426a1275c84a2485e3a8141ee57a8b": {
      "model_module": "@jupyter-widgets/controls",
      "model_module_version": "1.4.0",
      "model_name": "HBoxModel",
      "state": {
       "_model_module_version": "1.4.0",
       "_view_module_version": "1.4.0",
       "children": [
        "IPY_MODEL_a33c972a187c4638947b5a30ab6c13be",
        "IPY_MODEL_c9f1a4c5fb474c0b8e2126909185f7c8",
        "IPY_MODEL_e5b17103f13c4eec80f686bd3dc609ab"
       ],
       "layout": "IPY_MODEL_c57e56e7ee474ecba951ebc2f30a3c12"
      }
     },
     "958c17ecadd24c2d85b085cdfd30eccf": {
      "model_module": "@jupyter-widgets/base",
      "model_module_version": "1.1.0",
      "model_name": "LayoutModel",
      "state": {
       "_model_module_version": "1.1.0",
       "_view_module_version": "1.1.0",
       "display": "inline-flex",
       "flex_flow": "row wrap",
       "width": "100%"
      }
     },
     "959da3ab059d4fc59eb66617bab0a1ca": {
      "model_module": "@jupyter-widgets/base",
      "model_module_version": "1.1.0",
      "model_name": "LayoutModel",
      "state": {
       "_model_module_version": "1.1.0",
       "_view_module_version": "1.1.0"
      }
     },
     "97e88121bd524561ab9516cd9afe3eec": {
      "model_module": "@jupyter-widgets/base",
      "model_module_version": "1.1.0",
      "model_name": "LayoutModel",
      "state": {
       "_model_module_version": "1.1.0",
       "_view_module_version": "1.1.0"
      }
     },
     "98be0015f87a40ab9a055f3a462f9c79": {
      "model_module": "@jupyter-widgets/base",
      "model_module_version": "1.1.0",
      "model_name": "LayoutModel",
      "state": {
       "_model_module_version": "1.1.0",
       "_view_module_version": "1.1.0",
       "display": "inline-flex",
       "flex_flow": "row wrap",
       "width": "100%"
      }
     },
     "98c61f7c3a514875a395011d944c84d8": {
      "model_module": "@jupyter-widgets/base",
      "model_module_version": "1.1.0",
      "model_name": "LayoutModel",
      "state": {
       "_model_module_version": "1.1.0",
       "_view_module_version": "1.1.0"
      }
     },
     "9a040418984c44478527951f5cd540aa": {
      "model_module": "@jupyter-widgets/controls",
      "model_module_version": "1.4.0",
      "model_name": "DescriptionStyleModel",
      "state": {
       "_model_module_version": "1.4.0",
       "_view_module_version": "1.1.0",
       "description_width": ""
      }
     },
     "9a3950d8493e4f42ae99049cb5797bc5": {
      "model_module": "@jupyter-widgets/base",
      "model_module_version": "1.1.0",
      "model_name": "LayoutModel",
      "state": {
       "_model_module_version": "1.1.0",
       "_view_module_version": "1.1.0",
       "display": "inline-flex",
       "flex_flow": "row wrap",
       "width": "100%"
      }
     },
     "9ab87dc505724bec9d2f5a4cbf4637fe": {
      "model_module": "@jupyter-widgets/base",
      "model_module_version": "1.1.0",
      "model_name": "LayoutModel",
      "state": {
       "_model_module_version": "1.1.0",
       "_view_module_version": "1.1.0"
      }
     },
     "9aec3e8f6b1f4750b521a6b948b80cd7": {
      "model_module": "@jupyter-widgets/base",
      "model_module_version": "1.1.0",
      "model_name": "LayoutModel",
      "state": {
       "_model_module_version": "1.1.0",
       "_view_module_version": "1.1.0"
      }
     },
     "9b3b6aaa8f914032926ba32eef5b9be0": {
      "model_module": "@jupyter-widgets/controls",
      "model_module_version": "1.4.0",
      "model_name": "ProgressStyleModel",
      "state": {
       "_model_module_version": "1.4.0",
       "_view_module_version": "1.1.0",
       "description_width": ""
      }
     },
     "9b87bdf7f0ed47928dd44751abc9eab7": {
      "model_module": "@jupyter-widgets/base",
      "model_module_version": "1.1.0",
      "model_name": "LayoutModel",
      "state": {
       "_model_module_version": "1.1.0",
       "_view_module_version": "1.1.0",
       "display": "inline-flex",
       "flex_flow": "row wrap",
       "width": "100%"
      }
     },
     "9b989a6894084798a73865e7424b7111": {
      "model_module": "@jupyter-widgets/base",
      "model_module_version": "1.1.0",
      "model_name": "LayoutModel",
      "state": {
       "_model_module_version": "1.1.0",
       "_view_module_version": "1.1.0",
       "flex": "2"
      }
     },
     "9bbe64ca49e240b486e503893e764792": {
      "model_module": "@jupyter-widgets/controls",
      "model_module_version": "1.4.0",
      "model_name": "DescriptionStyleModel",
      "state": {
       "_model_module_version": "1.4.0",
       "_view_module_version": "1.1.0",
       "description_width": ""
      }
     },
     "9bd49757a13d405abcac10567ab96bb8": {
      "model_module": "@jupyter-widgets/base",
      "model_module_version": "1.1.0",
      "model_name": "LayoutModel",
      "state": {
       "_model_module_version": "1.1.0",
       "_view_module_version": "1.1.0"
      }
     },
     "9d4a3552deb84495a654eba4aa9828b8": {
      "model_module": "@jupyter-widgets/controls",
      "model_module_version": "1.4.0",
      "model_name": "HTMLModel",
      "state": {
       "_model_module_version": "1.4.0",
       "_view_module_version": "1.4.0",
       "layout": "IPY_MODEL_8e6dbc18e243486899d34aea1356579a",
       "style": "IPY_MODEL_e46967b523b4411cb45c28ef0afc52cd",
       "value": "100%"
      }
     },
     "9e09a663c079492b963d7405feb3819d": {
      "model_module": "@jupyter-widgets/controls",
      "model_module_version": "1.4.0",
      "model_name": "DescriptionStyleModel",
      "state": {
       "_model_module_version": "1.4.0",
       "_view_module_version": "1.1.0",
       "description_width": ""
      }
     },
     "9e78c53574244781ba877c95763b58de": {
      "model_module": "@jupyter-widgets/base",
      "model_module_version": "1.1.0",
      "model_name": "LayoutModel",
      "state": {
       "_model_module_version": "1.1.0",
       "_view_module_version": "1.1.0",
       "display": "inline-flex",
       "flex_flow": "row wrap",
       "width": "100%"
      }
     },
     "9ef7f1a5b4a04da0bd32932dd78954c1": {
      "model_module": "@jupyter-widgets/controls",
      "model_module_version": "1.4.0",
      "model_name": "DescriptionStyleModel",
      "state": {
       "_model_module_version": "1.4.0",
       "_view_module_version": "1.1.0",
       "description_width": ""
      }
     },
     "9f2728dd29fd46c48587969838c88609": {
      "model_module": "@jupyter-widgets/controls",
      "model_module_version": "1.4.0",
      "model_name": "ProgressStyleModel",
      "state": {
       "_model_module_version": "1.4.0",
       "_view_module_version": "1.1.0",
       "description_width": ""
      }
     },
     "9f5d7c3df4584158a4a64736d4c7af96": {
      "model_module": "@jupyter-widgets/controls",
      "model_module_version": "1.4.0",
      "model_name": "DescriptionStyleModel",
      "state": {
       "_model_module_version": "1.4.0",
       "_view_module_version": "1.1.0",
       "description_width": ""
      }
     },
     "9fd18d7e77514666a6eb4b813ef362ad": {
      "model_module": "@jupyter-widgets/controls",
      "model_module_version": "1.4.0",
      "model_name": "ProgressStyleModel",
      "state": {
       "_model_module_version": "1.4.0",
       "_view_module_version": "1.1.0",
       "description_width": ""
      }
     },
     "a056be7d4b454df3bcfea21f5357e664": {
      "model_module": "@jupyter-widgets/controls",
      "model_module_version": "1.4.0",
      "model_name": "ProgressStyleModel",
      "state": {
       "_model_module_version": "1.4.0",
       "_view_module_version": "1.1.0",
       "description_width": ""
      }
     },
     "a1b075e6e0e34a40ab1684ac0f088b21": {
      "model_module": "@jupyter-widgets/controls",
      "model_module_version": "1.4.0",
      "model_name": "HBoxModel",
      "state": {
       "_model_module_version": "1.4.0",
       "_view_module_version": "1.4.0",
       "children": [
        "IPY_MODEL_f6f4fc669aea456f83d139455a208825",
        "IPY_MODEL_7ed87dfbe3ff43fcbde3203ffd6ff867",
        "IPY_MODEL_e6a9d1498388418bb10240e3ad149d85"
       ],
       "layout": "IPY_MODEL_ee352d2e0a6b4697b4540e6664a996b0"
      }
     },
     "a2454275485646b285ba8d90ee61ba90": {
      "model_module": "@jupyter-widgets/controls",
      "model_module_version": "1.4.0",
      "model_name": "DescriptionStyleModel",
      "state": {
       "_model_module_version": "1.4.0",
       "_view_module_version": "1.1.0",
       "description_width": ""
      }
     },
     "a33c972a187c4638947b5a30ab6c13be": {
      "model_module": "@jupyter-widgets/controls",
      "model_module_version": "1.4.0",
      "model_name": "HTMLModel",
      "state": {
       "_model_module_version": "1.4.0",
       "_view_module_version": "1.4.0",
       "layout": "IPY_MODEL_84325f76181b44df988d7252d0188ff6",
       "style": "IPY_MODEL_074577edf68845459a90532fe1e5f53e",
       "value": "Epoch 0:   7%"
      }
     },
     "a4a8f562135e4a3d9bc4d64381cc9a34": {
      "model_module": "@jupyter-widgets/controls",
      "model_module_version": "1.4.0",
      "model_name": "ProgressStyleModel",
      "state": {
       "_model_module_version": "1.4.0",
       "_view_module_version": "1.1.0",
       "description_width": ""
      }
     },
     "a4dd6240d3364ed9890b49b4d758d624": {
      "model_module": "@jupyter-widgets/base",
      "model_module_version": "1.1.0",
      "model_name": "LayoutModel",
      "state": {
       "_model_module_version": "1.1.0",
       "_view_module_version": "1.1.0",
       "flex": "2"
      }
     },
     "a5232b2d2eec4c7389234cdb4867b8a9": {
      "model_module": "@jupyter-widgets/base",
      "model_module_version": "1.1.0",
      "model_name": "LayoutModel",
      "state": {
       "_model_module_version": "1.1.0",
       "_view_module_version": "1.1.0"
      }
     },
     "a54094a566b246f5a817d6596d34eae1": {
      "model_module": "@jupyter-widgets/controls",
      "model_module_version": "1.4.0",
      "model_name": "HTMLModel",
      "state": {
       "_model_module_version": "1.4.0",
       "_view_module_version": "1.4.0",
       "layout": "IPY_MODEL_f646deb9a9e8499bbbbd5f99871a08d0",
       "style": "IPY_MODEL_3cea3cb6ef6646d8acb8fc6405a13854",
       "value": "  0%"
      }
     },
     "a5baebb29bc8466ab57dc863c47202df": {
      "model_module": "@jupyter-widgets/base",
      "model_module_version": "1.1.0",
      "model_name": "LayoutModel",
      "state": {
       "_model_module_version": "1.1.0",
       "_view_module_version": "1.1.0",
       "flex": "2"
      }
     },
     "a5ce0d9c18554c2fa6b7ef97dffba289": {
      "model_module": "@jupyter-widgets/controls",
      "model_module_version": "1.4.0",
      "model_name": "FloatProgressModel",
      "state": {
       "_model_module_version": "1.4.0",
       "_view_module_version": "1.4.0",
       "layout": "IPY_MODEL_4379a9f299af471ab9a822382de57526",
       "max": 74,
       "style": "IPY_MODEL_09cf258e711144528f8c702907dfa7dd",
       "value": 74
      }
     },
     "a600c82ae0c3498e829636edb2f84f98": {
      "model_module": "@jupyter-widgets/base",
      "model_module_version": "1.1.0",
      "model_name": "LayoutModel",
      "state": {
       "_model_module_version": "1.1.0",
       "_view_module_version": "1.1.0",
       "flex": "2"
      }
     },
     "a690505ed75243e4988d389a931d0abd": {
      "model_module": "@jupyter-widgets/controls",
      "model_module_version": "1.4.0",
      "model_name": "FloatProgressModel",
      "state": {
       "_model_module_version": "1.4.0",
       "_view_module_version": "1.4.0",
       "layout": "IPY_MODEL_3ef5a7057c8c41e5881b901710e25f3b",
       "max": 2,
       "style": "IPY_MODEL_69fb4e0621224f149849304cafb5d1d6",
       "value": 2
      }
     },
     "a798d33e43d94937b128c1055fb1d919": {
      "model_module": "@jupyter-widgets/base",
      "model_module_version": "1.1.0",
      "model_name": "LayoutModel",
      "state": {
       "_model_module_version": "1.1.0",
       "_view_module_version": "1.1.0",
       "display": "inline-flex",
       "flex_flow": "row wrap",
       "width": "100%"
      }
     },
     "a79dc339328048ed9fbc3ba3ef8ab3c3": {
      "model_module": "@jupyter-widgets/controls",
      "model_module_version": "1.4.0",
      "model_name": "DescriptionStyleModel",
      "state": {
       "_model_module_version": "1.4.0",
       "_view_module_version": "1.1.0",
       "description_width": ""
      }
     },
     "a79f6e32a40949a0ab6808a2b75d563f": {
      "model_module": "@jupyter-widgets/controls",
      "model_module_version": "1.4.0",
      "model_name": "DescriptionStyleModel",
      "state": {
       "_model_module_version": "1.4.0",
       "_view_module_version": "1.1.0",
       "description_width": ""
      }
     },
     "a7d9a4c6452a4c46a4a800b468778b4e": {
      "model_module": "@jupyter-widgets/controls",
      "model_module_version": "1.4.0",
      "model_name": "DescriptionStyleModel",
      "state": {
       "_model_module_version": "1.4.0",
       "_view_module_version": "1.1.0",
       "description_width": ""
      }
     },
     "a81583e9cfab4e15b892d99a771e6490": {
      "model_module": "@jupyter-widgets/controls",
      "model_module_version": "1.4.0",
      "model_name": "HTMLModel",
      "state": {
       "_model_module_version": "1.4.0",
       "_view_module_version": "1.4.0",
       "layout": "IPY_MODEL_f060d4263f4442b994b9b49446d0030d",
       "style": "IPY_MODEL_81e2afd93eb1459796d36138e7554301",
       "value": " 0/74 [00:00&lt;?, ?it/s]"
      }
     },
     "a820bbfade544e56a5a2966ef9a6ad02": {
      "model_module": "@jupyter-widgets/controls",
      "model_module_version": "1.4.0",
      "model_name": "DescriptionStyleModel",
      "state": {
       "_model_module_version": "1.4.0",
       "_view_module_version": "1.1.0",
       "description_width": ""
      }
     },
     "aa016785abf5490c8df2be3d19771137": {
      "model_module": "@jupyter-widgets/controls",
      "model_module_version": "1.4.0",
      "model_name": "ProgressStyleModel",
      "state": {
       "_model_module_version": "1.4.0",
       "_view_module_version": "1.1.0",
       "description_width": ""
      }
     },
     "ab0a69d36cd34463bdecfb15533c50a6": {
      "model_module": "@jupyter-widgets/base",
      "model_module_version": "1.1.0",
      "model_name": "LayoutModel",
      "state": {
       "_model_module_version": "1.1.0",
       "_view_module_version": "1.1.0"
      }
     },
     "ab36e749cf8d4aa295fc07de22f869d1": {
      "model_module": "@jupyter-widgets/controls",
      "model_module_version": "1.4.0",
      "model_name": "DescriptionStyleModel",
      "state": {
       "_model_module_version": "1.4.0",
       "_view_module_version": "1.1.0",
       "description_width": ""
      }
     },
     "ab7c5c25b2204cc1a3d833d38bcf583f": {
      "model_module": "@jupyter-widgets/controls",
      "model_module_version": "1.4.0",
      "model_name": "DescriptionStyleModel",
      "state": {
       "_model_module_version": "1.4.0",
       "_view_module_version": "1.1.0",
       "description_width": ""
      }
     },
     "abc1a5574f82449984673e22f0566cd9": {
      "model_module": "@jupyter-widgets/base",
      "model_module_version": "1.1.0",
      "model_name": "LayoutModel",
      "state": {
       "_model_module_version": "1.1.0",
       "_view_module_version": "1.1.0"
      }
     },
     "ac465f01790946489619971fe7d2e989": {
      "model_module": "@jupyter-widgets/base",
      "model_module_version": "1.1.0",
      "model_name": "LayoutModel",
      "state": {
       "_model_module_version": "1.1.0",
       "_view_module_version": "1.1.0"
      }
     },
     "acbce19d7acc43438c4580c0553dbd0b": {
      "model_module": "@jupyter-widgets/controls",
      "model_module_version": "1.4.0",
      "model_name": "ProgressStyleModel",
      "state": {
       "_model_module_version": "1.4.0",
       "_view_module_version": "1.1.0",
       "description_width": ""
      }
     },
     "ad0c8cd9af384cc996bf6f927084d7fe": {
      "model_module": "@jupyter-widgets/controls",
      "model_module_version": "1.4.0",
      "model_name": "HTMLModel",
      "state": {
       "_model_module_version": "1.4.0",
       "_view_module_version": "1.4.0",
       "layout": "IPY_MODEL_3344b7957ccb48e79b22a8ca3d01805a",
       "style": "IPY_MODEL_f447ba6e13ba4ccda4c0a359a69baf69",
       "value": "Validation DataLoader 0: 100%"
      }
     },
     "ad8bcceb82b94625986508bca8461795": {
      "model_module": "@jupyter-widgets/controls",
      "model_module_version": "1.4.0",
      "model_name": "DescriptionStyleModel",
      "state": {
       "_model_module_version": "1.4.0",
       "_view_module_version": "1.1.0",
       "description_width": ""
      }
     },
     "ade9eca7f7334788881afbab8a858cf5": {
      "model_module": "@jupyter-widgets/controls",
      "model_module_version": "1.4.0",
      "model_name": "FloatProgressModel",
      "state": {
       "_model_module_version": "1.4.0",
       "_view_module_version": "1.4.0",
       "bar_style": "danger",
       "layout": "IPY_MODEL_c43d8bdc76ed4d47bfedd1867d81cb13",
       "max": 485,
       "style": "IPY_MODEL_23ef292fcb9a4a27b23eb1b840f5cac5",
       "value": 370
      }
     },
     "ae12da713f6644efa74c78162c45826a": {
      "model_module": "@jupyter-widgets/controls",
      "model_module_version": "1.4.0",
      "model_name": "FloatProgressModel",
      "state": {
       "_model_module_version": "1.4.0",
       "_view_module_version": "1.4.0",
       "layout": "IPY_MODEL_675b43bf64bd4f03ad788256009ef51b",
       "max": 74,
       "style": "IPY_MODEL_5ded274f0d7846378a6a62577eaefad7",
       "value": 74
      }
     },
     "ae6eef1de87349ab94a05ce35aa4155e": {
      "model_module": "@jupyter-widgets/base",
      "model_module_version": "1.1.0",
      "model_name": "LayoutModel",
      "state": {
       "_model_module_version": "1.1.0",
       "_view_module_version": "1.1.0",
       "display": "inline-flex",
       "flex_flow": "row wrap",
       "width": "100%"
      }
     },
     "aeea54445ad0482e9d8face6fa9ec9ee": {
      "model_module": "@jupyter-widgets/controls",
      "model_module_version": "1.4.0",
      "model_name": "DescriptionStyleModel",
      "state": {
       "_model_module_version": "1.4.0",
       "_view_module_version": "1.1.0",
       "description_width": ""
      }
     },
     "af08713f26fd4292bc8b5c4895d5f775": {
      "model_module": "@jupyter-widgets/base",
      "model_module_version": "1.1.0",
      "model_name": "LayoutModel",
      "state": {
       "_model_module_version": "1.1.0",
       "_view_module_version": "1.1.0"
      }
     },
     "afc5a3b0042e465d8946d176f1400b02": {
      "model_module": "@jupyter-widgets/controls",
      "model_module_version": "1.4.0",
      "model_name": "HTMLModel",
      "state": {
       "_model_module_version": "1.4.0",
       "_view_module_version": "1.4.0",
       "layout": "IPY_MODEL_2b7b68a7b481451dba3623975d045aec",
       "style": "IPY_MODEL_a79f6e32a40949a0ab6808a2b75d563f",
       "value": "Validation DataLoader 0: 100%"
      }
     },
     "afe530eaae964fe4abbd00a54652012b": {
      "model_module": "@jupyter-widgets/base",
      "model_module_version": "1.1.0",
      "model_name": "LayoutModel",
      "state": {
       "_model_module_version": "1.1.0",
       "_view_module_version": "1.1.0",
       "display": "inline-flex",
       "flex_flow": "row wrap",
       "width": "100%"
      }
     },
     "b0f186eceb85442b99791a0b94fc0010": {
      "model_module": "@jupyter-widgets/controls",
      "model_module_version": "1.4.0",
      "model_name": "HTMLModel",
      "state": {
       "_model_module_version": "1.4.0",
       "_view_module_version": "1.4.0",
       "layout": "IPY_MODEL_8af6636ca4c842429b33a83f67da29d3",
       "style": "IPY_MODEL_33a10741b93441c798442a4cca816d74",
       "value": "Validation DataLoader 0: 100%"
      }
     },
     "b117412bb3c74e3e90d66cab825b0c85": {
      "model_module": "@jupyter-widgets/controls",
      "model_module_version": "1.4.0",
      "model_name": "DescriptionStyleModel",
      "state": {
       "_model_module_version": "1.4.0",
       "_view_module_version": "1.1.0",
       "description_width": ""
      }
     },
     "b1212740efe0482dacd4c03a0859005f": {
      "model_module": "@jupyter-widgets/controls",
      "model_module_version": "1.4.0",
      "model_name": "HTMLModel",
      "state": {
       "_model_module_version": "1.4.0",
       "_view_module_version": "1.4.0",
       "layout": "IPY_MODEL_26a20709dc114f3d889b1d16be607aac",
       "style": "IPY_MODEL_e4326ad9cb184553b4d4763150081ae3",
       "value": "Epoch 4:  76%"
      }
     },
     "b27d94edae23435084583b1005497992": {
      "model_module": "@jupyter-widgets/controls",
      "model_module_version": "1.4.0",
      "model_name": "HBoxModel",
      "state": {
       "_model_module_version": "1.4.0",
       "_view_module_version": "1.4.0",
       "children": [
        "IPY_MODEL_103d1e8e35434bddbd02e89d6ed9fef2",
        "IPY_MODEL_b2b5a262ed0b411ebca8bf2db580445a",
        "IPY_MODEL_b7f760d919d44091ae56993401ec052a"
       ],
       "layout": "IPY_MODEL_5ba3869bf7984ff7962052322ccb399e"
      }
     },
     "b2b27dfeca584e3ab0f634f563282d7b": {
      "model_module": "@jupyter-widgets/controls",
      "model_module_version": "1.4.0",
      "model_name": "DescriptionStyleModel",
      "state": {
       "_model_module_version": "1.4.0",
       "_view_module_version": "1.1.0",
       "description_width": ""
      }
     },
     "b2b5a262ed0b411ebca8bf2db580445a": {
      "model_module": "@jupyter-widgets/controls",
      "model_module_version": "1.4.0",
      "model_name": "FloatProgressModel",
      "state": {
       "_model_module_version": "1.4.0",
       "_view_module_version": "1.4.0",
       "bar_style": "success",
       "layout": "IPY_MODEL_8b6c1db4079a4e528edc268eb7cd6247",
       "max": 74,
       "style": "IPY_MODEL_83203ab7133f4e47b63ed280c79a9682",
       "value": 74
      }
     },
     "b35c02c9aaba45aa8187f7ac351e2f9b": {
      "model_module": "@jupyter-widgets/base",
      "model_module_version": "1.1.0",
      "model_name": "LayoutModel",
      "state": {
       "_model_module_version": "1.1.0",
       "_view_module_version": "1.1.0",
       "display": "inline-flex",
       "flex_flow": "row wrap",
       "width": "100%"
      }
     },
     "b3aa30a1163547b2b21c6c362f6c420e": {
      "model_module": "@jupyter-widgets/controls",
      "model_module_version": "1.4.0",
      "model_name": "HTMLModel",
      "state": {
       "_model_module_version": "1.4.0",
       "_view_module_version": "1.4.0",
       "layout": "IPY_MODEL_05d668a7831146a0a8d9b3cb2cce2530",
       "style": "IPY_MODEL_108f1d22d17446eab8b5b328ea548110",
       "value": "Validation DataLoader 0: 100%"
      }
     },
     "b3ab50854c8e4e9da3a42a0d1bf78ae9": {
      "model_module": "@jupyter-widgets/controls",
      "model_module_version": "1.4.0",
      "model_name": "DescriptionStyleModel",
      "state": {
       "_model_module_version": "1.4.0",
       "_view_module_version": "1.1.0",
       "description_width": ""
      }
     },
     "b3dc27bb6c124bd4879fa8bdd21536c6": {
      "model_module": "@jupyter-widgets/controls",
      "model_module_version": "1.4.0",
      "model_name": "HTMLModel",
      "state": {
       "_model_module_version": "1.4.0",
       "_view_module_version": "1.4.0",
       "layout": "IPY_MODEL_98c61f7c3a514875a395011d944c84d8",
       "style": "IPY_MODEL_2660fe17b2eb4f1cb2c1e530326d0a4a",
       "value": " 74/74 [00:23&lt;00:00,  3.15it/s]"
      }
     },
     "b57d7f356ae14c1689058156659b7a20": {
      "model_module": "@jupyter-widgets/controls",
      "model_module_version": "1.4.0",
      "model_name": "HTMLModel",
      "state": {
       "_model_module_version": "1.4.0",
       "_view_module_version": "1.4.0",
       "layout": "IPY_MODEL_d49c77244adb464191ffedb8416855f7",
       "style": "IPY_MODEL_aeea54445ad0482e9d8face6fa9ec9ee",
       "value": "Validation DataLoader 0: 100%"
      }
     },
     "b5cf0674d7734eb3b8fbcf5b49554693": {
      "model_module": "@jupyter-widgets/controls",
      "model_module_version": "1.4.0",
      "model_name": "ProgressStyleModel",
      "state": {
       "_model_module_version": "1.4.0",
       "_view_module_version": "1.1.0",
       "description_width": ""
      }
     },
     "b6170a3372e54c28aeed96aa38a5425c": {
      "model_module": "@jupyter-widgets/base",
      "model_module_version": "1.1.0",
      "model_name": "LayoutModel",
      "state": {
       "_model_module_version": "1.1.0",
       "_view_module_version": "1.1.0",
       "display": "inline-flex",
       "flex_flow": "row wrap",
       "width": "100%"
      }
     },
     "b7423cd0acff4efea2f8538d0a6508b3": {
      "model_module": "@jupyter-widgets/controls",
      "model_module_version": "1.4.0",
      "model_name": "DescriptionStyleModel",
      "state": {
       "_model_module_version": "1.4.0",
       "_view_module_version": "1.1.0",
       "description_width": ""
      }
     },
     "b7c9602b9cc34be89fa7fb21145ed505": {
      "model_module": "@jupyter-widgets/base",
      "model_module_version": "1.1.0",
      "model_name": "LayoutModel",
      "state": {
       "_model_module_version": "1.1.0",
       "_view_module_version": "1.1.0",
       "flex": "2"
      }
     },
     "b7d545e820ea486f9c164981fa1abef2": {
      "model_module": "@jupyter-widgets/controls",
      "model_module_version": "1.4.0",
      "model_name": "FloatProgressModel",
      "state": {
       "_model_module_version": "1.4.0",
       "_view_module_version": "1.4.0",
       "layout": "IPY_MODEL_1cc1cf20b0ab4e08a16c2e8dd29ac896",
       "max": 74,
       "style": "IPY_MODEL_6c6bc1ce5e2442058ea100b2f9721387",
       "value": 74
      }
     },
     "b7f760d919d44091ae56993401ec052a": {
      "model_module": "@jupyter-widgets/controls",
      "model_module_version": "1.4.0",
      "model_name": "HTMLModel",
      "state": {
       "_model_module_version": "1.4.0",
       "_view_module_version": "1.4.0",
       "layout": "IPY_MODEL_7504fc13b6e94aeaaeaa1451864989a0",
       "style": "IPY_MODEL_bb75ca1956ee4f9d857532492a4272a7",
       "value": " 74/74 [00:26&lt;00:00,  2.89it/s]"
      }
     },
     "b81a8c680fe8494397daacf485e7454a": {
      "model_module": "@jupyter-widgets/base",
      "model_module_version": "1.1.0",
      "model_name": "LayoutModel",
      "state": {
       "_model_module_version": "1.1.0",
       "_view_module_version": "1.1.0"
      }
     },
     "b843f8cf7fe949b7bd9bd59bddb96955": {
      "model_module": "@jupyter-widgets/controls",
      "model_module_version": "1.4.0",
      "model_name": "FloatProgressModel",
      "state": {
       "_model_module_version": "1.4.0",
       "_view_module_version": "1.4.0",
       "bar_style": "danger",
       "layout": "IPY_MODEL_ed637598ee87449b8ca8d11b68a15b75",
       "max": 74,
       "style": "IPY_MODEL_aa016785abf5490c8df2be3d19771137"
      }
     },
     "b8ad9b7fe678412fa65487d60b230cbd": {
      "model_module": "@jupyter-widgets/base",
      "model_module_version": "1.1.0",
      "model_name": "LayoutModel",
      "state": {
       "_model_module_version": "1.1.0",
       "_view_module_version": "1.1.0"
      }
     },
     "b960f04cc19345c4bf5ed3812576c46e": {
      "model_module": "@jupyter-widgets/controls",
      "model_module_version": "1.4.0",
      "model_name": "DescriptionStyleModel",
      "state": {
       "_model_module_version": "1.4.0",
       "_view_module_version": "1.1.0",
       "description_width": ""
      }
     },
     "ba361f09779741a8939b8170c2df6b13": {
      "model_module": "@jupyter-widgets/base",
      "model_module_version": "1.1.0",
      "model_name": "LayoutModel",
      "state": {
       "_model_module_version": "1.1.0",
       "_view_module_version": "1.1.0",
       "display": "inline-flex",
       "flex_flow": "row wrap",
       "width": "100%"
      }
     },
     "ba65c6a105fb46c291063f7da323211d": {
      "model_module": "@jupyter-widgets/controls",
      "model_module_version": "1.4.0",
      "model_name": "ProgressStyleModel",
      "state": {
       "_model_module_version": "1.4.0",
       "_view_module_version": "1.1.0",
       "description_width": ""
      }
     },
     "bb75ca1956ee4f9d857532492a4272a7": {
      "model_module": "@jupyter-widgets/controls",
      "model_module_version": "1.4.0",
      "model_name": "DescriptionStyleModel",
      "state": {
       "_model_module_version": "1.4.0",
       "_view_module_version": "1.1.0",
       "description_width": ""
      }
     },
     "bc2cadd7f4624bdbbc3436a033484aef": {
      "model_module": "@jupyter-widgets/base",
      "model_module_version": "1.1.0",
      "model_name": "LayoutModel",
      "state": {
       "_model_module_version": "1.1.0",
       "_view_module_version": "1.1.0"
      }
     },
     "bcf72186a4784da19d849a3f8ca4ffe6": {
      "model_module": "@jupyter-widgets/base",
      "model_module_version": "1.1.0",
      "model_name": "LayoutModel",
      "state": {
       "_model_module_version": "1.1.0",
       "_view_module_version": "1.1.0"
      }
     },
     "bd6adb8a1bc141ca9321809fd4b1f49a": {
      "model_module": "@jupyter-widgets/base",
      "model_module_version": "1.1.0",
      "model_name": "LayoutModel",
      "state": {
       "_model_module_version": "1.1.0",
       "_view_module_version": "1.1.0",
       "display": "inline-flex",
       "flex_flow": "row wrap",
       "width": "100%"
      }
     },
     "bd8d02960909491197aa366cbdfe9c7d": {
      "model_module": "@jupyter-widgets/controls",
      "model_module_version": "1.4.0",
      "model_name": "HBoxModel",
      "state": {
       "_model_module_version": "1.4.0",
       "_view_module_version": "1.4.0",
       "children": [
        "IPY_MODEL_fc2a5e2d273e450980aae547baa8d0e5",
        "IPY_MODEL_570d1d5aa942404c8f96b4b747a43174",
        "IPY_MODEL_840bea3e38e5416aae765ff689577a31"
       ],
       "layout": "IPY_MODEL_d83768cb002c401da0700c21d06ed663"
      }
     },
     "be7e13cf831b45e790a7bab669350726": {
      "model_module": "@jupyter-widgets/controls",
      "model_module_version": "1.4.0",
      "model_name": "ProgressStyleModel",
      "state": {
       "_model_module_version": "1.4.0",
       "_view_module_version": "1.1.0",
       "description_width": ""
      }
     },
     "be97e07c1cbc4380a81bd334e45c73a8": {
      "model_module": "@jupyter-widgets/base",
      "model_module_version": "1.1.0",
      "model_name": "LayoutModel",
      "state": {
       "_model_module_version": "1.1.0",
       "_view_module_version": "1.1.0",
       "flex": "2"
      }
     },
     "c0052799f7264aefa281c5bf109fbe0d": {
      "model_module": "@jupyter-widgets/base",
      "model_module_version": "1.1.0",
      "model_name": "LayoutModel",
      "state": {
       "_model_module_version": "1.1.0",
       "_view_module_version": "1.1.0"
      }
     },
     "c0a8c94e3e0c4f41a648de55cdb97319": {
      "model_module": "@jupyter-widgets/controls",
      "model_module_version": "1.4.0",
      "model_name": "HTMLModel",
      "state": {
       "_model_module_version": "1.4.0",
       "_view_module_version": "1.4.0",
       "layout": "IPY_MODEL_ce10de560c1e4c2aa33ce5b8407a4316",
       "style": "IPY_MODEL_c43b0270e10e4b59b8329029fc4461ea",
       "value": " 74/74 [00:23&lt;00:00,  3.15it/s]"
      }
     },
     "c43b0270e10e4b59b8329029fc4461ea": {
      "model_module": "@jupyter-widgets/controls",
      "model_module_version": "1.4.0",
      "model_name": "DescriptionStyleModel",
      "state": {
       "_model_module_version": "1.4.0",
       "_view_module_version": "1.1.0",
       "description_width": ""
      }
     },
     "c43d8bdc76ed4d47bfedd1867d81cb13": {
      "model_module": "@jupyter-widgets/base",
      "model_module_version": "1.1.0",
      "model_name": "LayoutModel",
      "state": {
       "_model_module_version": "1.1.0",
       "_view_module_version": "1.1.0",
       "flex": "2"
      }
     },
     "c4c6777d3bed42ad9c80b96034a14d13": {
      "model_module": "@jupyter-widgets/base",
      "model_module_version": "1.1.0",
      "model_name": "LayoutModel",
      "state": {
       "_model_module_version": "1.1.0",
       "_view_module_version": "1.1.0"
      }
     },
     "c4f55b1fd712431db639c70f25b5e2cf": {
      "model_module": "@jupyter-widgets/controls",
      "model_module_version": "1.4.0",
      "model_name": "FloatProgressModel",
      "state": {
       "_model_module_version": "1.4.0",
       "_view_module_version": "1.4.0",
       "layout": "IPY_MODEL_be97e07c1cbc4380a81bd334e45c73a8",
       "max": 74,
       "style": "IPY_MODEL_0fc3b5edaa7843d888a3f4960e9a8a00",
       "value": 74
      }
     },
     "c526b0ed441d4eb9921538aaf31bf654": {
      "model_module": "@jupyter-widgets/base",
      "model_module_version": "1.1.0",
      "model_name": "LayoutModel",
      "state": {
       "_model_module_version": "1.1.0",
       "_view_module_version": "1.1.0",
       "display": "inline-flex",
       "flex_flow": "row wrap",
       "width": "100%"
      }
     },
     "c57e56e7ee474ecba951ebc2f30a3c12": {
      "model_module": "@jupyter-widgets/base",
      "model_module_version": "1.1.0",
      "model_name": "LayoutModel",
      "state": {
       "_model_module_version": "1.1.0",
       "_view_module_version": "1.1.0",
       "display": "inline-flex",
       "flex_flow": "row wrap",
       "width": "100%"
      }
     },
     "c60b85483c0c4f68ab36faade0a353a1": {
      "model_module": "@jupyter-widgets/base",
      "model_module_version": "1.1.0",
      "model_name": "LayoutModel",
      "state": {
       "_model_module_version": "1.1.0",
       "_view_module_version": "1.1.0"
      }
     },
     "c663a3cca0cc42329e7b7522ccc99f3d": {
      "model_module": "@jupyter-widgets/base",
      "model_module_version": "1.1.0",
      "model_name": "LayoutModel",
      "state": {
       "_model_module_version": "1.1.0",
       "_view_module_version": "1.1.0",
       "display": "inline-flex",
       "flex_flow": "row wrap",
       "width": "100%"
      }
     },
     "c72d64a28e85484b9cd880fcd1ea5c2f": {
      "model_module": "@jupyter-widgets/controls",
      "model_module_version": "1.4.0",
      "model_name": "DescriptionStyleModel",
      "state": {
       "_model_module_version": "1.4.0",
       "_view_module_version": "1.1.0",
       "description_width": ""
      }
     },
     "c86408e9274a41169cac7bcef35014e6": {
      "model_module": "@jupyter-widgets/controls",
      "model_module_version": "1.4.0",
      "model_name": "DescriptionStyleModel",
      "state": {
       "_model_module_version": "1.4.0",
       "_view_module_version": "1.1.0",
       "description_width": ""
      }
     },
     "c8b9f55b443849deb971b7d5c7996c81": {
      "model_module": "@jupyter-widgets/base",
      "model_module_version": "1.1.0",
      "model_name": "LayoutModel",
      "state": {
       "_model_module_version": "1.1.0",
       "_view_module_version": "1.1.0",
       "display": "inline-flex",
       "flex_flow": "row wrap",
       "width": "100%"
      }
     },
     "c99cc66b3e014760948bbba568372dd5": {
      "model_module": "@jupyter-widgets/controls",
      "model_module_version": "1.4.0",
      "model_name": "FloatProgressModel",
      "state": {
       "_model_module_version": "1.4.0",
       "_view_module_version": "1.4.0",
       "layout": "IPY_MODEL_071791cadaf0486580b8e86b6d2aa831",
       "max": 74,
       "style": "IPY_MODEL_a4a8f562135e4a3d9bc4d64381cc9a34",
       "value": 74
      }
     },
     "c9e7eae663bc470f885f2a52257924e8": {
      "model_module": "@jupyter-widgets/controls",
      "model_module_version": "1.4.0",
      "model_name": "DescriptionStyleModel",
      "state": {
       "_model_module_version": "1.4.0",
       "_view_module_version": "1.1.0",
       "description_width": ""
      }
     },
     "c9f1a4c5fb474c0b8e2126909185f7c8": {
      "model_module": "@jupyter-widgets/controls",
      "model_module_version": "1.4.0",
      "model_name": "FloatProgressModel",
      "state": {
       "_model_module_version": "1.4.0",
       "_view_module_version": "1.4.0",
       "bar_style": "danger",
       "layout": "IPY_MODEL_d7c855f592354dd2b149851acd1b272e",
       "max": 485,
       "style": "IPY_MODEL_f801df3133784d4285aa356ad04eae33",
       "value": 32
      }
     },
     "ca1fa4b0cdf342e4a923402f8cd88472": {
      "model_module": "@jupyter-widgets/base",
      "model_module_version": "1.1.0",
      "model_name": "LayoutModel",
      "state": {
       "_model_module_version": "1.1.0",
       "_view_module_version": "1.1.0"
      }
     },
     "ca260aede1044d7a960e115b62a8ed6e": {
      "model_module": "@jupyter-widgets/base",
      "model_module_version": "1.1.0",
      "model_name": "LayoutModel",
      "state": {
       "_model_module_version": "1.1.0",
       "_view_module_version": "1.1.0"
      }
     },
     "caa6ce3530c841f691e506c45b61afb1": {
      "model_module": "@jupyter-widgets/base",
      "model_module_version": "1.1.0",
      "model_name": "LayoutModel",
      "state": {
       "_model_module_version": "1.1.0",
       "_view_module_version": "1.1.0"
      }
     },
     "cbaa8372c89e4ca4bd7f4fb591d265cb": {
      "model_module": "@jupyter-widgets/controls",
      "model_module_version": "1.4.0",
      "model_name": "HBoxModel",
      "state": {
       "_model_module_version": "1.4.0",
       "_view_module_version": "1.4.0",
       "children": [
        "IPY_MODEL_b1212740efe0482dacd4c03a0859005f",
        "IPY_MODEL_ade9eca7f7334788881afbab8a858cf5",
        "IPY_MODEL_feed101aa34c4e74bb464afdd3372ba6"
       ],
       "layout": "IPY_MODEL_b6170a3372e54c28aeed96aa38a5425c"
      }
     },
     "cc5663a16f574630ab268ad021f6222a": {
      "model_module": "@jupyter-widgets/base",
      "model_module_version": "1.1.0",
      "model_name": "LayoutModel",
      "state": {
       "_model_module_version": "1.1.0",
       "_view_module_version": "1.1.0"
      }
     },
     "cc9c1529438346bfaa3516e4f6bcadd2": {
      "model_module": "@jupyter-widgets/controls",
      "model_module_version": "1.4.0",
      "model_name": "ProgressStyleModel",
      "state": {
       "_model_module_version": "1.4.0",
       "_view_module_version": "1.1.0",
       "description_width": ""
      }
     },
     "ccb8673acc734f76b9730cac27a62fcb": {
      "model_module": "@jupyter-widgets/base",
      "model_module_version": "1.1.0",
      "model_name": "LayoutModel",
      "state": {
       "_model_module_version": "1.1.0",
       "_view_module_version": "1.1.0"
      }
     },
     "cdbc8470e75e452da5fbfe874458f466": {
      "model_module": "@jupyter-widgets/controls",
      "model_module_version": "1.4.0",
      "model_name": "DescriptionStyleModel",
      "state": {
       "_model_module_version": "1.4.0",
       "_view_module_version": "1.1.0",
       "description_width": ""
      }
     },
     "ce10de560c1e4c2aa33ce5b8407a4316": {
      "model_module": "@jupyter-widgets/base",
      "model_module_version": "1.1.0",
      "model_name": "LayoutModel",
      "state": {
       "_model_module_version": "1.1.0",
       "_view_module_version": "1.1.0"
      }
     },
     "ce8f7daef1bf46f2b2bf2a3f8d94eac6": {
      "model_module": "@jupyter-widgets/controls",
      "model_module_version": "1.4.0",
      "model_name": "ProgressStyleModel",
      "state": {
       "_model_module_version": "1.4.0",
       "_view_module_version": "1.1.0",
       "description_width": ""
      }
     },
     "cee835de9f244ad989d74167a27ee367": {
      "model_module": "@jupyter-widgets/base",
      "model_module_version": "1.1.0",
      "model_name": "LayoutModel",
      "state": {
       "_model_module_version": "1.1.0",
       "_view_module_version": "1.1.0"
      }
     },
     "d28c5edb984b4a829faeb3b3eb05971e": {
      "model_module": "@jupyter-widgets/controls",
      "model_module_version": "1.4.0",
      "model_name": "DescriptionStyleModel",
      "state": {
       "_model_module_version": "1.4.0",
       "_view_module_version": "1.1.0",
       "description_width": ""
      }
     },
     "d28fc63851f24566bb3c61c5383994fd": {
      "model_module": "@jupyter-widgets/base",
      "model_module_version": "1.1.0",
      "model_name": "LayoutModel",
      "state": {
       "_model_module_version": "1.1.0",
       "_view_module_version": "1.1.0"
      }
     },
     "d2f3244414a4415ebf9c0d62dbd3b755": {
      "model_module": "@jupyter-widgets/base",
      "model_module_version": "1.1.0",
      "model_name": "LayoutModel",
      "state": {
       "_model_module_version": "1.1.0",
       "_view_module_version": "1.1.0"
      }
     },
     "d33794ba170a4627943f9989dcc25077": {
      "model_module": "@jupyter-widgets/base",
      "model_module_version": "1.1.0",
      "model_name": "LayoutModel",
      "state": {
       "_model_module_version": "1.1.0",
       "_view_module_version": "1.1.0",
       "display": "inline-flex",
       "flex_flow": "row wrap",
       "width": "100%"
      }
     },
     "d3a20d53028948e0b63958246e942a3c": {
      "model_module": "@jupyter-widgets/controls",
      "model_module_version": "1.4.0",
      "model_name": "DescriptionStyleModel",
      "state": {
       "_model_module_version": "1.4.0",
       "_view_module_version": "1.1.0",
       "description_width": ""
      }
     },
     "d3cee226afb24fada17fef2ffd82e5c5": {
      "model_module": "@jupyter-widgets/controls",
      "model_module_version": "1.4.0",
      "model_name": "ProgressStyleModel",
      "state": {
       "_model_module_version": "1.4.0",
       "_view_module_version": "1.1.0",
       "description_width": ""
      }
     },
     "d42f6af273d74b75a4b074fb1a940360": {
      "model_module": "@jupyter-widgets/controls",
      "model_module_version": "1.4.0",
      "model_name": "ProgressStyleModel",
      "state": {
       "_model_module_version": "1.4.0",
       "_view_module_version": "1.1.0",
       "description_width": ""
      }
     },
     "d47c3334771e4d7dbc0eacea37b706ad": {
      "model_module": "@jupyter-widgets/controls",
      "model_module_version": "1.4.0",
      "model_name": "HTMLModel",
      "state": {
       "_model_module_version": "1.4.0",
       "_view_module_version": "1.4.0",
       "layout": "IPY_MODEL_69c5c79fd7284532bc597bddd680ffa4",
       "style": "IPY_MODEL_e64a34b894d74865a2c4ab25a54d992a",
       "value": "Validation DataLoader 0: 100%"
      }
     },
     "d49c77244adb464191ffedb8416855f7": {
      "model_module": "@jupyter-widgets/base",
      "model_module_version": "1.1.0",
      "model_name": "LayoutModel",
      "state": {
       "_model_module_version": "1.1.0",
       "_view_module_version": "1.1.0"
      }
     },
     "d4ac2f884d34419ea70d6c1b52f67180": {
      "model_module": "@jupyter-widgets/base",
      "model_module_version": "1.1.0",
      "model_name": "LayoutModel",
      "state": {
       "_model_module_version": "1.1.0",
       "_view_module_version": "1.1.0",
       "display": "inline-flex",
       "flex_flow": "row wrap",
       "width": "100%"
      }
     },
     "d4b6bcee940e4509b9581c0e970c21ad": {
      "model_module": "@jupyter-widgets/controls",
      "model_module_version": "1.4.0",
      "model_name": "HTMLModel",
      "state": {
       "_model_module_version": "1.4.0",
       "_view_module_version": "1.4.0",
       "layout": "IPY_MODEL_8910044c9a1b437e8f9d3dd4d7a960d8",
       "style": "IPY_MODEL_4b0d379051d946fba39c7b961d6abecf",
       "value": " 74/74 [00:23&lt;00:00,  3.15it/s]"
      }
     },
     "d51119cc25224d41b7ed64f0a7cd38e8": {
      "model_module": "@jupyter-widgets/base",
      "model_module_version": "1.1.0",
      "model_name": "LayoutModel",
      "state": {
       "_model_module_version": "1.1.0",
       "_view_module_version": "1.1.0",
       "flex": "2"
      }
     },
     "d57e31b090e646eb811a34b5e7f2e4ca": {
      "model_module": "@jupyter-widgets/base",
      "model_module_version": "1.1.0",
      "model_name": "LayoutModel",
      "state": {
       "_model_module_version": "1.1.0",
       "_view_module_version": "1.1.0",
       "flex": "2"
      }
     },
     "d7abe4456b4547dbaad23d7efe2645ff": {
      "model_module": "@jupyter-widgets/base",
      "model_module_version": "1.1.0",
      "model_name": "LayoutModel",
      "state": {
       "_model_module_version": "1.1.0",
       "_view_module_version": "1.1.0"
      }
     },
     "d7c855f592354dd2b149851acd1b272e": {
      "model_module": "@jupyter-widgets/base",
      "model_module_version": "1.1.0",
      "model_name": "LayoutModel",
      "state": {
       "_model_module_version": "1.1.0",
       "_view_module_version": "1.1.0",
       "flex": "2"
      }
     },
     "d83768cb002c401da0700c21d06ed663": {
      "model_module": "@jupyter-widgets/base",
      "model_module_version": "1.1.0",
      "model_name": "LayoutModel",
      "state": {
       "_model_module_version": "1.1.0",
       "_view_module_version": "1.1.0",
       "display": "inline-flex",
       "flex_flow": "row wrap",
       "width": "100%"
      }
     },
     "d8c423f2aed94ab2b762cb337e525538": {
      "model_module": "@jupyter-widgets/base",
      "model_module_version": "1.1.0",
      "model_name": "LayoutModel",
      "state": {
       "_model_module_version": "1.1.0",
       "_view_module_version": "1.1.0"
      }
     },
     "d8f836445a2c41f5858548e996ec2c3d": {
      "model_module": "@jupyter-widgets/base",
      "model_module_version": "1.1.0",
      "model_name": "LayoutModel",
      "state": {
       "_model_module_version": "1.1.0",
       "_view_module_version": "1.1.0",
       "flex": "2"
      }
     },
     "d93e5e57b1bf4598a6a2ee6e4fc699c3": {
      "model_module": "@jupyter-widgets/base",
      "model_module_version": "1.1.0",
      "model_name": "LayoutModel",
      "state": {
       "_model_module_version": "1.1.0",
       "_view_module_version": "1.1.0"
      }
     },
     "d944c53c9ee04209bdd0b959d72ebb1d": {
      "model_module": "@jupyter-widgets/controls",
      "model_module_version": "1.4.0",
      "model_name": "DescriptionStyleModel",
      "state": {
       "_model_module_version": "1.4.0",
       "_view_module_version": "1.1.0",
       "description_width": ""
      }
     },
     "da2c2000b59d41e9ab2d692e4ae60073": {
      "model_module": "@jupyter-widgets/controls",
      "model_module_version": "1.4.0",
      "model_name": "HTMLModel",
      "state": {
       "_model_module_version": "1.4.0",
       "_view_module_version": "1.4.0",
       "layout": "IPY_MODEL_d8c423f2aed94ab2b762cb337e525538",
       "style": "IPY_MODEL_762404e4e53c4a2ea2e751b8b02179fa",
       "value": " 74/74 [00:23&lt;00:00,  3.15it/s]"
      }
     },
     "da47f6d81d2942d1b95baa67c245a459": {
      "model_module": "@jupyter-widgets/controls",
      "model_module_version": "1.4.0",
      "model_name": "DescriptionStyleModel",
      "state": {
       "_model_module_version": "1.4.0",
       "_view_module_version": "1.1.0",
       "description_width": ""
      }
     },
     "da61b5b4f5364261af7030dc2182c595": {
      "model_module": "@jupyter-widgets/controls",
      "model_module_version": "1.4.0",
      "model_name": "HBoxModel",
      "state": {
       "_model_module_version": "1.4.0",
       "_view_module_version": "1.4.0",
       "children": [
        "IPY_MODEL_22f57d97f52444d9a9d2329d4ae7650f",
        "IPY_MODEL_66544f24fc4b4959a2b5c01b38a766be",
        "IPY_MODEL_053f452098e741df972f5dacdcbf223f"
       ],
       "layout": "IPY_MODEL_e759c50eb2e84c0d8cdd99930083b615"
      }
     },
     "da8dfc575bd54c3b8ff39e3ddac79901": {
      "model_module": "@jupyter-widgets/controls",
      "model_module_version": "1.4.0",
      "model_name": "ProgressStyleModel",
      "state": {
       "_model_module_version": "1.4.0",
       "_view_module_version": "1.1.0",
       "description_width": ""
      }
     },
     "dbbf9d4d48f3497ea26a5b3c015c3a55": {
      "model_module": "@jupyter-widgets/controls",
      "model_module_version": "1.4.0",
      "model_name": "HTMLModel",
      "state": {
       "_model_module_version": "1.4.0",
       "_view_module_version": "1.4.0",
       "layout": "IPY_MODEL_8e4bae36bec943b095b344ac173fc5ee",
       "style": "IPY_MODEL_e89110ada6704d0ebc4bb6f0ab40f2ca",
       "value": "Validation DataLoader 0: 100%"
      }
     },
     "dc396071ec2b4a9b86385807ab81d22e": {
      "model_module": "@jupyter-widgets/controls",
      "model_module_version": "1.4.0",
      "model_name": "DescriptionStyleModel",
      "state": {
       "_model_module_version": "1.4.0",
       "_view_module_version": "1.1.0",
       "description_width": ""
      }
     },
     "dcafbbaca76b440bad495ae03eb64c52": {
      "model_module": "@jupyter-widgets/controls",
      "model_module_version": "1.4.0",
      "model_name": "FloatProgressModel",
      "state": {
       "_model_module_version": "1.4.0",
       "_view_module_version": "1.4.0",
       "layout": "IPY_MODEL_093427f5f5a149218edc206c2ae3c963",
       "max": 74,
       "style": "IPY_MODEL_82e12ec1998f46bb87a1177e28c071bc",
       "value": 74
      }
     },
     "dcb75d065538482fa28659a54a8d2175": {
      "model_module": "@jupyter-widgets/controls",
      "model_module_version": "1.4.0",
      "model_name": "DescriptionStyleModel",
      "state": {
       "_model_module_version": "1.4.0",
       "_view_module_version": "1.1.0",
       "description_width": ""
      }
     },
     "dcbf0cb930674e83970dd6749c01a9ef": {
      "model_module": "@jupyter-widgets/controls",
      "model_module_version": "1.4.0",
      "model_name": "ProgressStyleModel",
      "state": {
       "_model_module_version": "1.4.0",
       "_view_module_version": "1.1.0",
       "description_width": ""
      }
     },
     "dd28b7382e18436a95aa035780395e7e": {
      "model_module": "@jupyter-widgets/controls",
      "model_module_version": "1.4.0",
      "model_name": "HTMLModel",
      "state": {
       "_model_module_version": "1.4.0",
       "_view_module_version": "1.4.0",
       "layout": "IPY_MODEL_1f1ec8f86fde438aa17ba5537259c321",
       "style": "IPY_MODEL_09416519d80a404ab1fe9a150373303d",
       "value": "Validation DataLoader 0: 100%"
      }
     },
     "dd5eb220aac14fd8893380cc740bd322": {
      "model_module": "@jupyter-widgets/base",
      "model_module_version": "1.1.0",
      "model_name": "LayoutModel",
      "state": {
       "_model_module_version": "1.1.0",
       "_view_module_version": "1.1.0"
      }
     },
     "df6259e72cb94efab1bf9fdd77abaf53": {
      "model_module": "@jupyter-widgets/base",
      "model_module_version": "1.1.0",
      "model_name": "LayoutModel",
      "state": {
       "_model_module_version": "1.1.0",
       "_view_module_version": "1.1.0"
      }
     },
     "df9287178e754940b5903aa42d4556d2": {
      "model_module": "@jupyter-widgets/controls",
      "model_module_version": "1.4.0",
      "model_name": "HBoxModel",
      "state": {
       "_model_module_version": "1.4.0",
       "_view_module_version": "1.4.0",
       "children": [
        "IPY_MODEL_a54094a566b246f5a817d6596d34eae1",
        "IPY_MODEL_b843f8cf7fe949b7bd9bd59bddb96955",
        "IPY_MODEL_e12aa834e3d0407ebab19e1008de00e8"
       ],
       "layout": "IPY_MODEL_3d0231b16f14480eabe737d3f0c6e09a"
      }
     },
     "e03cd6f0c21c4dcfa89387b28f6d673e": {
      "model_module": "@jupyter-widgets/controls",
      "model_module_version": "1.4.0",
      "model_name": "DescriptionStyleModel",
      "state": {
       "_model_module_version": "1.4.0",
       "_view_module_version": "1.1.0",
       "description_width": ""
      }
     },
     "e12aa834e3d0407ebab19e1008de00e8": {
      "model_module": "@jupyter-widgets/controls",
      "model_module_version": "1.4.0",
      "model_name": "HTMLModel",
      "state": {
       "_model_module_version": "1.4.0",
       "_view_module_version": "1.4.0",
       "layout": "IPY_MODEL_90c6b580b0dd417ebe0b1f1fc91032cd",
       "style": "IPY_MODEL_b2b27dfeca584e3ab0f634f563282d7b",
       "value": " 0/74 [00:00&lt;?, ?it/s]"
      }
     },
     "e267dc6d61c644048d48f26e18424e4f": {
      "model_module": "@jupyter-widgets/base",
      "model_module_version": "1.1.0",
      "model_name": "LayoutModel",
      "state": {
       "_model_module_version": "1.1.0",
       "_view_module_version": "1.1.0"
      }
     },
     "e2989e978fe04cb29f09c3cdcf1cbcfa": {
      "model_module": "@jupyter-widgets/controls",
      "model_module_version": "1.4.0",
      "model_name": "FloatProgressModel",
      "state": {
       "_model_module_version": "1.4.0",
       "_view_module_version": "1.4.0",
       "layout": "IPY_MODEL_0afdfc1648d9422a96c0b31afa17b810",
       "max": 74,
       "style": "IPY_MODEL_93fd6b6d824149a8ab1a3540ba75e9fc",
       "value": 74
      }
     },
     "e38ac52de2f740bd88eb803d6fd750b8": {
      "model_module": "@jupyter-widgets/controls",
      "model_module_version": "1.4.0",
      "model_name": "ProgressStyleModel",
      "state": {
       "_model_module_version": "1.4.0",
       "_view_module_version": "1.1.0",
       "description_width": ""
      }
     },
     "e3dbce1616c74ec58f5a46c66f08fc5c": {
      "model_module": "@jupyter-widgets/controls",
      "model_module_version": "1.4.0",
      "model_name": "DescriptionStyleModel",
      "state": {
       "_model_module_version": "1.4.0",
       "_view_module_version": "1.1.0",
       "description_width": ""
      }
     },
     "e3e5f2c7afaf46a2b661ede6409d4788": {
      "model_module": "@jupyter-widgets/controls",
      "model_module_version": "1.4.0",
      "model_name": "DescriptionStyleModel",
      "state": {
       "_model_module_version": "1.4.0",
       "_view_module_version": "1.1.0",
       "description_width": ""
      }
     },
     "e4326ad9cb184553b4d4763150081ae3": {
      "model_module": "@jupyter-widgets/controls",
      "model_module_version": "1.4.0",
      "model_name": "DescriptionStyleModel",
      "state": {
       "_model_module_version": "1.4.0",
       "_view_module_version": "1.1.0",
       "description_width": ""
      }
     },
     "e46967b523b4411cb45c28ef0afc52cd": {
      "model_module": "@jupyter-widgets/controls",
      "model_module_version": "1.4.0",
      "model_name": "DescriptionStyleModel",
      "state": {
       "_model_module_version": "1.4.0",
       "_view_module_version": "1.1.0",
       "description_width": ""
      }
     },
     "e5498a7981f9447d91443cb8306f327c": {
      "model_module": "@jupyter-widgets/controls",
      "model_module_version": "1.4.0",
      "model_name": "HTMLModel",
      "state": {
       "_model_module_version": "1.4.0",
       "_view_module_version": "1.4.0",
       "layout": "IPY_MODEL_c0052799f7264aefa281c5bf109fbe0d",
       "style": "IPY_MODEL_86338998bd7540908dcf76a50b04a584",
       "value": " 74/74 [00:23&lt;00:00,  3.16it/s]"
      }
     },
     "e5aecfed0380474baa3a9c8475094056": {
      "model_module": "@jupyter-widgets/controls",
      "model_module_version": "1.4.0",
      "model_name": "HTMLModel",
      "state": {
       "_model_module_version": "1.4.0",
       "_view_module_version": "1.4.0",
       "layout": "IPY_MODEL_92d3ec2e04f94015836c2b2192687d5b",
       "style": "IPY_MODEL_75090c5d0311478d98a34df155306dea",
       "value": "Validation DataLoader 0: 100%"
      }
     },
     "e5b17103f13c4eec80f686bd3dc609ab": {
      "model_module": "@jupyter-widgets/controls",
      "model_module_version": "1.4.0",
      "model_name": "HTMLModel",
      "state": {
       "_model_module_version": "1.4.0",
       "_view_module_version": "1.4.0",
       "layout": "IPY_MODEL_cee835de9f244ad989d74167a27ee367",
       "style": "IPY_MODEL_f71e8074355a4728af242db819b89894",
       "value": " 32/485 [4:30:36&lt;63:50:44, 507.38s/it, loss=0.433, v_num=0]"
      }
     },
     "e64a34b894d74865a2c4ab25a54d992a": {
      "model_module": "@jupyter-widgets/controls",
      "model_module_version": "1.4.0",
      "model_name": "DescriptionStyleModel",
      "state": {
       "_model_module_version": "1.4.0",
       "_view_module_version": "1.1.0",
       "description_width": ""
      }
     },
     "e6a9d1498388418bb10240e3ad149d85": {
      "model_module": "@jupyter-widgets/controls",
      "model_module_version": "1.4.0",
      "model_name": "HTMLModel",
      "state": {
       "_model_module_version": "1.4.0",
       "_view_module_version": "1.4.0",
       "layout": "IPY_MODEL_56129d14ddad4daf932207a0a423d3e7",
       "style": "IPY_MODEL_15b8ddc6d9b84456847e587ff706394a",
       "value": " 0/16 [16:04&lt;?, ?it/s]"
      }
     },
     "e74166cfabe646bcb7bd0d068c55620b": {
      "model_module": "@jupyter-widgets/controls",
      "model_module_version": "1.4.0",
      "model_name": "HTMLModel",
      "state": {
       "_model_module_version": "1.4.0",
       "_view_module_version": "1.4.0",
       "layout": "IPY_MODEL_8f4456737e1340f2a0894501696be467",
       "style": "IPY_MODEL_4a852296832945c1b40a3572aa875472",
       "value": "Validation DataLoader 0: 100%"
      }
     },
     "e759c50eb2e84c0d8cdd99930083b615": {
      "model_module": "@jupyter-widgets/base",
      "model_module_version": "1.1.0",
      "model_name": "LayoutModel",
      "state": {
       "_model_module_version": "1.1.0",
       "_view_module_version": "1.1.0"
      }
     },
     "e7a1fb61110e4035b4cf8759bb693fc6": {
      "model_module": "@jupyter-widgets/controls",
      "model_module_version": "1.4.0",
      "model_name": "DescriptionStyleModel",
      "state": {
       "_model_module_version": "1.4.0",
       "_view_module_version": "1.1.0",
       "description_width": ""
      }
     },
     "e819f1ab82734c1f91100df774863bea": {
      "model_module": "@jupyter-widgets/controls",
      "model_module_version": "1.4.0",
      "model_name": "FloatProgressModel",
      "state": {
       "_model_module_version": "1.4.0",
       "_view_module_version": "1.4.0",
       "layout": "IPY_MODEL_48c26a00c2a64d5c8cbdc0b9205bf88c",
       "max": 74,
       "style": "IPY_MODEL_9fd18d7e77514666a6eb4b813ef362ad",
       "value": 74
      }
     },
     "e89110ada6704d0ebc4bb6f0ab40f2ca": {
      "model_module": "@jupyter-widgets/controls",
      "model_module_version": "1.4.0",
      "model_name": "DescriptionStyleModel",
      "state": {
       "_model_module_version": "1.4.0",
       "_view_module_version": "1.1.0",
       "description_width": ""
      }
     },
     "e8b5515d595a482fb70bbecd650552f7": {
      "model_module": "@jupyter-widgets/base",
      "model_module_version": "1.1.0",
      "model_name": "LayoutModel",
      "state": {
       "_model_module_version": "1.1.0",
       "_view_module_version": "1.1.0",
       "flex": "2"
      }
     },
     "e8bb73ccbcc14d74b5feccb5ca774dfa": {
      "model_module": "@jupyter-widgets/base",
      "model_module_version": "1.1.0",
      "model_name": "LayoutModel",
      "state": {
       "_model_module_version": "1.1.0",
       "_view_module_version": "1.1.0"
      }
     },
     "e93a7dd85bda45198980b6bddb8b15d6": {
      "model_module": "@jupyter-widgets/controls",
      "model_module_version": "1.4.0",
      "model_name": "FloatProgressModel",
      "state": {
       "_model_module_version": "1.4.0",
       "_view_module_version": "1.4.0",
       "layout": "IPY_MODEL_029b8bc1b1e24ad4a486c6194ab67696",
       "max": 74,
       "style": "IPY_MODEL_da8dfc575bd54c3b8ff39e3ddac79901",
       "value": 74
      }
     },
     "e96f6eeb3e474d4ea95135ced13b536b": {
      "model_module": "@jupyter-widgets/base",
      "model_module_version": "1.1.0",
      "model_name": "LayoutModel",
      "state": {
       "_model_module_version": "1.1.0",
       "_view_module_version": "1.1.0",
       "display": "inline-flex",
       "flex_flow": "row wrap",
       "width": "100%"
      }
     },
     "e97909e6e613460db05932147f8a6a18": {
      "model_module": "@jupyter-widgets/controls",
      "model_module_version": "1.4.0",
      "model_name": "HTMLModel",
      "state": {
       "_model_module_version": "1.4.0",
       "_view_module_version": "1.4.0",
       "layout": "IPY_MODEL_20d52ebf13224ed5b03d200f47c09b0b",
       "style": "IPY_MODEL_c86408e9274a41169cac7bcef35014e6",
       "value": "Validation DataLoader 0: 100%"
      }
     },
     "ea15bbace48748119637384e7c37a76f": {
      "model_module": "@jupyter-widgets/controls",
      "model_module_version": "1.4.0",
      "model_name": "HTMLModel",
      "state": {
       "_model_module_version": "1.4.0",
       "_view_module_version": "1.4.0",
       "layout": "IPY_MODEL_3e5964583da8451e8086a392b29b0984",
       "style": "IPY_MODEL_685a6d9391d24060866ec27b840a798e",
       "value": "Validation DataLoader 0: 100%"
      }
     },
     "eabdf18b64f44854b323aa6104bb61d1": {
      "model_module": "@jupyter-widgets/controls",
      "model_module_version": "1.4.0",
      "model_name": "HTMLModel",
      "state": {
       "_model_module_version": "1.4.0",
       "_view_module_version": "1.4.0",
       "layout": "IPY_MODEL_356cc2a9630c44aaa97efeff5e59bbbb",
       "style": "IPY_MODEL_5f97fe0f41684cfc928b5811a899a0e5",
       "value": " 0/74 [00:00&lt;?, ?it/s]"
      }
     },
     "ead53cb3994f4d8c8842f197e689d3f5": {
      "model_module": "@jupyter-widgets/controls",
      "model_module_version": "1.4.0",
      "model_name": "ProgressStyleModel",
      "state": {
       "_model_module_version": "1.4.0",
       "_view_module_version": "1.1.0",
       "description_width": ""
      }
     },
     "ebb2e7eb0f7443289d2deec0601f9680": {
      "model_module": "@jupyter-widgets/controls",
      "model_module_version": "1.4.0",
      "model_name": "FloatProgressModel",
      "state": {
       "_model_module_version": "1.4.0",
       "_view_module_version": "1.4.0",
       "layout": "IPY_MODEL_92ecd3eee4c54d649a758bea991577d2",
       "max": 74,
       "style": "IPY_MODEL_4d57dce9963f4476bbfda18388d129fb",
       "value": 74
      }
     },
     "ebda04bdd18f4901a2490634a71e72b7": {
      "model_module": "@jupyter-widgets/base",
      "model_module_version": "1.1.0",
      "model_name": "LayoutModel",
      "state": {
       "_model_module_version": "1.1.0",
       "_view_module_version": "1.1.0",
       "display": "inline-flex",
       "flex_flow": "row wrap",
       "width": "100%"
      }
     },
     "eccbd5dbe57d49bea2ea873159e986c2": {
      "model_module": "@jupyter-widgets/base",
      "model_module_version": "1.1.0",
      "model_name": "LayoutModel",
      "state": {
       "_model_module_version": "1.1.0",
       "_view_module_version": "1.1.0",
       "display": "inline-flex",
       "flex_flow": "row wrap",
       "width": "100%"
      }
     },
     "ed3506bd38224a778cdd1c1ef93967a3": {
      "model_module": "@jupyter-widgets/controls",
      "model_module_version": "1.4.0",
      "model_name": "HTMLModel",
      "state": {
       "_model_module_version": "1.4.0",
       "_view_module_version": "1.4.0",
       "layout": "IPY_MODEL_13be4ab6f8814c69b5ed01cd077215b6",
       "style": "IPY_MODEL_69b028b5dbd644a094abfdbdbd9ffff4",
       "value": " 74/74 [00:23&lt;00:00,  3.15it/s]"
      }
     },
     "ed637598ee87449b8ca8d11b68a15b75": {
      "model_module": "@jupyter-widgets/base",
      "model_module_version": "1.1.0",
      "model_name": "LayoutModel",
      "state": {
       "_model_module_version": "1.1.0",
       "_view_module_version": "1.1.0"
      }
     },
     "edd44dc4cc5d41d699d47b5d0694528d": {
      "model_module": "@jupyter-widgets/controls",
      "model_module_version": "1.4.0",
      "model_name": "HTMLModel",
      "state": {
       "_model_module_version": "1.4.0",
       "_view_module_version": "1.4.0",
       "layout": "IPY_MODEL_c4c6777d3bed42ad9c80b96034a14d13",
       "style": "IPY_MODEL_39b442d713df4a73851b3aedf5eee805",
       "value": " 16/16 [00:05&lt;00:00,  3.25it/s]"
      }
     },
     "ee352d2e0a6b4697b4540e6664a996b0": {
      "model_module": "@jupyter-widgets/base",
      "model_module_version": "1.1.0",
      "model_name": "LayoutModel",
      "state": {
       "_model_module_version": "1.1.0",
       "_view_module_version": "1.1.0"
      }
     },
     "ee91699723c14e9384613eb0f5fc61c1": {
      "model_module": "@jupyter-widgets/controls",
      "model_module_version": "1.4.0",
      "model_name": "HBoxModel",
      "state": {
       "_model_module_version": "1.4.0",
       "_view_module_version": "1.4.0",
       "children": [
        "IPY_MODEL_9d4a3552deb84495a654eba4aa9828b8",
        "IPY_MODEL_699bb49d8dc0417c962e2da912b2587b",
        "IPY_MODEL_edd44dc4cc5d41d699d47b5d0694528d"
       ],
       "layout": "IPY_MODEL_59cd8c27d3ce4291856712b82313ada0"
      }
     },
     "ef65c7f193ec4b2e87a21efae6c9f2f1": {
      "model_module": "@jupyter-widgets/controls",
      "model_module_version": "1.4.0",
      "model_name": "HTMLModel",
      "state": {
       "_model_module_version": "1.4.0",
       "_view_module_version": "1.4.0",
       "layout": "IPY_MODEL_b81a8c680fe8494397daacf485e7454a",
       "style": "IPY_MODEL_5288c3f116c8427389c48a180ad22934",
       "value": "  0%"
      }
     },
     "f060d4263f4442b994b9b49446d0030d": {
      "model_module": "@jupyter-widgets/base",
      "model_module_version": "1.1.0",
      "model_name": "LayoutModel",
      "state": {
       "_model_module_version": "1.1.0",
       "_view_module_version": "1.1.0"
      }
     },
     "f0c63e14d53c4cb88bbf1abfa8432b38": {
      "model_module": "@jupyter-widgets/controls",
      "model_module_version": "1.4.0",
      "model_name": "HTMLModel",
      "state": {
       "_model_module_version": "1.4.0",
       "_view_module_version": "1.4.0",
       "layout": "IPY_MODEL_ccb8673acc734f76b9730cac27a62fcb",
       "style": "IPY_MODEL_dc396071ec2b4a9b86385807ab81d22e",
       "value": "Sanity Checking DataLoader 0: 100%"
      }
     },
     "f0cfa9d492e146378fbe8fcb2c4fdcec": {
      "model_module": "@jupyter-widgets/base",
      "model_module_version": "1.1.0",
      "model_name": "LayoutModel",
      "state": {
       "_model_module_version": "1.1.0",
       "_view_module_version": "1.1.0"
      }
     },
     "f0d6e3c5eb3f4070a93c03bf05612b2f": {
      "model_module": "@jupyter-widgets/base",
      "model_module_version": "1.1.0",
      "model_name": "LayoutModel",
      "state": {
       "_model_module_version": "1.1.0",
       "_view_module_version": "1.1.0",
       "display": "inline-flex",
       "flex_flow": "row wrap",
       "width": "100%"
      }
     },
     "f10091e1130d4559bac9de58d1a7086c": {
      "model_module": "@jupyter-widgets/controls",
      "model_module_version": "1.4.0",
      "model_name": "DescriptionStyleModel",
      "state": {
       "_model_module_version": "1.4.0",
       "_view_module_version": "1.1.0",
       "description_width": ""
      }
     },
     "f10128859a1e4d7da0b51e52f4947792": {
      "model_module": "@jupyter-widgets/controls",
      "model_module_version": "1.4.0",
      "model_name": "DescriptionStyleModel",
      "state": {
       "_model_module_version": "1.4.0",
       "_view_module_version": "1.1.0",
       "description_width": ""
      }
     },
     "f14588c8a79b453e9a8d9efa0c6ecd83": {
      "model_module": "@jupyter-widgets/controls",
      "model_module_version": "1.4.0",
      "model_name": "HTMLModel",
      "state": {
       "_model_module_version": "1.4.0",
       "_view_module_version": "1.4.0",
       "layout": "IPY_MODEL_fae406fb184c4d5fac165672f3106e58",
       "style": "IPY_MODEL_5aef56c6e9e6404cb0f6ce3284c9e103",
       "value": " 74/74 [00:23&lt;00:00,  3.16it/s]"
      }
     },
     "f2201ebadd5a48d5a78e010494122ba0": {
      "model_module": "@jupyter-widgets/controls",
      "model_module_version": "1.4.0",
      "model_name": "HBoxModel",
      "state": {
       "_model_module_version": "1.4.0",
       "_view_module_version": "1.4.0",
       "children": [
        "IPY_MODEL_ef65c7f193ec4b2e87a21efae6c9f2f1",
        "IPY_MODEL_8a09ba9f921343659f043ea2d67979bb",
        "IPY_MODEL_a81583e9cfab4e15b892d99a771e6490"
       ],
       "layout": "IPY_MODEL_bcf72186a4784da19d849a3f8ca4ffe6"
      }
     },
     "f24aa1efdfc04a04854024dc64b36ea8": {
      "model_module": "@jupyter-widgets/controls",
      "model_module_version": "1.4.0",
      "model_name": "HTMLModel",
      "state": {
       "_model_module_version": "1.4.0",
       "_view_module_version": "1.4.0",
       "layout": "IPY_MODEL_25b49b50c74b4c11bbf5779062003c11",
       "style": "IPY_MODEL_843dabf1583a477cb8da8041d49fef32",
       "value": " 74/74 [00:23&lt;00:00,  3.16it/s]"
      }
     },
     "f34d514f9474490aac764b4b5cd1ee13": {
      "model_module": "@jupyter-widgets/controls",
      "model_module_version": "1.4.0",
      "model_name": "FloatProgressModel",
      "state": {
       "_model_module_version": "1.4.0",
       "_view_module_version": "1.4.0",
       "layout": "IPY_MODEL_87636a0a0e5946e5843fb5660b60b8db",
       "max": 74,
       "style": "IPY_MODEL_be7e13cf831b45e790a7bab669350726",
       "value": 74
      }
     },
     "f3aac648303b455b991cbf6cbbfa902d": {
      "model_module": "@jupyter-widgets/controls",
      "model_module_version": "1.4.0",
      "model_name": "FloatProgressModel",
      "state": {
       "_model_module_version": "1.4.0",
       "_view_module_version": "1.4.0",
       "layout": "IPY_MODEL_5eb9be660da34deeba5c3c08072c1774",
       "max": 74,
       "style": "IPY_MODEL_83ee58de47ea44179e413784bc98356e",
       "value": 74
      }
     },
     "f447ba6e13ba4ccda4c0a359a69baf69": {
      "model_module": "@jupyter-widgets/controls",
      "model_module_version": "1.4.0",
      "model_name": "DescriptionStyleModel",
      "state": {
       "_model_module_version": "1.4.0",
       "_view_module_version": "1.1.0",
       "description_width": ""
      }
     },
     "f600b17d49574a89beaa0456d10f9ecc": {
      "model_module": "@jupyter-widgets/controls",
      "model_module_version": "1.4.0",
      "model_name": "ProgressStyleModel",
      "state": {
       "_model_module_version": "1.4.0",
       "_view_module_version": "1.1.0",
       "description_width": ""
      }
     },
     "f61f557b55144cf796ec9be5d013d1f4": {
      "model_module": "@jupyter-widgets/base",
      "model_module_version": "1.1.0",
      "model_name": "LayoutModel",
      "state": {
       "_model_module_version": "1.1.0",
       "_view_module_version": "1.1.0",
       "display": "inline-flex",
       "flex_flow": "row wrap",
       "width": "100%"
      }
     },
     "f631983de3014b008ef40001084bd2d4": {
      "model_module": "@jupyter-widgets/base",
      "model_module_version": "1.1.0",
      "model_name": "LayoutModel",
      "state": {
       "_model_module_version": "1.1.0",
       "_view_module_version": "1.1.0",
       "flex": "2"
      }
     },
     "f646deb9a9e8499bbbbd5f99871a08d0": {
      "model_module": "@jupyter-widgets/base",
      "model_module_version": "1.1.0",
      "model_name": "LayoutModel",
      "state": {
       "_model_module_version": "1.1.0",
       "_view_module_version": "1.1.0"
      }
     },
     "f6f4fc669aea456f83d139455a208825": {
      "model_module": "@jupyter-widgets/controls",
      "model_module_version": "1.4.0",
      "model_name": "HTMLModel",
      "state": {
       "_model_module_version": "1.4.0",
       "_view_module_version": "1.4.0",
       "layout": "IPY_MODEL_85dde54b39334e46b8bc957ee9396b16",
       "style": "IPY_MODEL_035fee7ffda84af8a6713f1b6253c882",
       "value": "  0%"
      }
     },
     "f71e8074355a4728af242db819b89894": {
      "model_module": "@jupyter-widgets/controls",
      "model_module_version": "1.4.0",
      "model_name": "DescriptionStyleModel",
      "state": {
       "_model_module_version": "1.4.0",
       "_view_module_version": "1.1.0",
       "description_width": ""
      }
     },
     "f801df3133784d4285aa356ad04eae33": {
      "model_module": "@jupyter-widgets/controls",
      "model_module_version": "1.4.0",
      "model_name": "ProgressStyleModel",
      "state": {
       "_model_module_version": "1.4.0",
       "_view_module_version": "1.1.0",
       "description_width": ""
      }
     },
     "f8055d6d76cd4a56ad2b83e47e01115b": {
      "model_module": "@jupyter-widgets/controls",
      "model_module_version": "1.4.0",
      "model_name": "ProgressStyleModel",
      "state": {
       "_model_module_version": "1.4.0",
       "_view_module_version": "1.1.0",
       "description_width": ""
      }
     },
     "f87da52a5bfe41958cae7887986353c3": {
      "model_module": "@jupyter-widgets/base",
      "model_module_version": "1.1.0",
      "model_name": "LayoutModel",
      "state": {
       "_model_module_version": "1.1.0",
       "_view_module_version": "1.1.0",
       "flex": "2"
      }
     },
     "f8ced9d0dbdd47fa953da3505dd459ef": {
      "model_module": "@jupyter-widgets/controls",
      "model_module_version": "1.4.0",
      "model_name": "DescriptionStyleModel",
      "state": {
       "_model_module_version": "1.4.0",
       "_view_module_version": "1.1.0",
       "description_width": ""
      }
     },
     "f922435635474923bb46f051f48130fa": {
      "model_module": "@jupyter-widgets/base",
      "model_module_version": "1.1.0",
      "model_name": "LayoutModel",
      "state": {
       "_model_module_version": "1.1.0",
       "_view_module_version": "1.1.0"
      }
     },
     "fae406fb184c4d5fac165672f3106e58": {
      "model_module": "@jupyter-widgets/base",
      "model_module_version": "1.1.0",
      "model_name": "LayoutModel",
      "state": {
       "_model_module_version": "1.1.0",
       "_view_module_version": "1.1.0"
      }
     },
     "fc2808455e8d4c3fb929f182d4d38ff2": {
      "model_module": "@jupyter-widgets/base",
      "model_module_version": "1.1.0",
      "model_name": "LayoutModel",
      "state": {
       "_model_module_version": "1.1.0",
       "_view_module_version": "1.1.0",
       "display": "inline-flex",
       "flex_flow": "row wrap",
       "width": "100%"
      }
     },
     "fc2a5e2d273e450980aae547baa8d0e5": {
      "model_module": "@jupyter-widgets/controls",
      "model_module_version": "1.4.0",
      "model_name": "HTMLModel",
      "state": {
       "_model_module_version": "1.4.0",
       "_view_module_version": "1.4.0",
       "layout": "IPY_MODEL_604a7a81c68947e7861b98a247c5fa0a",
       "style": "IPY_MODEL_9a040418984c44478527951f5cd540aa",
       "value": "Epoch 29:  14%"
      }
     },
     "fcbf10ed320a450ea0e5dfecda62680a": {
      "model_module": "@jupyter-widgets/controls",
      "model_module_version": "1.4.0",
      "model_name": "HTMLModel",
      "state": {
       "_model_module_version": "1.4.0",
       "_view_module_version": "1.4.0",
       "layout": "IPY_MODEL_d2f3244414a4415ebf9c0d62dbd3b755",
       "style": "IPY_MODEL_d28c5edb984b4a829faeb3b3eb05971e",
       "value": " 74/74 [00:23&lt;00:00,  3.16it/s]"
      }
     },
     "fcc76bd3a887420fba72041495016811": {
      "model_module": "@jupyter-widgets/base",
      "model_module_version": "1.1.0",
      "model_name": "LayoutModel",
      "state": {
       "_model_module_version": "1.1.0",
       "_view_module_version": "1.1.0"
      }
     },
     "fd3c0cc7d2204a26a9a1d04f05fe3ba0": {
      "model_module": "@jupyter-widgets/controls",
      "model_module_version": "1.4.0",
      "model_name": "FloatProgressModel",
      "state": {
       "_model_module_version": "1.4.0",
       "_view_module_version": "1.4.0",
       "layout": "IPY_MODEL_e8b5515d595a482fb70bbecd650552f7",
       "max": 74,
       "style": "IPY_MODEL_2a8a05aafbdd460c8a553d0bd8b9a00f",
       "value": 74
      }
     },
     "fe4dff48c7554c9fab7b4a32fd64171b": {
      "model_module": "@jupyter-widgets/controls",
      "model_module_version": "1.4.0",
      "model_name": "HTMLModel",
      "state": {
       "_model_module_version": "1.4.0",
       "_view_module_version": "1.4.0",
       "layout": "IPY_MODEL_288accdb1b3f47f89c1ff886bdd343f2",
       "style": "IPY_MODEL_881d1c49b5fd477197232a7b3fa2dbbf",
       "value": " 74/74 [00:23&lt;00:00,  3.15it/s]"
      }
     },
     "fe70a8a0c4a24b6d87b068b242908d1c": {
      "model_module": "@jupyter-widgets/controls",
      "model_module_version": "1.4.0",
      "model_name": "HTMLModel",
      "state": {
       "_model_module_version": "1.4.0",
       "_view_module_version": "1.4.0",
       "layout": "IPY_MODEL_9ab87dc505724bec9d2f5a4cbf4637fe",
       "style": "IPY_MODEL_333ecb320056477993ae657c6d121772",
       "value": " 74/74 [00:23&lt;00:00,  3.15it/s]"
      }
     },
     "fedb93fa98694bfca1e40bad7514d397": {
      "model_module": "@jupyter-widgets/controls",
      "model_module_version": "1.4.0",
      "model_name": "ProgressStyleModel",
      "state": {
       "_model_module_version": "1.4.0",
       "_view_module_version": "1.1.0",
       "description_width": ""
      }
     },
     "feed101aa34c4e74bb464afdd3372ba6": {
      "model_module": "@jupyter-widgets/controls",
      "model_module_version": "1.4.0",
      "model_name": "HTMLModel",
      "state": {
       "_model_module_version": "1.4.0",
       "_view_module_version": "1.4.0",
       "layout": "IPY_MODEL_9325f8b38e504ad7aa98f7f1acb67af2",
       "style": "IPY_MODEL_7e141d17b3da435db67b4ef4f7464a0b",
       "value": " 370/485 [4:00:20&lt;1:14:41, 38.97s/it, loss=0.00797, v_num=0, val_loss=0.167]"
      }
     },
     "ff3f14a6789042e58b08939f4a65d690": {
      "model_module": "@jupyter-widgets/controls",
      "model_module_version": "1.4.0",
      "model_name": "FloatProgressModel",
      "state": {
       "_model_module_version": "1.4.0",
       "_view_module_version": "1.4.0",
       "layout": "IPY_MODEL_3bea398d29c6433aa5e7bda000c46925",
       "max": 74,
       "style": "IPY_MODEL_ba65c6a105fb46c291063f7da323211d",
       "value": 74
      }
     }
    },
    "version_major": 2,
    "version_minor": 0
   }
  }
 },
 "nbformat": 4,
 "nbformat_minor": 5
}
